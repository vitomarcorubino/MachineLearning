{
 "cells": [
  {
   "cell_type": "markdown",
   "id": "4dd56e81-74fe-4787-a6fb-47a5524970f9",
   "metadata": {},
   "source": [
    "# Esercitazione lab 5"
   ]
  },
  {
   "cell_type": "markdown",
   "id": "5ad99da5-7206-43f6-a00d-edd747e6f8d2",
   "metadata": {},
   "source": [
    "# Richieste:"
   ]
  },
  {
   "cell_type": "markdown",
   "id": "5ece55ea-caaf-48d4-92cd-116faa4e5743",
   "metadata": {},
   "source": [
    "- Modificare un esempio e premettere la ricerca di una buona scelta degli iperparametri.\n",
    "- Creare MLP con due layer nascosti e confrontare le prestazioni\n",
    "- Confronto tra MLP classifier e un modello ibrido"
   ]
  },
  {
   "cell_type": "markdown",
   "id": "9736b2ed-a780-442e-9d97-10b6322c1ea6",
   "metadata": {},
   "source": [
    "## Carico il dataset [digits] + scaling"
   ]
  },
  {
   "cell_type": "code",
   "execution_count": 3,
   "id": "a8be1da5-d7c0-4c28-b24a-97e6c7d341da",
   "metadata": {},
   "outputs": [],
   "source": [
    "from sklearn.datasets import load_digits\n",
    "from sklearn.preprocessing import StandardScaler\n",
    "\n",
    "X, y = load_digits(return_X_y=True)\n",
    "\n",
    "scaler = StandardScaler()\n",
    "X_std = scaler.fit_transform(X)"
   ]
  },
  {
   "cell_type": "markdown",
   "id": "903551e7-d616-49f3-b2bc-fcd7c84edc25",
   "metadata": {},
   "source": [
    "## Nested CV [classificazione]"
   ]
  },
  {
   "cell_type": "code",
   "execution_count": 20,
   "id": "97f5a751-b200-4f49-94c5-7bc635ba8701",
   "metadata": {},
   "outputs": [],
   "source": [
    "from sklearn.model_selection import KFold, GridSearchCV\n",
    "from sklearn.metrics import accuracy_score\n",
    "import numpy as np\n",
    "\n",
    "def nested_cv(model, param_grid, X, y, outer_splits=5,\n",
    "              inner_splits=5, scoring=['accuracy'], random_state=42, verbose=True):\n",
    "\n",
    "    outer_cv = KFold(n_splits=outer_splits, shuffle=True, random_state=random_state)\n",
    "    score_results = {metric: [] for metric in scoring}\n",
    "\n",
    "    best_param_overall = None\n",
    "    best_score = -np.inf \n",
    "\n",
    "    for outer_fold, (train_idx, test_idx) in enumerate(outer_cv.split(X), 1):\n",
    "        if verbose:\n",
    "            print(f\"\\nPerforming Outer Fold {outer_fold}/{outer_splits}\")\n",
    "\n",
    "        X_train, X_test = X[train_idx], X[test_idx]\n",
    "        y_train, y_test = y[train_idx], y[test_idx]\n",
    "\n",
    "        inner_cv = KFold(n_splits=inner_splits, shuffle=True, random_state=random_state)\n",
    "        if verbose:\n",
    "            print(\"Performing GridSearchCV...\")\n",
    "\n",
    "        grid_search = GridSearchCV(model, param_grid, cv=inner_cv,\n",
    "                                   n_jobs=-1, scoring=scoring[0])\n",
    "        grid_search.fit(X_train, y_train)\n",
    "\n",
    "        best_model = grid_search.best_estimator_\n",
    "        best_params = grid_search.best_params_\n",
    "\n",
    "        if verbose:\n",
    "            print(f\" Best Params: {best_params}\")\n",
    "\n",
    "        y_pred = best_model.predict(X_test)\n",
    "\n",
    "        if 'accuracy' in scoring:\n",
    "            acc = accuracy_score(y_test, y_pred)\n",
    "            score_results['accuracy'].append(acc)\n",
    "\n",
    "            if acc > best_score:\n",
    "                best_score = acc\n",
    "                best_param_overall = best_params\n",
    "\n",
    "            if verbose:\n",
    "                print(f\" Accuracy: {acc:.4f}\")\n",
    "\n",
    "    result = {}\n",
    "    for metric, scores in score_results.items():\n",
    "        result[f\"Nested CV {metric.upper()}\"] = f\"{np.mean(scores):.4f} ± {np.std(scores):.4f}\"\n",
    "\n",
    "    result[\"Best Parameters with highest accuracy\"] = best_param_overall\n",
    "\n",
    "    return result"
   ]
  },
  {
   "cell_type": "markdown",
   "id": "b9076695-f8a1-4a80-9558-d06059b36210",
   "metadata": {},
   "source": [
    "## MLP classifier"
   ]
  },
  {
   "cell_type": "code",
   "execution_count": 6,
   "id": "4ca31c71-bb5e-4734-b16a-c0f1a2d7e165",
   "metadata": {},
   "outputs": [
    {
     "name": "stdout",
     "output_type": "stream",
     "text": [
      "\n",
      "Performing Outer Fold 1/5\n",
      "Performing GridSearchCV...\n",
      " Best Params: {'hidden_layer_sizes': (100,), 'learning_rate': 'constant'}\n",
      " Accuracy: 0.9833\n",
      "\n",
      "Performing Outer Fold 2/5\n",
      "Performing GridSearchCV...\n",
      " Best Params: {'hidden_layer_sizes': (100,), 'learning_rate': 'constant'}\n",
      " Accuracy: 0.9750\n",
      "\n",
      "Performing Outer Fold 3/5\n",
      "Performing GridSearchCV...\n",
      " Best Params: {'hidden_layer_sizes': (50, 100, 50), 'learning_rate': 'constant'}\n",
      " Accuracy: 0.9638\n",
      "\n",
      "Performing Outer Fold 4/5\n",
      "Performing GridSearchCV...\n",
      " Best Params: {'hidden_layer_sizes': (100,), 'learning_rate': 'constant'}\n",
      " Accuracy: 0.9833\n",
      "\n",
      "Performing Outer Fold 5/5\n",
      "Performing GridSearchCV...\n",
      " Best Params: {'hidden_layer_sizes': (100,), 'learning_rate': 'constant'}\n",
      " Accuracy: 0.9666\n",
      "MLP Results: \n",
      " {'Nested CV ACCURACY': '0.9744 ± 0.0082', 'Best Parameters with highest accuracy': {'hidden_layer_sizes': (100,), 'learning_rate': 'constant'}}\n",
      "Training MLP in 54.183s\n"
     ]
    }
   ],
   "source": [
    "import time\n",
    "from sklearn.neural_network import MLPClassifier\n",
    "\n",
    "t0 = time.time()\n",
    "\n",
    "mlp_model = MLPClassifier(random_state=42, max_iter=1000)\n",
    "\n",
    "mlp_params = {\n",
    "    'hidden_layer_sizes': [(50,100,50), (100,)],\n",
    "    #'activation': ['tanh', 'relu'],\n",
    "    #'solver': ['sgd', 'adam'],\n",
    "    #'alpha': [0.0001, 0.05],\n",
    "    'learning_rate': ['constant','adaptive'],\n",
    "}\n",
    "\n",
    "mlp_results = nested_cv(mlp_model, mlp_params, X_std, y, \n",
    "                          outer_splits = 5, inner_splits = 5, \n",
    "                          scoring = ['accuracy'])\n",
    "t1 = time.time()\n",
    "\n",
    "print(f'MLP Results: \\n {mlp_results}')\n",
    "print(f'Training MLP in {(t1 - t0):.3f}s')"
   ]
  },
  {
   "cell_type": "markdown",
   "id": "22f83a77-a22a-4a05-9909-66c024b4c256",
   "metadata": {},
   "source": [
    "## Problema con make_regression"
   ]
  },
  {
   "cell_type": "markdown",
   "id": "d837d098-5b34-406e-802c-b7d1e32da0de",
   "metadata": {},
   "source": [
    "### Nested CV da utilizzare"
   ]
  },
  {
   "cell_type": "code",
   "execution_count": 7,
   "id": "0b9d86e2-8943-4e98-88c2-841869f553ae",
   "metadata": {},
   "outputs": [],
   "source": [
    "from sklearn.model_selection import KFold, GridSearchCV\n",
    "from sklearn.metrics import r2_score, mean_absolute_error, mean_squared_error\n",
    "import numpy as np\n",
    "\n",
    "def nested_cv_regression(model, param_grid, X, y, outer_splits=5,\n",
    "                         inner_splits=5, scoring=None, random_state=42, verbose=True):\n",
    "    if scoring is None:\n",
    "        scoring = ['r2']  # Default metric\n",
    "\n",
    "    outer_cv = KFold(n_splits=outer_splits, shuffle=True, random_state=random_state)\n",
    "    score_results = {metric: [] for metric in scoring}\n",
    "\n",
    "    best_param_overall = None\n",
    "    best_r2_score = -np.inf \n",
    "\n",
    "    for outer_fold, (train_idx, test_idx) in enumerate(outer_cv.split(X), 1):\n",
    "        if verbose:\n",
    "            print(f\"\\nPerforming Outer Fold {outer_fold}/{outer_splits}\")\n",
    "\n",
    "        X_train, X_test = X[train_idx], X[test_idx]\n",
    "        y_train, y_test = y[train_idx], y[test_idx]\n",
    "\n",
    "        inner_cv = KFold(n_splits=inner_splits, shuffle=True, random_state=random_state)\n",
    "        if verbose:\n",
    "            print(\"Performing GridSearchCV...\")\n",
    "\n",
    "        grid_search = GridSearchCV(model, param_grid, cv=inner_cv,\n",
    "                                   n_jobs=-1, scoring=scoring[0])\n",
    "        grid_search.fit(X_train, y_train)\n",
    "\n",
    "        best_model = grid_search.best_estimator_\n",
    "        best_params = grid_search.best_params_\n",
    "\n",
    "        if verbose:\n",
    "            print(f\" Best Params: {best_params}\")\n",
    "\n",
    "        y_pred = best_model.predict(X_test)\n",
    "\n",
    "        if 'r2' in scoring:\n",
    "            r2 = r2_score(y_test, y_pred)\n",
    "            score_results['r2'].append(r2)\n",
    "            if r2 > best_r2_score:\n",
    "                best_r2_score = r2\n",
    "                best_param_overall = best_params\n",
    "            if verbose:\n",
    "                print(f\" R²: {r2:.4f}\")\n",
    "\n",
    "        if 'mae' in scoring:\n",
    "            mae = mean_absolute_error(y_test, y_pred)\n",
    "            score_results['mae'].append(mae)\n",
    "            if verbose:\n",
    "                print(f\" MAE: {mae:.4f}\")\n",
    "\n",
    "        if 'rmse' in scoring:\n",
    "            mse = mean_squared_error(y_test, y_pred)\n",
    "            rmse = np.sqrt(mse)\n",
    "            score_results['rmse'].append(rmse)\n",
    "            if verbose:\n",
    "                print(f\" RMSE: {rmse:.4f}\")\n",
    "\n",
    "    result = {}\n",
    "    for metric, scores in score_results.items():\n",
    "        result[f\"Nested CV {metric.upper()}\"] = f\"{np.mean(scores):.4f} ± {np.std(scores):.4f}\"\n",
    "\n",
    "    result[\"Best Parameters with highest R2 score\"] = best_param_overall\n",
    "\n",
    "    return result"
   ]
  },
  {
   "cell_type": "markdown",
   "id": "6bebf154-c411-4658-aa7b-1429ed310b14",
   "metadata": {},
   "source": [
    "### MLP regressor"
   ]
  },
  {
   "cell_type": "markdown",
   "id": "ba73e071-dcd4-4853-885e-be5920c3bbf8",
   "metadata": {},
   "source": [
    "Carico il dataset con `make_regression`"
   ]
  },
  {
   "cell_type": "code",
   "execution_count": 12,
   "id": "63307c01-545e-4ac6-af79-0b4af271087b",
   "metadata": {},
   "outputs": [],
   "source": [
    "from sklearn.datasets import make_regression\n",
    "\n",
    "X, y = make_regression(n_samples=200, n_features=50, noise=2.6, bias=1, random_state= 42)\n",
    "scaler = StandardScaler()\n",
    "X_std = scaler.fit_transform(X)"
   ]
  },
  {
   "cell_type": "code",
   "execution_count": 16,
   "id": "ed671778-6412-4827-92d6-91a51baca763",
   "metadata": {},
   "outputs": [
    {
     "name": "stdout",
     "output_type": "stream",
     "text": [
      "\n",
      "Performing Outer Fold 1/5\n",
      "Performing GridSearchCV...\n",
      " Best Params: {'hidden_layer_sizes': (25,)}\n",
      " R²: 0.9631\n",
      "\n",
      "Performing Outer Fold 2/5\n",
      "Performing GridSearchCV...\n",
      " Best Params: {'hidden_layer_sizes': (20,)}\n",
      " R²: 0.9733\n",
      "\n",
      "Performing Outer Fold 3/5\n",
      "Performing GridSearchCV...\n",
      " Best Params: {'hidden_layer_sizes': (25,)}\n",
      " R²: 0.9647\n",
      "\n",
      "Performing Outer Fold 4/5\n",
      "Performing GridSearchCV...\n",
      " Best Params: {'hidden_layer_sizes': (25,)}\n",
      " R²: 0.9730\n",
      "\n",
      "Performing Outer Fold 5/5\n",
      "Performing GridSearchCV...\n",
      " Best Params: {'hidden_layer_sizes': (25,)}\n",
      " R²: 0.9663\n",
      "MLP Regression Results: \n",
      " {'Nested CV R2': '0.9681 ± 0.0043', 'Best Parameters with highest R2 score': {'hidden_layer_sizes': (20,)}}\n",
      "Training MLP in 1.344s\n"
     ]
    }
   ],
   "source": [
    "from sklearn.neural_network import MLPRegressor\n",
    "\n",
    "t0 = time.time()\n",
    "\n",
    "mlp_regr_params = {\n",
    "    'hidden_layer_sizes': [(5, 5, 5), (15,),\n",
    "                           (20,), (25,)],\n",
    "}\n",
    "\n",
    "mlp_regr_model = MLPRegressor(solver = 'sgd', max_iter=500)\n",
    "\n",
    "\n",
    "mlp_regr_results = nested_cv_regression(mlp_regr_model, mlp_regr_params, X_std, y, \n",
    "                          outer_splits = 5, inner_splits = 5, \n",
    "                          scoring = ['r2'])\n",
    "\n",
    "t1 = time.time()\n",
    "\n",
    "print(f'MLP Regression Results: \\n {mlp_regr_results}')\n",
    "print(f'Training MLP in {(t1 - t0):.3f}s')"
   ]
  },
  {
   "cell_type": "markdown",
   "id": "c414bb41-ebf1-433c-9f0d-7db983028e60",
   "metadata": {},
   "source": [
    "# Confronto tra MLP classifier e un modello ibrido \n",
    "- costruito mettendo prima un bernoulli RBM e poi seguita da un logistic regression, oppure un altro classificatore. \\\n",
    "  Mettiamo le prime feature che abbiamo imparato, che capiscono bene come clusterizzare. \\\n",
    "Avro' una versione piu' compatta e mi semplifica la costruzione del modello finale, con una classificazione semplice messo alla fine."
   ]
  },
  {
   "cell_type": "markdown",
   "id": "fd4f8710-a904-474a-8482-3776fc25c816",
   "metadata": {},
   "source": [
    "Carico il dataset"
   ]
  },
  {
   "cell_type": "code",
   "execution_count": 32,
   "id": "c5d463f0-1429-4b48-a3a1-0281a8de288a",
   "metadata": {},
   "outputs": [],
   "source": [
    "from sklearn.datasets import load_digits\n",
    "\n",
    "X, y = load_digits(return_X_y=True)"
   ]
  },
  {
   "cell_type": "markdown",
   "id": "fd37241f-1af9-4adc-b7c3-4ca206e11810",
   "metadata": {},
   "source": [
    "Pipeline"
   ]
  },
  {
   "cell_type": "code",
   "execution_count": 33,
   "id": "b04cc9cc-ac1e-4e97-a9ed-d6285479d3d2",
   "metadata": {},
   "outputs": [],
   "source": [
    "from sklearn.pipeline import Pipeline\n",
    "from sklearn.preprocessing import MinMaxScaler\n",
    "from sklearn.linear_model import LogisticRegression\n",
    "from sklearn.neural_network import BernoulliRBM\n",
    "\n",
    "# Modelli\n",
    "scaler = MinMaxScaler()\n",
    "rbm = BernoulliRBM(random_state=0)\n",
    "logistic = LogisticRegression(max_iter=1000, solver='liblinear')  \n",
    "\n",
    "# Pipeline\n",
    "pipeline = Pipeline([\n",
    "    ('scaler', scaler),\n",
    "    ('rbm', rbm),\n",
    "    ('logistic', logistic)\n",
    "])\n",
    "\n",
    "# Hyperparameter grid\n",
    "rbm_log_param = {\n",
    "    'rbm__n_components': [32, 64, 100],\n",
    "    'rbm__learning_rate': [0.01, 0.06],\n",
    "    'rbm__n_iter': [10, 20],\n",
    "    'logistic__C': [0.1, 1.0, 10]\n",
    "}"
   ]
  },
  {
   "cell_type": "markdown",
   "id": "b29a584d-107a-4de4-9f92-7ce897dea20e",
   "metadata": {},
   "source": [
    "Il modello"
   ]
  },
  {
   "cell_type": "code",
   "execution_count": 34,
   "id": "e752b791-2606-4ca0-ae33-332601d59ed9",
   "metadata": {},
   "outputs": [
    {
     "name": "stdout",
     "output_type": "stream",
     "text": [
      "\n",
      "Performing Outer Fold 1/5\n",
      "Performing GridSearchCV...\n",
      " Best Params: {'logistic__C': 10, 'rbm__learning_rate': 0.06, 'rbm__n_components': 100, 'rbm__n_iter': 20}\n",
      " Accuracy: 0.9306\n",
      "\n",
      "Performing Outer Fold 2/5\n",
      "Performing GridSearchCV...\n",
      " Best Params: {'logistic__C': 10, 'rbm__learning_rate': 0.06, 'rbm__n_components': 64, 'rbm__n_iter': 20}\n",
      " Accuracy: 0.9278\n",
      "\n",
      "Performing Outer Fold 3/5\n",
      "Performing GridSearchCV...\n",
      " Best Params: {'logistic__C': 10, 'rbm__learning_rate': 0.01, 'rbm__n_components': 100, 'rbm__n_iter': 10}\n",
      " Accuracy: 0.8468\n",
      "\n",
      "Performing Outer Fold 4/5\n",
      "Performing GridSearchCV...\n",
      " Best Params: {'logistic__C': 10, 'rbm__learning_rate': 0.01, 'rbm__n_components': 100, 'rbm__n_iter': 10}\n",
      " Accuracy: 0.8635\n",
      "\n",
      "Performing Outer Fold 5/5\n",
      "Performing GridSearchCV...\n",
      " Best Params: {'logistic__C': 10, 'rbm__learning_rate': 0.01, 'rbm__n_components': 100, 'rbm__n_iter': 10}\n",
      " Accuracy: 0.8273\n",
      "RBM + log Results: \n",
      "{'Nested CV ACCURACY': '0.8792 ± 0.0424', 'Best Parameters with highest accuracy': {'logistic__C': 10, 'rbm__learning_rate': 0.06, 'rbm__n_components': 100, 'rbm__n_iter': 20}}\n",
      "Tempo di esecuzione 110.83323526382446\n"
     ]
    }
   ],
   "source": [
    "import time\n",
    "\n",
    "start_time = time.time()\n",
    "\n",
    "rbm_log_results = nested_cv(pipeline, rbm_log_param, X_std, y,\n",
    "                        outer_splits=5, inner_splits=5,\n",
    "                        scoring=['accuracy'])\n",
    "\n",
    "end_time = time.time()\n",
    "\n",
    "print(f'RBM + log Results: \\n{rbm_log_results}')\n",
    "print(f'Tempo di esecuzione {end_time - start_time}')"
   ]
  },
  {
   "cell_type": "code",
   "execution_count": null,
   "id": "100e90b0-364d-45a5-be1b-7068d355a367",
   "metadata": {},
   "outputs": [],
   "source": []
  }
 ],
 "metadata": {
  "kernelspec": {
   "display_name": "Python 3 (ipykernel)",
   "language": "python",
   "name": "python3"
  },
  "language_info": {
   "codemirror_mode": {
    "name": "ipython",
    "version": 3
   },
   "file_extension": ".py",
   "mimetype": "text/x-python",
   "name": "python",
   "nbconvert_exporter": "python",
   "pygments_lexer": "ipython3",
   "version": "3.10.13"
  }
 },
 "nbformat": 4,
 "nbformat_minor": 5
}
