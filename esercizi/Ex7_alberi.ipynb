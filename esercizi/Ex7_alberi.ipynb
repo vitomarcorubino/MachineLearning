{
 "cells": [
  {
   "cell_type": "markdown",
   "id": "85b449b4-47c3-43e1-a417-47c0e3845125",
   "metadata": {},
   "source": [
    "# Esercitazione lab7\n",
    "#### Machine Learning"
   ]
  },
  {
   "cell_type": "markdown",
   "id": "5d2c3c4b-1b5a-44f4-a203-883db6b5c27d",
   "metadata": {},
   "source": [
    "Confronto su un dataset (es. WBC) di modelli basati su alberi:\n",
    "\n",
    "* Alberi di decisione\n",
    "* Voting Classifier di alberi semplici (es. profondità max 2)\n",
    "* Foresta Casuale di alberi semplici\n",
    "* Bagging di alberi semplici\n",
    "* Boosting di alberi semplici\n",
    "* Stacking Classifier\n",
    "\n",
    "Bisogna ottenere i parametri migliori utilizzando:\n",
    "+ CV esterna per variare i test set (Grid / Randomized)\n",
    "+ CV interna per il fine-tuning degli iperparametri\n",
    "\n",
    "Visualizzare su schermo gli alberi di decisione e utilizzare l'Isolation Forest per eliminare gli outliers.\n",
    "\n",
    "Replicare il confronto su dataset / problema di *regressione*."
   ]
  },
  {
   "cell_type": "markdown",
   "id": "a5ae3ef6-ac08-403c-8d84-0903539445fd",
   "metadata": {
    "tags": []
   },
   "source": [
    "## <font color='yellow'> Problema di Classificazione: </font>"
   ]
  },
  {
   "cell_type": "code",
   "execution_count": 1,
   "id": "c60c216f-cf68-4535-a24a-0bde6c258b5d",
   "metadata": {},
   "outputs": [],
   "source": [
    "import numpy as np\n",
    "import pandas as pd\n",
    "import matplotlib.pyplot as plt\n",
    "import time"
   ]
  },
  {
   "cell_type": "markdown",
   "id": "80aa005b-93cc-4ac1-8bec-b56a891576c5",
   "metadata": {},
   "source": [
    "### Preprocessing"
   ]
  },
  {
   "cell_type": "markdown",
   "id": "4c1ab061-2702-4383-949a-7fc986c740d3",
   "metadata": {
    "tags": []
   },
   "source": [
    "#### Caricamento del Dataset `breast_cancer`"
   ]
  },
  {
   "cell_type": "code",
   "execution_count": 9,
   "id": "0b3c240e-ef29-4291-a6cc-7c680cb8edb5",
   "metadata": {},
   "outputs": [
    {
     "name": "stdout",
     "output_type": "stream",
     "text": [
      "(*, return_X_y=False, as_frame=False)\n"
     ]
    }
   ],
   "source": [
    "from sklearn import datasets\n",
    "\n",
    "import inspect\n",
    "print(inspect.signature(datasets.load_breast_cancer))"
   ]
  },
  {
   "cell_type": "code",
   "execution_count": 39,
   "id": "9c12b895-a50f-48a5-8c75-a0f7d5c85e18",
   "metadata": {
    "tags": []
   },
   "outputs": [],
   "source": [
    "from sklearn import datasets\n",
    "\n",
    "# Dataset loading\n",
    "X,y = datasets.load_breast_cancer(return_X_y= True)"
   ]
  },
  {
   "cell_type": "code",
   "execution_count": 28,
   "id": "d6c8546f-0012-4dd6-86b4-c9509933285b",
   "metadata": {
    "tags": []
   },
   "outputs": [
    {
     "name": "stdout",
     "output_type": "stream",
     "text": [
      "Dataset examples: 569\n",
      "Features: 30\n"
     ]
    }
   ],
   "source": [
    "print(f\"Dataset examples: {X.shape[0]}\")\n",
    "print(f\"Features: {X.shape[1]}\")"
   ]
  },
  {
   "cell_type": "code",
   "execution_count": 29,
   "id": "2c79efe9-3220-4804-85ff-37d191ee8258",
   "metadata": {
    "tags": []
   },
   "outputs": [
    {
     "name": "stdout",
     "output_type": "stream",
     "text": [
      "Class distribution: {0: 212, 1: 357}\n"
     ]
    }
   ],
   "source": [
    "unique, counts = np.unique(y, return_counts = True)\n",
    "print(f\"Class distribution: {dict(zip(unique, counts))}\")"
   ]
  },
  {
   "cell_type": "markdown",
   "id": "5cc1aa1f-1ade-4642-b43d-df46c49c70f9",
   "metadata": {},
   "source": [
    "#### Nested Cross Validation [classificazione]"
   ]
  },
  {
   "cell_type": "code",
   "execution_count": 30,
   "id": "08d75a50-a258-4433-9cbc-0c0d80ce1f08",
   "metadata": {},
   "outputs": [],
   "source": [
    "from sklearn.model_selection import KFold, GridSearchCV\n",
    "from sklearn.metrics import accuracy_score\n",
    "import numpy as np\n",
    "\n",
    "def nested_cv(model, param_grid, X, y, outer_splits=5,\n",
    "              inner_splits=5, scoring=['accuracy'], random_state=42, verbose=True):\n",
    "\n",
    "    outer_cv = KFold(n_splits=outer_splits, shuffle=True, random_state=random_state)\n",
    "    score_results = {metric: [] for metric in scoring}\n",
    "\n",
    "    best_param_overall = None\n",
    "    best_score = -np.inf \n",
    "\n",
    "    for outer_fold, (train_idx, test_idx) in enumerate(outer_cv.split(X), 1):\n",
    "        if verbose:\n",
    "            print(f\"\\nPerforming Outer Fold {outer_fold}/{outer_splits}\")\n",
    "\n",
    "        X_train, X_test = X[train_idx], X[test_idx]\n",
    "        y_train, y_test = y[train_idx], y[test_idx]\n",
    "\n",
    "        inner_cv = KFold(n_splits=inner_splits, shuffle=True, random_state=random_state)\n",
    "        if verbose:\n",
    "            print(\"Performing GridSearchCV...\")\n",
    "\n",
    "        grid_search = GridSearchCV(model, param_grid, cv=inner_cv,\n",
    "                                   n_jobs=-1, scoring=scoring[0])\n",
    "        grid_search.fit(X_train, y_train)\n",
    "\n",
    "        best_model = grid_search.best_estimator_\n",
    "        best_params = grid_search.best_params_\n",
    "\n",
    "        if verbose:\n",
    "            print(f\" Best Params: {best_params}\")\n",
    "\n",
    "        y_pred = best_model.predict(X_test)\n",
    "\n",
    "        if 'accuracy' in scoring:\n",
    "            acc = accuracy_score(y_test, y_pred)\n",
    "            score_results['accuracy'].append(acc)\n",
    "\n",
    "            if acc > best_score:\n",
    "                best_score = acc\n",
    "                best_param_overall = best_params\n",
    "\n",
    "            if verbose:\n",
    "                print(f\" Accuracy: {acc:.4f}\")\n",
    "\n",
    "    result = {}\n",
    "    for metric, scores in score_results.items():\n",
    "        result[f\"Nested CV {metric.upper()}\"] = f\"{np.mean(scores):.4f} ± {np.std(scores):.4f}\"\n",
    "\n",
    "    result[\"Best Parameters with highest accuracy\"] = best_param_overall\n",
    "\n",
    "    return result"
   ]
  },
  {
   "cell_type": "markdown",
   "id": "09d8239f-898a-43c4-ac6f-e65ac1f24d9d",
   "metadata": {},
   "source": [
    "### Decision Tree Classifier"
   ]
  },
  {
   "cell_type": "code",
   "execution_count": 34,
   "id": "9af571f0-6d8f-473a-9a47-0e46674d524b",
   "metadata": {},
   "outputs": [],
   "source": [
    "from sklearn.tree import DecisionTreeClassifier"
   ]
  },
  {
   "cell_type": "code",
   "execution_count": 35,
   "id": "f737cece-0a38-447d-8bc1-a548b7ce7451",
   "metadata": {},
   "outputs": [],
   "source": [
    "dtc_model = DecisionTreeClassifier()\n",
    "dtc_params = {\n",
    "     \"criterion\" : [\"gini\", \"log_loss\", \"entropy\"],\n",
    "    \"max_depth\" : [10, 20, 30]\n",
    "}"
   ]
  },
  {
   "cell_type": "code",
   "execution_count": 36,
   "id": "2c3ee8ea-2d67-4c3f-88ad-0651640904be",
   "metadata": {},
   "outputs": [
    {
     "name": "stdout",
     "output_type": "stream",
     "text": [
      "\n",
      "Performing Outer Fold 1/5\n",
      "Performing GridSearchCV...\n",
      " Best Params: {'criterion': 'log_loss', 'max_depth': 20}\n",
      " Accuracy: 0.9474\n",
      "\n",
      "Performing Outer Fold 2/5\n",
      "Performing GridSearchCV...\n",
      " Best Params: {'criterion': 'log_loss', 'max_depth': 30}\n",
      " Accuracy: 0.9561\n",
      "\n",
      "Performing Outer Fold 3/5\n",
      "Performing GridSearchCV...\n",
      " Best Params: {'criterion': 'entropy', 'max_depth': 30}\n",
      " Accuracy: 0.9298\n",
      "\n",
      "Performing Outer Fold 4/5\n",
      "Performing GridSearchCV...\n",
      " Best Params: {'criterion': 'entropy', 'max_depth': 10}\n",
      " Accuracy: 0.9474\n",
      "\n",
      "Performing Outer Fold 5/5\n",
      "Performing GridSearchCV...\n",
      " Best Params: {'criterion': 'gini', 'max_depth': 10}\n",
      " Accuracy: 0.9469\n",
      "DecisionTree Classifier results: \n",
      "{'Nested CV ACCURACY': '0.9455 ± 0.0086', 'Best Parameters with highest accuracy': {'criterion': 'log_loss', 'max_depth': 30}}\n",
      "Execution time: 0.4457671642303467 s\n"
     ]
    }
   ],
   "source": [
    "start_time = time.time()\n",
    "\n",
    "dtc_results = nested_cv(dtc_model, dtc_params, X, y,\n",
    "                                   outer_splits = 5, inner_splits = 5,\n",
    "                                   scoring = [\"accuracy\"])\n",
    "\n",
    "end_time = time.time()\n",
    "\n",
    "print(f\"DecisionTree Classifier results: \\n{dtc_results}\")\n",
    "print(f\"Execution time: {end_time - start_time} s\")"
   ]
  },
  {
   "cell_type": "markdown",
   "id": "891b730c-1ab5-4e4f-99f9-a33a02d48007",
   "metadata": {},
   "source": [
    "#### Visualizzazione dell'Albero"
   ]
  },
  {
   "cell_type": "markdown",
   "id": "8eead44c-ddb0-4e3f-9173-97c1b6e00da7",
   "metadata": {},
   "source": [
    "Si vuole visualizzare un albero di profondità pari a $3$, utilizzando il metodo `plot_tree`: è possibile visionare sia con un grafico sia in forma testuale."
   ]
  },
  {
   "cell_type": "code",
   "execution_count": 40,
   "id": "a0601420-ce3e-40d9-9f18-c7c1cffa6830",
   "metadata": {},
   "outputs": [],
   "source": [
    "from sklearn.tree import plot_tree"
   ]
  },
  {
   "cell_type": "code",
   "execution_count": 41,
   "id": "3035de53-61ae-415e-a1ba-08d3e1eb94a7",
   "metadata": {},
   "outputs": [],
   "source": [
    "b_cancer = datasets.load_breast_cancer()"
   ]
  },
  {
   "cell_type": "code",
   "execution_count": 42,
   "id": "01e5535e-1ad4-49ee-a73c-da43add42069",
   "metadata": {},
   "outputs": [],
   "source": [
    "dtc_model = DecisionTreeClassifier(max_depth = 3)  \n",
    "dtc_model.fit(X, y)\n",
    "feature_names = b_cancer.feature_names"
   ]
  },
  {
   "cell_type": "code",
   "execution_count": 43,
   "id": "1e40300f-fa03-491c-9289-700623bcd129",
   "metadata": {},
   "outputs": [
    {
     "data": {
      "image/png": "[encoded data removed]",
      "text/plain": [
       "<Figure size 2000x1000 with 1 Axes>"
      ]
     },
     "metadata": {},
     "output_type": "display_data"
    }
   ],
   "source": [
    "plt.figure(figsize = (20, 10))  \n",
    "plot_tree(dtc_model, filled = True, feature_names = feature_names, class_names = [str(i) for i in dtc_model.classes_])\n",
    "plt.title(\"DecisionTreeClassifier with max_depth = 3\")\n",
    "plt.show()"
   ]
  },
  {
   "cell_type": "markdown",
   "id": "9d0bb4a3-ed68-4e9a-8d14-acf43af2bcf8",
   "metadata": {},
   "source": [
    "#### Rule exporting con `export_text`"
   ]
  },
  {
   "cell_type": "code",
   "execution_count": 44,
   "id": "47d3a1ef-1ad3-4e5a-a1fe-972bbf92c366",
   "metadata": {},
   "outputs": [],
   "source": [
    "from sklearn.tree import export_text"
   ]
  },
  {
   "cell_type": "code",
   "execution_count": 45,
   "id": "cb661748-41d6-4375-ab85-8259bf487a3b",
   "metadata": {},
   "outputs": [
    {
     "name": "stdout",
     "output_type": "stream",
     "text": [
      "|--- worst radius <= 16.80\n",
      "|   |--- worst concave points <= 0.14\n",
      "|   |   |--- area error <= 91.56\n",
      "|   |   |   |--- class: 1\n",
      "|   |   |--- area error >  91.56\n",
      "|   |   |   |--- class: 0\n",
      "|   |--- worst concave points >  0.14\n",
      "|   |   |--- worst texture <= 25.67\n",
      "|   |   |   |--- class: 1\n",
      "|   |   |--- worst texture >  25.67\n",
      "|   |   |   |--- class: 0\n",
      "|--- worst radius >  16.80\n",
      "|   |--- worst texture <= 19.91\n",
      "|   |   |--- concavity error <= 0.03\n",
      "|   |   |   |--- class: 1\n",
      "|   |   |--- concavity error >  0.03\n",
      "|   |   |   |--- class: 0\n",
      "|   |--- worst texture >  19.91\n",
      "|   |   |--- worst smoothness <= 0.09\n",
      "|   |   |   |--- class: 1\n",
      "|   |   |--- worst smoothness >  0.09\n",
      "|   |   |   |--- class: 0\n",
      "\n"
     ]
    }
   ],
   "source": [
    "r = export_text(dtc_model, feature_names = feature_names)\n",
    "print(r)"
   ]
  },
  {
   "cell_type": "markdown",
   "id": "afbaa550-19c6-4b56-97c6-e3451e5c24d8",
   "metadata": {},
   "source": [
    "### Metodi Ensemble"
   ]
  },
  {
   "cell_type": "markdown",
   "id": "deb39fe9-8ab6-483b-99c1-5aa5b3d69f35",
   "metadata": {},
   "source": [
    "#### Bagging Classifier"
   ]
  },
  {
   "cell_type": "code",
   "execution_count": 134,
   "id": "bb28475c-dfe0-47de-bf50-c70808615280",
   "metadata": {},
   "outputs": [],
   "source": [
    "from sklearn.ensemble import BaggingClassifier\n",
    "\n",
    "from sklearn.tree import DecisionTreeClassifier\n",
    "from sklearn.neighbors import KNeighborsClassifier"
   ]
  },
  {
   "cell_type": "code",
   "execution_count": 135,
   "id": "37a2b698-820b-46e1-87a8-ed675c368f63",
   "metadata": {},
   "outputs": [],
   "source": [
    "bgc_model = BaggingClassifier()\n",
    "\n",
    "bgc_params = {\n",
    "    \"n_estimators\": [10, 20, 50],\n",
    "    \"estimator\": [DecisionTreeClassifier(max_depth=3), KNeighborsClassifier(n_neighbors=3)],  \n",
    "    \"bootstrap\": [True, False]\n",
    "}"
   ]
  },
  {
   "cell_type": "code",
   "execution_count": 136,
   "id": "fd20ef0a-d10e-4f17-8cb0-d5a5e486c339",
   "metadata": {},
   "outputs": [
    {
     "name": "stdout",
     "output_type": "stream",
     "text": [
      "\n",
      "Performing Outer Fold 1/5\n",
      "Performing GridSearchCV...\n",
      " Best Params: {'bootstrap': True, 'estimator': DecisionTreeClassifier(max_depth=3), 'n_estimators': 20}\n",
      " Accuracy: 0.9561\n",
      "\n",
      "Performing Outer Fold 2/5\n",
      "Performing GridSearchCV...\n",
      " Best Params: {'bootstrap': True, 'estimator': DecisionTreeClassifier(max_depth=3), 'n_estimators': 50}\n",
      " Accuracy: 0.9649\n",
      "\n",
      "Performing Outer Fold 3/5\n",
      "Performing GridSearchCV...\n",
      " Best Params: {'bootstrap': True, 'estimator': DecisionTreeClassifier(max_depth=3), 'n_estimators': 20}\n",
      " Accuracy: 0.9386\n",
      "\n",
      "Performing Outer Fold 4/5\n",
      "Performing GridSearchCV...\n",
      " Best Params: {'bootstrap': True, 'estimator': DecisionTreeClassifier(max_depth=3), 'n_estimators': 20}\n",
      " Accuracy: 0.9561\n",
      "\n",
      "Performing Outer Fold 5/5\n",
      "Performing GridSearchCV...\n",
      " Best Params: {'bootstrap': True, 'estimator': DecisionTreeClassifier(max_depth=3), 'n_estimators': 50}\n",
      " Accuracy: 0.9381\n",
      "Bagging Classifier results: \n",
      "{'Nested CV ACCURACY': '0.9508 ± 0.0107', 'Best Parameters with highest accuracy': {'bootstrap': True, 'estimator': DecisionTreeClassifier(max_depth=3), 'n_estimators': 50}}\n",
      "Execution time: 10.920031070709229 s\n"
     ]
    }
   ],
   "source": [
    "start_time = time.time()\n",
    "\n",
    "bgc_results = nested_cv(bgc_model, bgc_params, X, y,\n",
    "                                   outer_splits = 5, inner_splits = 5,\n",
    "                                   scoring = [\"accuracy\"])\n",
    "\n",
    "end_time = time.time()\n",
    "\n",
    "print(f\"Bagging Classifier results: \\n{bgc_results}\")\n",
    "print(f\"Execution time: {end_time - start_time} s\")"
   ]
  },
  {
   "cell_type": "markdown",
   "id": "d319e390-32dd-445a-9024-a91b617c8f2a",
   "metadata": {},
   "source": [
    "#### AdaBoost Classifier"
   ]
  },
  {
   "cell_type": "code",
   "execution_count": 54,
   "id": "f760f28a-355e-47f4-a064-eeaa77fac91c",
   "metadata": {},
   "outputs": [],
   "source": [
    "from sklearn.ensemble import AdaBoostClassifier"
   ]
  },
  {
   "cell_type": "code",
   "execution_count": 57,
   "id": "53bfd6f3-125e-4572-93d5-ac7beb93542e",
   "metadata": {},
   "outputs": [],
   "source": [
    "ada_model = AdaBoostClassifier()#algorithm = \"SAMME\")\n",
    "ada_params = {\n",
    "    \"n_estimators\" : [50, 100, 150],\n",
    "     \"learning_rate\" : [0.1, 0.01, 0.001]\n",
    "}"
   ]
  },
  {
   "cell_type": "code",
   "execution_count": 59,
   "id": "d3393261-2d6e-4bd2-bd64-5f51f4344310",
   "metadata": {},
   "outputs": [
    {
     "name": "stdout",
     "output_type": "stream",
     "text": [
      "\n",
      "Performing Outer Fold 1/5\n",
      "Performing GridSearchCV...\n",
      " Best Params: {'learning_rate': 0.1, 'n_estimators': 100}\n",
      " Accuracy: 0.9561\n",
      "\n",
      "Performing Outer Fold 2/5\n",
      "Performing GridSearchCV...\n",
      " Best Params: {'learning_rate': 0.1, 'n_estimators': 100}\n",
      " Accuracy: 0.9561\n",
      "\n",
      "Performing Outer Fold 3/5\n",
      "Performing GridSearchCV...\n",
      " Best Params: {'learning_rate': 0.1, 'n_estimators': 150}\n",
      " Accuracy: 0.9561\n",
      "\n",
      "Performing Outer Fold 4/5\n",
      "Performing GridSearchCV...\n",
      " Best Params: {'learning_rate': 0.1, 'n_estimators': 100}\n",
      " Accuracy: 0.9825\n",
      "\n",
      "Performing Outer Fold 5/5\n",
      "Performing GridSearchCV...\n",
      " Best Params: {'learning_rate': 0.1, 'n_estimators': 150}\n",
      " Accuracy: 0.9558\n",
      "Adaboost Classifier results: \n",
      "{'Nested CV ACCURACY': '0.9613 ± 0.0106', 'Best Parameters with highest accuracy': {'learning_rate': 0.1, 'n_estimators': 100}}\n",
      "Execution time: 26.56769633293152 s\n"
     ]
    }
   ],
   "source": [
    "start_time = time.time()\n",
    "\n",
    "ada_results = nested_cv(ada_model, ada_params, X, y,\n",
    "                                   outer_splits = 5, inner_splits = 5,\n",
    "                                   scoring = [\"accuracy\"])\n",
    "\n",
    "end_time = time.time()\n",
    "\n",
    "print(f\"Adaboost Classifier results: \\n{ada_results}\")\n",
    "print(f\"Execution time: {end_time - start_time} s\")"
   ]
  },
  {
   "cell_type": "markdown",
   "id": "051893d5-a3f4-40dd-9c60-772de0e3b0fb",
   "metadata": {},
   "source": [
    "#### Gradient Boosting Classifier"
   ]
  },
  {
   "cell_type": "code",
   "execution_count": 60,
   "id": "74848c49-b316-4d09-b38c-1da2c0a97168",
   "metadata": {},
   "outputs": [],
   "source": [
    "from sklearn.ensemble import GradientBoostingClassifier"
   ]
  },
  {
   "cell_type": "code",
   "execution_count": 61,
   "id": "b09d3e05-3102-407e-a679-b072b7183bd4",
   "metadata": {},
   "outputs": [],
   "source": [
    "gbc_model = GradientBoostingClassifier()\n",
    "gbc_params = {\n",
    "    \"n_estimators\" : [50, 100, 150],\n",
    "    \"loss\" : [\"exponential\", \"log_loss\"],\n",
    "    \"learning_rate\" : [0.1, 0.01, 0.001]\n",
    "}"
   ]
  },
  {
   "cell_type": "code",
   "execution_count": 62,
   "id": "076c3193-91a4-45f4-b733-8d9232c79406",
   "metadata": {},
   "outputs": [
    {
     "name": "stdout",
     "output_type": "stream",
     "text": [
      "\n",
      "Performing Outer Fold 1/5\n",
      "Performing GridSearchCV...\n",
      " Best Params: {'learning_rate': 0.1, 'loss': 'log_loss', 'n_estimators': 150}\n",
      " Accuracy: 0.9561\n",
      "\n",
      "Performing Outer Fold 2/5\n",
      "Performing GridSearchCV...\n",
      " Best Params: {'learning_rate': 0.1, 'loss': 'log_loss', 'n_estimators': 100}\n",
      " Accuracy: 0.9561\n",
      "\n",
      "Performing Outer Fold 3/5\n",
      "Performing GridSearchCV...\n",
      " Best Params: {'learning_rate': 0.1, 'loss': 'exponential', 'n_estimators': 50}\n",
      " Accuracy: 0.9298\n",
      "\n",
      "Performing Outer Fold 4/5\n",
      "Performing GridSearchCV...\n",
      " Best Params: {'learning_rate': 0.1, 'loss': 'exponential', 'n_estimators': 100}\n",
      " Accuracy: 0.9825\n",
      "\n",
      "Performing Outer Fold 5/5\n",
      "Performing GridSearchCV...\n",
      " Best Params: {'learning_rate': 0.1, 'loss': 'exponential', 'n_estimators': 150}\n",
      " Accuracy: 0.9469\n",
      "Gradient Boosting Classifier results: \n",
      "{'Nested CV ACCURACY': '0.9543 ± 0.0170', 'Best Parameters with highest accuracy': {'learning_rate': 0.1, 'loss': 'exponential', 'n_estimators': 100}}\n",
      "Execution time: 50.445704221725464 s\n"
     ]
    }
   ],
   "source": [
    "start_time = time.time()\n",
    "\n",
    "gbc_results = nested_cv(gbc_model, gbc_params, X, y,\n",
    "                                   outer_splits = 5, inner_splits = 5,\n",
    "                                   scoring = [\"accuracy\"])\n",
    "\n",
    "end_time = time.time()\n",
    "\n",
    "print(f\"Gradient Boosting Classifier results: \\n{gbc_results}\")\n",
    "print(f\"Execution time: {end_time - start_time} s\")"
   ]
  },
  {
   "cell_type": "markdown",
   "id": "047bbd8c-e4cf-47b1-994b-b7aab919f218",
   "metadata": {},
   "source": [
    "#### Random Forest Classifier"
   ]
  },
  {
   "cell_type": "code",
   "execution_count": 63,
   "id": "2aed0b8e-c9ec-4398-a241-75c4310a9f9f",
   "metadata": {},
   "outputs": [],
   "source": [
    "from sklearn.ensemble import RandomForestClassifier"
   ]
  },
  {
   "cell_type": "code",
   "execution_count": 64,
   "id": "2ebeda0f-a80b-4a07-8b9b-8408166efd4b",
   "metadata": {},
   "outputs": [],
   "source": [
    "rfc_model = RandomForestClassifier()\n",
    "\n",
    "rfc_params = {\n",
    "     \"criterion\" : [\"gini\", \"log_loss\", \"entropy\"],\n",
    "    \"max_depth\" : [10, 20, 30],\n",
    "    \"max_features\" : [\"log2\", \"sqrt\"]\n",
    "}"
   ]
  },
  {
   "cell_type": "code",
   "execution_count": 65,
   "id": "2bafbb39-0137-49e8-baa5-48da3957ab32",
   "metadata": {},
   "outputs": [
    {
     "name": "stdout",
     "output_type": "stream",
     "text": [
      "\n",
      "Performing Outer Fold 1/5\n",
      "Performing GridSearchCV...\n",
      " Best Params: {'criterion': 'log_loss', 'max_depth': 10, 'max_features': 'log2'}\n",
      " Accuracy: 0.9649\n",
      "\n",
      "Performing Outer Fold 2/5\n",
      "Performing GridSearchCV...\n",
      " Best Params: {'criterion': 'entropy', 'max_depth': 10, 'max_features': 'log2'}\n",
      " Accuracy: 0.9825\n",
      "\n",
      "Performing Outer Fold 3/5\n",
      "Performing GridSearchCV...\n",
      " Best Params: {'criterion': 'log_loss', 'max_depth': 30, 'max_features': 'sqrt'}\n",
      " Accuracy: 0.9474\n",
      "\n",
      "Performing Outer Fold 4/5\n",
      "Performing GridSearchCV...\n",
      " Best Params: {'criterion': 'gini', 'max_depth': 10, 'max_features': 'sqrt'}\n",
      " Accuracy: 0.9649\n",
      "\n",
      "Performing Outer Fold 5/5\n",
      "Performing GridSearchCV...\n",
      " Best Params: {'criterion': 'entropy', 'max_depth': 10, 'max_features': 'log2'}\n",
      " Accuracy: 0.9558\n",
      "Random Forest Classifier results: \n",
      "{'Nested CV ACCURACY': '0.9631 ± 0.0117', 'Best Parameters with highest accuracy': {'criterion': 'entropy', 'max_depth': 10, 'max_features': 'log2'}}\n",
      "Execution time: 24.9152889251709 s\n"
     ]
    }
   ],
   "source": [
    "start_time = time.time()\n",
    "\n",
    "rfc_results = nested_cv(rfc_model, rfc_params, X, y,\n",
    "                                   outer_splits = 5, inner_splits = 5,\n",
    "                                   scoring = [\"accuracy\"])\n",
    "\n",
    "end_time = time.time()\n",
    "\n",
    "print(f\"Random Forest Classifier results: \\n{rfc_results}\")\n",
    "print(f\"Execution time: {end_time - start_time} s\")"
   ]
  },
  {
   "cell_type": "markdown",
   "id": "13070ef6-5357-49e8-aa2b-6e71c1849979",
   "metadata": {},
   "source": [
    "#### Extra Trees Classifier"
   ]
  },
  {
   "cell_type": "code",
   "execution_count": 66,
   "id": "e4217892-ba6d-4745-a5f3-d741f6385b81",
   "metadata": {},
   "outputs": [],
   "source": [
    "from sklearn.ensemble import ExtraTreesClassifier"
   ]
  },
  {
   "cell_type": "code",
   "execution_count": 69,
   "id": "1c57f8f0-8131-43b0-9096-c20c3b90ae47",
   "metadata": {},
   "outputs": [],
   "source": [
    "etc_model = ExtraTreesClassifier()\n",
    "\n",
    "etc_params = {\n",
    "    \"n_estimators\": [10, 50, 100],\n",
    "    \"criterion\": [\"gini\", \"entropy\", \"log_loss\"],  \n",
    "    \"max_depth\": [5, 10, 20],\n",
    "    #\"min_samples_split\": [2, 5, 10],\n",
    "    #\"min_samples_leaf\": [1, 2, 4],\n",
    "    \"max_features\": [\"sqrt\", \"log2\"],\n",
    "}"
   ]
  },
  {
   "cell_type": "code",
   "execution_count": 70,
   "id": "b8cbbe6a-b8f5-47d9-b4ea-fbb4c67215bd",
   "metadata": {},
   "outputs": [
    {
     "name": "stdout",
     "output_type": "stream",
     "text": [
      "\n",
      "Performing Outer Fold 1/5\n",
      "Performing GridSearchCV...\n",
      " Best Params: {'criterion': 'gini', 'max_depth': 10, 'max_features': 'sqrt', 'n_estimators': 50}\n",
      " Accuracy: 0.9737\n",
      "\n",
      "Performing Outer Fold 2/5\n",
      "Performing GridSearchCV...\n",
      " Best Params: {'criterion': 'log_loss', 'max_depth': 20, 'max_features': 'sqrt', 'n_estimators': 10}\n",
      " Accuracy: 0.9649\n",
      "\n",
      "Performing Outer Fold 3/5\n",
      "Performing GridSearchCV...\n",
      " Best Params: {'criterion': 'log_loss', 'max_depth': 10, 'max_features': 'log2', 'n_estimators': 50}\n",
      " Accuracy: 0.9298\n",
      "\n",
      "Performing Outer Fold 4/5\n",
      "Performing GridSearchCV...\n",
      " Best Params: {'criterion': 'gini', 'max_depth': 20, 'max_features': 'sqrt', 'n_estimators': 100}\n",
      " Accuracy: 0.9737\n",
      "\n",
      "Performing Outer Fold 5/5\n",
      "Performing GridSearchCV...\n",
      " Best Params: {'criterion': 'entropy', 'max_depth': 20, 'max_features': 'sqrt', 'n_estimators': 50}\n",
      " Accuracy: 0.9469\n",
      "Extra Trees Classifier results:\n"
     ]
    },
    {
     "data": {
      "text/plain": [
       "{'Nested CV ACCURACY': '0.9578 ± 0.0171',\n",
       " 'Best Parameters with highest accuracy': {'criterion': 'gini',\n",
       "  'max_depth': 10,\n",
       "  'max_features': 'sqrt',\n",
       "  'n_estimators': 50}}"
      ]
     },
     "metadata": {},
     "output_type": "display_data"
    },
    {
     "name": "stdout",
     "output_type": "stream",
     "text": [
      "Execution time: 28.405933141708374 s\n"
     ]
    }
   ],
   "source": [
    "start_time = time.time()\n",
    "\n",
    "etc_results = nested_cv(etc_model, etc_params, X, y, \n",
    "                                  outer_splits = 5, inner_splits = 5,\n",
    "                                  scoring = ['accuracy'])\n",
    "\n",
    "end_time = time.time()\n",
    "\n",
    "print(f\"Extra Trees Classifier results:\")\n",
    "display(etc_results)\n",
    "print(f\"Execution time: {end_time - start_time} s\")"
   ]
  },
  {
   "cell_type": "markdown",
   "id": "bb05ac43-5a40-41ca-984c-1a8333b10604",
   "metadata": {},
   "source": [
    "#### Voting Classifier"
   ]
  },
  {
   "cell_type": "code",
   "execution_count": 71,
   "id": "52e6db1c-6f3b-423f-be0b-b1708c71b288",
   "metadata": {},
   "outputs": [],
   "source": [
    "from sklearn.ensemble import VotingClassifier"
   ]
  },
  {
   "cell_type": "code",
   "execution_count": 72,
   "id": "1f787a92-f8a5-4eb8-be4b-12e86d13d5ef",
   "metadata": {},
   "outputs": [],
   "source": [
    "from sklearn.ensemble import RandomForestClassifier\n",
    "from sklearn.ensemble import GradientBoostingClassifier\n",
    "from sklearn.ensemble import ExtraTreesClassifier"
   ]
  },
  {
   "cell_type": "code",
   "execution_count": 73,
   "id": "1cbefce7-ed19-4726-9bb1-bcea2b9d597d",
   "metadata": {},
   "outputs": [],
   "source": [
    "estimators = [\n",
    "    (\"rfc\", RandomForestClassifier(random_state = 42)),\n",
    "    (\"gbc\", GradientBoostingClassifier(random_state = 42)),\n",
    "    (\"etc\", ExtraTreesClassifier(random_state = 42))\n",
    "]\n",
    "\n",
    "vtc_model = VotingClassifier(estimators = estimators)\n",
    "\n",
    "vtc_params = {\n",
    "    \"voting\" : [\"hard\", \"soft\"]\n",
    "}"
   ]
  },
  {
   "cell_type": "code",
   "execution_count": 74,
   "id": "54a10437-addf-46db-937c-b2cd14a08f1d",
   "metadata": {},
   "outputs": [
    {
     "name": "stdout",
     "output_type": "stream",
     "text": [
      "\n",
      "Performing Outer Fold 1/5\n",
      "Performing GridSearchCV...\n",
      " Best Params: {'voting': 'soft'}\n",
      " Accuracy: 0.9649\n",
      "\n",
      "Performing Outer Fold 2/5\n",
      "Performing GridSearchCV...\n",
      " Best Params: {'voting': 'soft'}\n",
      " Accuracy: 0.9825\n",
      "\n",
      "Performing Outer Fold 3/5\n",
      "Performing GridSearchCV...\n",
      " Best Params: {'voting': 'hard'}\n",
      " Accuracy: 0.9649\n",
      "\n",
      "Performing Outer Fold 4/5\n",
      "Performing GridSearchCV...\n",
      " Best Params: {'voting': 'soft'}\n",
      " Accuracy: 0.9825\n",
      "\n",
      "Performing Outer Fold 5/5\n",
      "Performing GridSearchCV...\n",
      " Best Params: {'voting': 'soft'}\n",
      " Accuracy: 0.9646\n",
      "Voting Classifier results: \n",
      "{'Nested CV ACCURACY': '0.9719 ± 0.0086', 'Best Parameters with highest accuracy': {'voting': 'soft'}}\n",
      "Execution time: 12.115152597427368 s\n"
     ]
    }
   ],
   "source": [
    "start_time = time.time()\n",
    "\n",
    "vtc_results = nested_cv(vtc_model, vtc_params, X, y,\n",
    "                                   outer_splits = 5, inner_splits = 5,\n",
    "                                   scoring = [\"accuracy\"])\n",
    "\n",
    "end_time = time.time()\n",
    "\n",
    "print(f\"Voting Classifier results: \\n{vtc_results}\")\n",
    "print(f\"Execution time: {end_time - start_time} s\")"
   ]
  },
  {
   "cell_type": "markdown",
   "id": "64324007-baeb-449a-87d0-6bce0c662091",
   "metadata": {},
   "source": [
    "#### Stacking Classifier"
   ]
  },
  {
   "cell_type": "code",
   "execution_count": 75,
   "id": "e30cc81e-e9e4-4865-891e-39257f0edfc1",
   "metadata": {},
   "outputs": [],
   "source": [
    "from sklearn.ensemble import StackingClassifier"
   ]
  },
  {
   "cell_type": "code",
   "execution_count": 76,
   "id": "995ec966-847a-4e98-acac-8e2418d38060",
   "metadata": {},
   "outputs": [],
   "source": [
    "from sklearn.neighbors import KNeighborsClassifier\n",
    "from sklearn.ensemble import RandomForestClassifier\n",
    "from sklearn.naive_bayes import GaussianNB"
   ]
  },
  {
   "cell_type": "code",
   "execution_count": 77,
   "id": "1c2aff0a-54cb-429e-808f-183a9216050d",
   "metadata": {},
   "outputs": [],
   "source": [
    "estimators = [\n",
    "    (\"knc\", KNeighborsClassifier()),\n",
    "    (\"rfc\", RandomForestClassifier(random_state = 42)),\n",
    "    (\"gnb\", GaussianNB())\n",
    "]\n",
    "\n",
    "stc_model = StackingClassifier(estimators = estimators)\n",
    "\n",
    "stc_params = {\n",
    "    \"stack_method\": [\"predict_proba\", \"predict\"] \n",
    "}"
   ]
  },
  {
   "cell_type": "code",
   "execution_count": 78,
   "id": "1346c405-6aaa-45da-9f65-1c1a914bc238",
   "metadata": {},
   "outputs": [
    {
     "name": "stdout",
     "output_type": "stream",
     "text": [
      "\n",
      "Performing Outer Fold 1/5\n",
      "Performing GridSearchCV...\n",
      " Best Params: {'stack_method': 'predict_proba'}\n",
      " Accuracy: 0.9737\n",
      "\n",
      "Performing Outer Fold 2/5\n",
      "Performing GridSearchCV...\n",
      " Best Params: {'stack_method': 'predict_proba'}\n",
      " Accuracy: 0.9649\n",
      "\n",
      "Performing Outer Fold 3/5\n",
      "Performing GridSearchCV...\n",
      " Best Params: {'stack_method': 'predict_proba'}\n",
      " Accuracy: 0.9474\n",
      "\n",
      "Performing Outer Fold 4/5\n",
      "Performing GridSearchCV...\n",
      " Best Params: {'stack_method': 'predict'}\n",
      " Accuracy: 0.9561\n",
      "\n",
      "Performing Outer Fold 5/5\n",
      "Performing GridSearchCV...\n",
      " Best Params: {'stack_method': 'predict_proba'}\n",
      " Accuracy: 0.9469\n",
      "Stacking Classifier results: \n",
      "{'Nested CV ACCURACY': '0.9578 ± 0.0103', 'Best Parameters with highest accuracy': {'stack_method': 'predict_proba'}}\n",
      "Execution time: 20.046314477920532 s\n"
     ]
    }
   ],
   "source": [
    "start_time = time.time()\n",
    "\n",
    "stc_results = nested_cv(stc_model, stc_params, X, y,\n",
    "                                   outer_splits = 5, inner_splits = 5,\n",
    "                                   scoring = [\"accuracy\"])\n",
    "\n",
    "end_time = time.time()\n",
    "\n",
    "print(f\"Stacking Classifier results: \\n{stc_results}\")\n",
    "print(f\"Execution time: {end_time - start_time} s\")"
   ]
  },
  {
   "cell_type": "markdown",
   "id": "26409264-3036-410a-8b30-6952341d16b3",
   "metadata": {
    "tags": []
   },
   "source": [
    "## <font color='yellow'> Problema di Regressione: </font>"
   ]
  },
  {
   "cell_type": "code",
   "execution_count": 79,
   "id": "496bc90a-b323-4460-9a68-22b42d3825bf",
   "metadata": {},
   "outputs": [],
   "source": [
    "import numpy as np\n",
    "import pandas as pd\n",
    "import matplotlib.pyplot as plt\n",
    "import time"
   ]
  },
  {
   "cell_type": "markdown",
   "id": "8157d5ff-d91e-4ec2-ac4f-23acd97745dc",
   "metadata": {},
   "source": [
    "### Preprocessing"
   ]
  },
  {
   "cell_type": "markdown",
   "id": "f3d59468-444b-4932-a9d2-961134f82fac",
   "metadata": {
    "tags": []
   },
   "source": [
    "#### Caricamento del Dataset `linnerud`"
   ]
  },
  {
   "cell_type": "markdown",
   "id": "6db6793e-9550-4f2d-8c49-1b50a29cb08f",
   "metadata": {},
   "source": [
    "Il dataset `linnerud` è un set di dati di regressione multi-output: per questo motivo, è necessario aggiungere uno \"strato\" di `MultiOutputRegressor` per ogni modello di regressione che si andrà ad utilizzare."
   ]
  },
  {
   "cell_type": "code",
   "execution_count": 187,
   "id": "6218d5be-65c5-400f-a69f-1bb9fc7fd242",
   "metadata": {},
   "outputs": [],
   "source": [
    "from sklearn.multioutput import MultiOutputRegressor"
   ]
  },
  {
   "cell_type": "code",
   "execution_count": 80,
   "id": "7bed6124-f549-4c2c-90c1-0a4afc3d9f45",
   "metadata": {
    "tags": []
   },
   "outputs": [],
   "source": [
    "from sklearn import datasets\n",
    "\n",
    "# Dataset loading\n",
    "linnerud = datasets.load_linnerud()\n",
    "\n",
    "X, y = datasets.load_linnerud(return_X_y= True)"
   ]
  },
  {
   "cell_type": "code",
   "execution_count": 81,
   "id": "4b493714-e1ad-4a9c-b7b6-8f014da16a52",
   "metadata": {
    "tags": []
   },
   "outputs": [
    {
     "name": "stdout",
     "output_type": "stream",
     "text": [
      "Dataset examples: 20\n",
      "Features: 3\n"
     ]
    }
   ],
   "source": [
    "print(f\"Dataset examples: {X.shape[0]}\")\n",
    "print(f\"Features: {X.shape[1]}\")"
   ]
  },
  {
   "cell_type": "code",
   "execution_count": 82,
   "id": "3a3b6b11-1f44-4d15-ac60-73415d385901",
   "metadata": {
    "tags": []
   },
   "outputs": [
    {
     "name": "stdout",
     "output_type": "stream",
     "text": [
      "Target names: ['Weight', 'Waist', 'Pulse']\n",
      "Features names: ['Chins', 'Situps', 'Jumps']\n"
     ]
    }
   ],
   "source": [
    "print(f\"Target names: {linnerud.target_names}\")\n",
    "print(f\"Features names: {linnerud.feature_names}\")"
   ]
  },
  {
   "cell_type": "code",
   "execution_count": 83,
   "id": "f086aa8b-fdf9-49e2-89d5-8703ad894bb3",
   "metadata": {},
   "outputs": [
    {
     "name": "stdout",
     "output_type": "stream",
     "text": [
      ".. _linnerrud_dataset:\n",
      "\n",
      "Linnerrud dataset\n",
      "-----------------\n",
      "\n",
      "**Data Set Characteristics:**\n",
      "\n",
      ":Number of Instances: 20\n",
      ":Number of Attributes: 3\n",
      ":Missing Attribute Values: None\n",
      "\n",
      "The Linnerud dataset is a multi-output regression dataset. It consists of three\n",
      "exercise (data) and three physiological (target) variables collected from\n",
      "twenty middle-aged men in a fitness club:\n",
      "\n",
      "- *physiological* - CSV containing 20 observations on 3 physiological variables:\n",
      "   Weight, Waist and Pulse.\n",
      "- *exercise* - CSV containing 20 observations on 3 exercise variables:\n",
      "   Chins, Situps and Jumps.\n",
      "\n",
      ".. dropdown:: References\n",
      "\n",
      "   * Tenenhaus, M. (1998). La regression PLS: theorie et pratique. Paris:\n",
      "     Editions Technic.\n",
      "\n"
     ]
    }
   ],
   "source": [
    "print(linnerud.DESCR)"
   ]
  },
  {
   "cell_type": "markdown",
   "id": "aeeccb86-5e10-4278-84d6-76c98538275e",
   "metadata": {},
   "source": [
    "## Nested CV [regressione]"
   ]
  },
  {
   "cell_type": "code",
   "execution_count": 88,
   "id": "23b8da3f-8c62-41aa-b29c-7fd04a9cc170",
   "metadata": {},
   "outputs": [],
   "source": [
    "from sklearn.model_selection import KFold, GridSearchCV\n",
    "from sklearn.metrics import r2_score, mean_absolute_error, mean_squared_error\n",
    "import numpy as np\n",
    "\n",
    "def nested_cv_regression(model, param_grid, X, y, outer_splits=5,\n",
    "                         inner_splits=5, scoring=None, random_state=42, verbose=True):\n",
    "    if scoring is None:\n",
    "        scoring = ['r2']  # Default metric\n",
    "\n",
    "    outer_cv = KFold(n_splits=outer_splits, shuffle=True, random_state=random_state)\n",
    "    score_results = {metric: [] for metric in scoring}\n",
    "\n",
    "    best_param_overall = None\n",
    "    best_r2_score = -np.inf \n",
    "\n",
    "    for outer_fold, (train_idx, test_idx) in enumerate(outer_cv.split(X), 1):\n",
    "        if verbose:\n",
    "            print(f\"\\nPerforming Outer Fold {outer_fold}/{outer_splits}\")\n",
    "\n",
    "        X_train, X_test = X[train_idx], X[test_idx]\n",
    "        y_train, y_test = y[train_idx], y[test_idx]\n",
    "\n",
    "        inner_cv = KFold(n_splits=inner_splits, shuffle=True, random_state=random_state)\n",
    "        if verbose:\n",
    "            print(\"Performing GridSearchCV...\")\n",
    "\n",
    "        grid_search = GridSearchCV(model, param_grid, cv=inner_cv,\n",
    "                                   n_jobs=-1, scoring=scoring[0])\n",
    "        grid_search.fit(X_train, y_train)\n",
    "\n",
    "        best_model = grid_search.best_estimator_\n",
    "        best_params = grid_search.best_params_\n",
    "\n",
    "        if verbose:\n",
    "            print(f\" Best Params: {best_params}\")\n",
    "\n",
    "        y_pred = best_model.predict(X_test)\n",
    "\n",
    "        if 'r2' in scoring:\n",
    "            r2 = r2_score(y_test, y_pred)\n",
    "            score_results['r2'].append(r2)\n",
    "            if r2 > best_r2_score:\n",
    "                best_r2_score = r2\n",
    "                best_param_overall = best_params\n",
    "            if verbose:\n",
    "                print(f\" R²: {r2:.4f}\")\n",
    "\n",
    "        if 'mae' in scoring:\n",
    "            mae = mean_absolute_error(y_test, y_pred)\n",
    "            score_results['mae'].append(mae)\n",
    "            if verbose:\n",
    "                print(f\" MAE: {mae:.4f}\")\n",
    "\n",
    "        if 'rmse' in scoring:\n",
    "            mse = mean_squared_error(y_test, y_pred)\n",
    "            rmse = np.sqrt(mse)\n",
    "            score_results['rmse'].append(rmse)\n",
    "            if verbose:\n",
    "                print(f\" RMSE: {rmse:.4f}\")\n",
    "\n",
    "    result = {}\n",
    "    for metric, scores in score_results.items():\n",
    "        result[f\"Nested CV {metric.upper()}\"] = f\"{np.mean(scores):.4f} ± {np.std(scores):.4f}\"\n",
    "\n",
    "    result[\"Best Parameters with highest R2 score\"] = best_param_overall\n",
    "\n",
    "    return result"
   ]
  },
  {
   "cell_type": "markdown",
   "id": "ab3d479d-1252-497f-be56-53faeab04c12",
   "metadata": {},
   "source": [
    "### Decision Tree Regressor"
   ]
  },
  {
   "cell_type": "code",
   "execution_count": 85,
   "id": "229cc400-4568-4715-8ba3-b0ca64f4fba6",
   "metadata": {},
   "outputs": [],
   "source": [
    "from sklearn.multioutput import MultiOutputRegressor\n",
    "from sklearn.tree import DecisionTreeRegressor"
   ]
  },
  {
   "cell_type": "code",
   "execution_count": 86,
   "id": "d0c687a5-2bc6-46f3-861a-b02e3eb6d6ab",
   "metadata": {},
   "outputs": [],
   "source": [
    "dtr_model = MultiOutputRegressor(DecisionTreeRegressor(random_state = 42))\n",
    "\n",
    "dtr_params = {\n",
    "    \"estimator__max_depth\": [1, 2, 5, 10],\n",
    "    \"estimator__splitter\": [\"best\", \"random\"]\n",
    "}"
   ]
  },
  {
   "cell_type": "code",
   "execution_count": 89,
   "id": "e2f6745b-a433-43fc-9ae0-8856e1a2f5ba",
   "metadata": {},
   "outputs": [
    {
     "name": "stdout",
     "output_type": "stream",
     "text": [
      "\n",
      "Performing Outer Fold 1/5\n",
      "Performing GridSearchCV...\n",
      " Best Params: {'estimator__max_depth': 1, 'estimator__splitter': 'best'}\n",
      " R²: -0.4967\n",
      "\n",
      "Performing Outer Fold 2/5\n",
      "Performing GridSearchCV...\n",
      " Best Params: {'estimator__max_depth': 1, 'estimator__splitter': 'random'}\n",
      " R²: -1.1030\n",
      "\n",
      "Performing Outer Fold 3/5\n",
      "Performing GridSearchCV...\n",
      " Best Params: {'estimator__max_depth': 1, 'estimator__splitter': 'random'}\n",
      " R²: -0.9596\n",
      "\n",
      "Performing Outer Fold 4/5\n",
      "Performing GridSearchCV...\n",
      " Best Params: {'estimator__max_depth': 1, 'estimator__splitter': 'random'}\n",
      " R²: -5.3509\n",
      "\n",
      "Performing Outer Fold 5/5\n",
      "Performing GridSearchCV...\n",
      " Best Params: {'estimator__max_depth': 1, 'estimator__splitter': 'random'}\n",
      " R²: -0.3240\n",
      "Decision Tree Regressor results:\n"
     ]
    },
    {
     "data": {
      "text/plain": [
       "{'Nested CV R2': '-1.6468 ± 1.8741',\n",
       " 'Best Parameters with highest R2 score': {'estimator__max_depth': 1,\n",
       "  'estimator__splitter': 'random'}}"
      ]
     },
     "metadata": {},
     "output_type": "display_data"
    },
    {
     "name": "stdout",
     "output_type": "stream",
     "text": [
      "Execution time: 1.9362075328826904 s\n"
     ]
    }
   ],
   "source": [
    "start_time = time.time()\n",
    "\n",
    "dtr_results = nested_cv_regression(dtr_model, dtr_params, X, y, \n",
    "                                  outer_splits = 5, inner_splits = 5,\n",
    "                                  scoring = [\"r2\"])\n",
    "\n",
    "end_time = time.time()\n",
    "\n",
    "print(f\"Decision Tree Regressor results:\")\n",
    "display(dtr_results)\n",
    "print(f\"Execution time: {end_time - start_time} s\")"
   ]
  },
  {
   "cell_type": "markdown",
   "id": "df330747-69d0-438d-b4d3-5ccdc6aa56f4",
   "metadata": {},
   "source": [
    "### Metodi Ensemble"
   ]
  },
  {
   "cell_type": "markdown",
   "id": "ca602fe3-6713-4121-96f4-5d302f246559",
   "metadata": {},
   "source": [
    "#### Bagging Regressor"
   ]
  },
  {
   "cell_type": "code",
   "execution_count": 90,
   "id": "68d00a21-281d-4991-a324-9b3898c59c17",
   "metadata": {},
   "outputs": [],
   "source": [
    "from sklearn.ensemble import BaggingRegressor"
   ]
  },
  {
   "cell_type": "code",
   "execution_count": 91,
   "id": "991867ef-cb0b-4d71-abb4-5815ee447e39",
   "metadata": {},
   "outputs": [],
   "source": [
    "bgr_model = MultiOutputRegressor(BaggingRegressor(random_state = 42))\n",
    "\n",
    "bgr_params = {\n",
    "    \"estimator__n_estimators\": [10, 50, 100],\n",
    "    \"estimator__max_samples\": [0.5, 0.7, 1.0],\n",
    "    \"estimator__max_features\": [0.5, 0.7, 1.0],\n",
    "}"
   ]
  },
  {
   "cell_type": "code",
   "execution_count": 93,
   "id": "e70f781d-2936-4a24-8831-9adca30c6bdf",
   "metadata": {},
   "outputs": [
    {
     "name": "stdout",
     "output_type": "stream",
     "text": [
      "\n",
      "Performing Outer Fold 1/5\n",
      "Performing GridSearchCV...\n",
      " Best Params: {'estimator__max_features': 1.0, 'estimator__max_samples': 0.5, 'estimator__n_estimators': 50}\n",
      " R²: -0.3446\n",
      " MAE: 8.7967\n",
      " RMSE: 12.8127\n",
      "\n",
      "Performing Outer Fold 2/5\n",
      "Performing GridSearchCV...\n",
      " Best Params: {'estimator__max_features': 0.5, 'estimator__max_samples': 1.0, 'estimator__n_estimators': 10}\n",
      " R²: -1.2302\n",
      " MAE: 8.1694\n",
      " RMSE: 10.7027\n",
      "\n",
      "Performing Outer Fold 3/5\n",
      "Performing GridSearchCV...\n",
      " Best Params: {'estimator__max_features': 0.5, 'estimator__max_samples': 0.5, 'estimator__n_estimators': 100}\n",
      " R²: -0.7283\n",
      " MAE: 11.4604\n",
      " RMSE: 21.9537\n",
      "\n",
      "Performing Outer Fold 4/5\n",
      "Performing GridSearchCV...\n",
      " Best Params: {'estimator__max_features': 0.5, 'estimator__max_samples': 1.0, 'estimator__n_estimators': 50}\n",
      " R²: -2.5062\n",
      " MAE: 11.4271\n",
      " RMSE: 18.0223\n",
      "\n",
      "Performing Outer Fold 5/5\n",
      "Performing GridSearchCV...\n",
      " Best Params: {'estimator__max_features': 0.5, 'estimator__max_samples': 0.5, 'estimator__n_estimators': 10}\n",
      " R²: -0.1852\n",
      " MAE: 7.6556\n",
      " RMSE: 11.1297\n",
      "Bagging Regressor results:\n"
     ]
    },
    {
     "data": {
      "text/plain": [
       "{'Nested CV R2': '-0.9989 ± 0.8353',\n",
       " 'Nested CV RMSE': '14.9242 ± 4.3747',\n",
       " 'Nested CV MAE': '9.5018 ± 1.6263',\n",
       " 'Best Parameters with highest R2 score': {'estimator__max_features': 0.5,\n",
       "  'estimator__max_samples': 0.5,\n",
       "  'estimator__n_estimators': 10}}"
      ]
     },
     "metadata": {},
     "output_type": "display_data"
    },
    {
     "name": "stdout",
     "output_type": "stream",
     "text": [
      "Execution time: 63.868793964385986 s\n"
     ]
    }
   ],
   "source": [
    "start_time = time.time()\n",
    "\n",
    "bgr_results = nested_cv_regression(bgr_model, bgr_params, X, y, \n",
    "                                  outer_splits = 5, inner_splits = 5,\n",
    "                                  scoring = [\"r2\", \"rmse\", \"mae\"])\n",
    "\n",
    "end_time = time.time()\n",
    "\n",
    "print(f\"Bagging Regressor results:\")\n",
    "display(bgr_results)\n",
    "print(f\"Execution time: {end_time - start_time} s\")"
   ]
  },
  {
   "cell_type": "markdown",
   "id": "3eb15683-690e-4598-b43b-22f6a39648be",
   "metadata": {},
   "source": [
    "#### AdaBoost Regressor"
   ]
  },
  {
   "cell_type": "code",
   "execution_count": 94,
   "id": "f15960fc-7715-4ae8-8d6f-220d32b5f7e0",
   "metadata": {},
   "outputs": [],
   "source": [
    "from sklearn.ensemble import AdaBoostRegressor"
   ]
  },
  {
   "cell_type": "code",
   "execution_count": 95,
   "id": "15b76c03-6647-4570-a26d-013964978e45",
   "metadata": {},
   "outputs": [],
   "source": [
    "abr_model = MultiOutputRegressor(AdaBoostRegressor(random_state = 42))\n",
    "\n",
    "abr_params = {\n",
    "    \"estimator__n_estimators\": [50, 100, 200],\n",
    "    \"estimator__learning_rate\": [0.01, 0.05, 0.1],\n",
    "    \"estimator__loss\" : [\"linear\", \"square\", \"exponential\"]\n",
    "}"
   ]
  },
  {
   "cell_type": "code",
   "execution_count": 96,
   "id": "bf3d22ab-1229-44be-b86e-5db7a28378a2",
   "metadata": {},
   "outputs": [
    {
     "name": "stdout",
     "output_type": "stream",
     "text": [
      "\n",
      "Performing Outer Fold 1/5\n",
      "Performing GridSearchCV...\n",
      " Best Params: {'estimator__learning_rate': 0.1, 'estimator__loss': 'exponential', 'estimator__n_estimators': 50}\n",
      " R²: -1.4638\n",
      " MAE: 12.0179\n",
      " RMSE: 19.5091\n",
      "\n",
      "Performing Outer Fold 2/5\n",
      "Performing GridSearchCV...\n",
      " Best Params: {'estimator__learning_rate': 0.05, 'estimator__loss': 'exponential', 'estimator__n_estimators': 50}\n",
      " R²: -2.7259\n",
      " MAE: 10.0089\n",
      " RMSE: 14.5104\n",
      "\n",
      "Performing Outer Fold 3/5\n",
      "Performing GridSearchCV...\n",
      " Best Params: {'estimator__learning_rate': 0.01, 'estimator__loss': 'exponential', 'estimator__n_estimators': 100}\n",
      " R²: -1.9839\n",
      " MAE: 10.4291\n",
      " RMSE: 20.0842\n",
      "\n",
      "Performing Outer Fold 4/5\n",
      "Performing GridSearchCV...\n",
      " Best Params: {'estimator__learning_rate': 0.01, 'estimator__loss': 'exponential', 'estimator__n_estimators': 50}\n",
      " R²: -2.0696\n",
      " MAE: 10.6647\n",
      " RMSE: 17.2515\n",
      "\n",
      "Performing Outer Fold 5/5\n",
      "Performing GridSearchCV...\n",
      " Best Params: {'estimator__learning_rate': 0.01, 'estimator__loss': 'exponential', 'estimator__n_estimators': 200}\n",
      " R²: -0.9038\n",
      " MAE: 8.2847\n",
      " RMSE: 13.1113\n",
      "AdaBoost Regressor results:\n"
     ]
    },
    {
     "data": {
      "text/plain": [
       "{'Nested CV R2': '-1.8294 ± 0.6125',\n",
       " 'Nested CV RMSE': '16.8933 ± 2.7252',\n",
       " 'Nested CV MAE': '10.2811 ± 1.2037',\n",
       " 'Best Parameters with highest R2 score': {'estimator__learning_rate': 0.01,\n",
       "  'estimator__loss': 'exponential',\n",
       "  'estimator__n_estimators': 200}}"
      ]
     },
     "metadata": {},
     "output_type": "display_data"
    },
    {
     "name": "stdout",
     "output_type": "stream",
     "text": [
      "Execution time: 110.73160600662231 s\n"
     ]
    }
   ],
   "source": [
    "start_time = time.time()\n",
    "\n",
    "abr_results = nested_cv_regression(abr_model, abr_params, X, y, \n",
    "                                  outer_splits = 5, inner_splits = 5,\n",
    "                                  scoring = [\"r2\", \"rmse\", \"mae\"])\n",
    "\n",
    "end_time = time.time()\n",
    "\n",
    "print(f\"AdaBoost Regressor results:\")\n",
    "display(abr_results)\n",
    "print(f\"Execution time: {end_time - start_time} s\")"
   ]
  },
  {
   "cell_type": "markdown",
   "id": "d5f1960d-0835-44d2-b35f-d4e83c63b0df",
   "metadata": {},
   "source": [
    "#### Gradient Boosting Regressor"
   ]
  },
  {
   "cell_type": "code",
   "execution_count": 97,
   "id": "52f284b5-681e-44a6-b38e-9e688e092531",
   "metadata": {},
   "outputs": [],
   "source": [
    "from sklearn.ensemble import GradientBoostingRegressor"
   ]
  },
  {
   "cell_type": "code",
   "execution_count": 98,
   "id": "d9d79cdd-82ad-4500-9b8d-e0fb0fe14bfb",
   "metadata": {},
   "outputs": [],
   "source": [
    "gbr_model = MultiOutputRegressor(GradientBoostingRegressor(random_state = 42))\n",
    "\n",
    "gbr_params = {\n",
    "    \"estimator__n_estimators\": [50, 100, 200],\n",
    "    \"estimator__learning_rate\": [0.01, 0.05, 0.1],\n",
    "}"
   ]
  },
  {
   "cell_type": "code",
   "execution_count": 100,
   "id": "ca2e8cab-5524-41be-b93b-97695fcecf54",
   "metadata": {},
   "outputs": [
    {
     "name": "stdout",
     "output_type": "stream",
     "text": [
      "\n",
      "Performing Outer Fold 1/5\n",
      "Performing GridSearchCV...\n",
      " Best Params: {'estimator__learning_rate': 0.01, 'estimator__n_estimators': 50}\n",
      " R²: -0.3553\n",
      " MAE: 9.6682\n",
      " RMSE: 13.4529\n",
      "\n",
      "Performing Outer Fold 2/5\n",
      "Performing GridSearchCV...\n",
      " Best Params: {'estimator__learning_rate': 0.01, 'estimator__n_estimators': 50}\n",
      " R²: -1.3827\n",
      " MAE: 7.1808\n",
      " RMSE: 10.6334\n",
      "\n",
      "Performing Outer Fold 3/5\n",
      "Performing GridSearchCV...\n",
      " Best Params: {'estimator__learning_rate': 0.01, 'estimator__n_estimators': 50}\n",
      " R²: -0.1484\n",
      " MAE: 9.2757\n",
      " RMSE: 20.2288\n",
      "\n",
      "Performing Outer Fold 4/5\n",
      "Performing GridSearchCV...\n",
      " Best Params: {'estimator__learning_rate': 0.01, 'estimator__n_estimators': 50}\n",
      " R²: -2.2946\n",
      " MAE: 11.7658\n",
      " RMSE: 17.1889\n",
      "\n",
      "Performing Outer Fold 5/5\n",
      "Performing GridSearchCV...\n",
      " Best Params: {'estimator__learning_rate': 0.01, 'estimator__n_estimators': 50}\n",
      " R²: -0.4659\n",
      " MAE: 8.1122\n",
      " RMSE: 13.3660\n",
      "Gradient Boosting Regressor results:\n"
     ]
    },
    {
     "data": {
      "text/plain": [
       "{'Nested CV R2': '-0.9294 ± 0.8030',\n",
       " 'Nested CV RMSE': '14.9740 ± 3.3544',\n",
       " 'Nested CV MAE': '9.2006 ± 1.5536',\n",
       " 'Best Parameters with highest R2 score': {'estimator__learning_rate': 0.01,\n",
       "  'estimator__n_estimators': 50}}"
      ]
     },
     "metadata": {},
     "output_type": "display_data"
    },
    {
     "name": "stdout",
     "output_type": "stream",
     "text": [
      "Execution time: 13.423408508300781 s\n"
     ]
    }
   ],
   "source": [
    "start_time = time.time()\n",
    "\n",
    "gbr_results = nested_cv_regression(gbr_model, gbr_params, X, y, \n",
    "                                  outer_splits = 5, inner_splits = 5,\n",
    "                                  scoring = [\"r2\", \"rmse\", \"mae\"])\n",
    "\n",
    "end_time = time.time()\n",
    "\n",
    "print(f\"Gradient Boosting Regressor results:\")\n",
    "display(gbr_results)\n",
    "print(f\"Execution time: {end_time - start_time} s\")"
   ]
  },
  {
   "cell_type": "markdown",
   "id": "9a07bc8d-d1a8-44f0-929a-540db1f5ec13",
   "metadata": {},
   "source": [
    "#### Random Forest Regressor"
   ]
  },
  {
   "cell_type": "code",
   "execution_count": 102,
   "id": "2cf7c9dd-c2c0-4033-9b97-be11f80cdc82",
   "metadata": {},
   "outputs": [],
   "source": [
    "from sklearn.ensemble import RandomForestRegressor"
   ]
  },
  {
   "cell_type": "code",
   "execution_count": 103,
   "id": "a0d9b4dc-a467-4c1c-8b4d-db3a812caab3",
   "metadata": {},
   "outputs": [],
   "source": [
    "rfr_model = MultiOutputRegressor(RandomForestRegressor(random_state = 42))\n",
    "\n",
    "rfr_params = {\n",
    "    \"estimator__n_estimators\": [50, 100, 200],\n",
    "    \"estimator__max_depth\": [2, 4, 6, None],\n",
    "    \"estimator__min_samples_split\": [2, 5, 10],\n",
    "     \"estimator__min_samples_leaf\": [1, 2, 4],\n",
    "}"
   ]
  },
  {
   "cell_type": "code",
   "execution_count": 104,
   "id": "82e50c47-b195-4887-8ad1-53a4dc197682",
   "metadata": {},
   "outputs": [
    {
     "name": "stdout",
     "output_type": "stream",
     "text": [
      "\n",
      "Performing Outer Fold 1/5\n",
      "Performing GridSearchCV...\n",
      " Best Params: {'estimator__max_depth': 2, 'estimator__n_estimators': 200}\n",
      " R²: -0.5364\n",
      " MAE: 9.7628\n",
      " RMSE: 14.5584\n",
      "\n",
      "Performing Outer Fold 2/5\n",
      "Performing GridSearchCV...\n",
      " Best Params: {'estimator__max_depth': 2, 'estimator__n_estimators': 50}\n",
      " R²: -1.4003\n",
      " MAE: 7.9337\n",
      " RMSE: 11.2783\n",
      "\n",
      "Performing Outer Fold 3/5\n",
      "Performing GridSearchCV...\n",
      " Best Params: {'estimator__max_depth': 2, 'estimator__n_estimators': 200}\n",
      " R²: -0.5495\n",
      " MAE: 9.6358\n",
      " RMSE: 20.6669\n",
      "\n",
      "Performing Outer Fold 4/5\n",
      "Performing GridSearchCV...\n",
      " Best Params: {'estimator__max_depth': 6, 'estimator__n_estimators': 100}\n",
      " R²: -2.5777\n",
      " MAE: 11.8593\n",
      " RMSE: 18.0127\n",
      "\n",
      "Performing Outer Fold 5/5\n",
      "Performing GridSearchCV...\n",
      " Best Params: {'estimator__max_depth': 6, 'estimator__n_estimators': 200}\n",
      " R²: -0.8969\n",
      " MAE: 7.6680\n",
      " RMSE: 13.0837\n",
      "Random Forest Regressor results:\n"
     ]
    },
    {
     "data": {
      "text/plain": [
       "{'Nested CV R2': '-1.1922 ± 0.7607',\n",
       " 'Nested CV RMSE': '15.5200 ± 3.3928',\n",
       " 'Nested CV MAE': '9.3719 ± 1.5087',\n",
       " 'Best Parameters with highest R2 score': {'estimator__max_depth': 2,\n",
       "  'estimator__n_estimators': 200}}"
      ]
     },
     "metadata": {},
     "output_type": "display_data"
    },
    {
     "name": "stdout",
     "output_type": "stream",
     "text": [
      "Execution time: 37.62246298789978 s\n"
     ]
    }
   ],
   "source": [
    "start_time = time.time()\n",
    "\n",
    "rfr_results = nested_cv_regression(rfr_model, rfr_params, X, y, \n",
    "                                  outer_splits = 5, inner_splits = 5,\n",
    "                                  scoring = [\"r2\", \"rmse\", \"mae\"])\n",
    "\n",
    "end_time = time.time()\n",
    "\n",
    "print(f\"Random Forest Regressor results:\")\n",
    "display(rfr_results)\n",
    "print(f\"Execution time: {end_time - start_time} s\")"
   ]
  },
  {
   "cell_type": "markdown",
   "id": "b56fabc3-c2bc-46d6-be3c-df728de6e429",
   "metadata": {},
   "source": [
    "#### Extra Trees Regressor"
   ]
  },
  {
   "cell_type": "code",
   "execution_count": 105,
   "id": "afb9dfd2-5951-4950-8da1-416816ea6ef2",
   "metadata": {},
   "outputs": [],
   "source": [
    "from sklearn.ensemble import ExtraTreesRegressor"
   ]
  },
  {
   "cell_type": "code",
   "execution_count": 110,
   "id": "f235701f-beaf-4c82-8954-4497cbb809c1",
   "metadata": {},
   "outputs": [],
   "source": [
    "etr_model = MultiOutputRegressor(ExtraTreesRegressor(random_state = 42))\n",
    "\n",
    "etr_params = {\n",
    "    \"estimator__n_estimators\": [10, 50, 100],\n",
    "    #\"estimator__max_depth\": [None, 10, 20],\n",
    "    #\"estimator__min_samples_split\": [2, 5, 10],\n",
    "    #\"estimator__min_samples_leaf\": [1, 2, 4],\n",
    "    \"estimator__max_features\": [\"sqrt\", \"log2\"],\n",
    "    \"estimator__criterion\": [\"squared_error\", \"absolute_error\"]  \n",
    "}"
   ]
  },
  {
   "cell_type": "code",
   "execution_count": 111,
   "id": "a1b4eee3-928b-4efb-bc83-33f609b28a7a",
   "metadata": {},
   "outputs": [
    {
     "name": "stdout",
     "output_type": "stream",
     "text": [
      "\n",
      "Performing Outer Fold 1/5\n",
      "Performing GridSearchCV...\n",
      " Best Params: {'estimator__criterion': 'absolute_error', 'estimator__max_features': 'sqrt', 'estimator__n_estimators': 50}\n",
      " R²: -0.7130\n",
      " MAE: 9.8583\n",
      " RMSE: 13.7409\n",
      "\n",
      "Performing Outer Fold 2/5\n",
      "Performing GridSearchCV...\n",
      " Best Params: {'estimator__criterion': 'absolute_error', 'estimator__max_features': 'sqrt', 'estimator__n_estimators': 50}\n",
      " R²: -2.1372\n",
      " MAE: 9.2500\n",
      " RMSE: 13.0843\n",
      "\n",
      "Performing Outer Fold 3/5\n",
      "Performing GridSearchCV...\n",
      " Best Params: {'estimator__criterion': 'absolute_error', 'estimator__max_features': 'sqrt', 'estimator__n_estimators': 50}\n",
      " R²: -1.1624\n",
      " MAE: 11.6975\n",
      " RMSE: 21.9700\n",
      "\n",
      "Performing Outer Fold 4/5\n",
      "Performing GridSearchCV...\n",
      " Best Params: {'estimator__criterion': 'absolute_error', 'estimator__max_features': 'sqrt', 'estimator__n_estimators': 10}\n",
      " R²: -2.4560\n",
      " MAE: 10.2583\n",
      " RMSE: 16.9556\n",
      "\n",
      "Performing Outer Fold 5/5\n",
      "Performing GridSearchCV...\n",
      " Best Params: {'estimator__criterion': 'squared_error', 'estimator__max_features': 'sqrt', 'estimator__n_estimators': 10}\n",
      " R²: -0.4114\n",
      " MAE: 7.5250\n",
      " RMSE: 12.2928\n",
      "Extra Trees Regressor results:\n"
     ]
    },
    {
     "data": {
      "text/plain": [
       "{'Nested CV R2': '-1.3760 ± 0.7952',\n",
       " 'Nested CV RMSE': '15.6087 ± 3.5535',\n",
       " 'Nested CV MAE': '9.7178 ± 1.3608',\n",
       " 'Best Parameters with highest R2 score': {'estimator__criterion': 'squared_error',\n",
       "  'estimator__max_features': 'sqrt',\n",
       "  'estimator__n_estimators': 10}}"
      ]
     },
     "metadata": {},
     "output_type": "display_data"
    },
    {
     "name": "stdout",
     "output_type": "stream",
     "text": [
      "Execution time: 17.2144832611084 s\n"
     ]
    }
   ],
   "source": [
    "start_time = time.time()\n",
    "\n",
    "etr_results = nested_cv_regression(etr_model, etr_params, X, y, \n",
    "                                  outer_splits = 5, inner_splits = 5,\n",
    "                                  scoring = [\"r2\", \"rmse\", \"mae\"])\n",
    "\n",
    "end_time = time.time()\n",
    "\n",
    "print(f\"Extra Trees Regressor results:\")\n",
    "display(etr_results)\n",
    "print(f\"Execution time: {end_time - start_time} s\")"
   ]
  },
  {
   "cell_type": "markdown",
   "id": "3b60c8d3-2b45-406a-9c11-00e43357d6b2",
   "metadata": {},
   "source": [
    "#### Voting Regressor"
   ]
  },
  {
   "cell_type": "code",
   "execution_count": 112,
   "id": "361146be-2da9-48af-91b9-14550fe9bea5",
   "metadata": {},
   "outputs": [],
   "source": [
    "from sklearn.ensemble import VotingRegressor"
   ]
  },
  {
   "cell_type": "code",
   "execution_count": 113,
   "id": "6485c528-867e-45be-8884-1ab00e5ebcca",
   "metadata": {},
   "outputs": [],
   "source": [
    "from sklearn.ensemble import RandomForestRegressor\n",
    "from sklearn.ensemble import GradientBoostingRegressor\n",
    "from sklearn.ensemble import ExtraTreesRegressor"
   ]
  },
  {
   "cell_type": "code",
   "execution_count": 114,
   "id": "dacd8f33-1e5c-4484-a5ed-a2eac15bf224",
   "metadata": {},
   "outputs": [],
   "source": [
    "estimators = [\n",
    "    (\"rfr\", RandomForestRegressor(random_state = 42)),\n",
    "    (\"gbr\", GradientBoostingRegressor(random_state = 42)),\n",
    "    (\"etr\", ExtraTreesRegressor(random_state = 42))\n",
    "]\n",
    "\n",
    "vtr_model = MultiOutputRegressor(VotingRegressor(estimators = estimators))\n",
    "\n",
    "vtr_params = {\n",
    "    \"estimator__weights\": [[0.5, 1, 2], [1, 1, 1], [0.2, 0.5, 0.8]]  \n",
    "}"
   ]
  },
  {
   "cell_type": "code",
   "execution_count": 115,
   "id": "a0d9dc23-c98d-43db-88ac-93633cb75e4a",
   "metadata": {},
   "outputs": [
    {
     "name": "stdout",
     "output_type": "stream",
     "text": [
      "\n",
      "Performing Outer Fold 1/5\n",
      "Performing GridSearchCV...\n",
      " Best Params: {'estimator__weights': [0.5, 1, 2]}\n",
      " R²: -1.0021\n",
      " MAE: 9.6990\n",
      " RMSE: 15.3507\n",
      "\n",
      "Performing Outer Fold 2/5\n",
      "Performing GridSearchCV...\n",
      " Best Params: {'estimator__weights': [0.5, 1, 2]}\n",
      " R²: -2.7322\n",
      " MAE: 9.8876\n",
      " RMSE: 14.2128\n",
      "\n",
      "Performing Outer Fold 3/5\n",
      "Performing GridSearchCV...\n",
      " Best Params: {'estimator__weights': [1, 1, 1]}\n",
      " R²: -1.0909\n",
      " MAE: 10.5034\n",
      " RMSE: 22.1940\n",
      "\n",
      "Performing Outer Fold 4/5\n",
      "Performing GridSearchCV...\n",
      " Best Params: {'estimator__weights': [1, 1, 1]}\n",
      " R²: -2.2254\n",
      " MAE: 11.5835\n",
      " RMSE: 17.7468\n",
      "\n",
      "Performing Outer Fold 5/5\n",
      "Performing GridSearchCV...\n",
      " Best Params: {'estimator__weights': [1, 1, 1]}\n",
      " R²: -0.8028\n",
      " MAE: 7.3689\n",
      " RMSE: 12.4710\n",
      "Voting Regressor results:\n"
     ]
    },
    {
     "data": {
      "text/plain": [
       "{'Nested CV R2': '-1.5707 ± 0.7643',\n",
       " 'Nested CV RMSE': '16.3951 ± 3.3677',\n",
       " 'Nested CV MAE': '9.8085 ± 1.3859',\n",
       " 'Best Parameters with highest R2 score': {'estimator__weights': [1, 1, 1]}}"
      ]
     },
     "metadata": {},
     "output_type": "display_data"
    },
    {
     "name": "stdout",
     "output_type": "stream",
     "text": [
      "Execution time: 21.360268592834473 s\n"
     ]
    }
   ],
   "source": [
    "start_time = time.time()\n",
    "\n",
    "vtr_results = nested_cv_regression(vtr_model, vtr_params, X, y,\n",
    "                                  outer_splits = 5, inner_splits = 5,\n",
    "                                  scoring = [\"r2\", \"rmse\", \"mae\"])\n",
    "\n",
    "end_time = time.time()\n",
    "\n",
    "print(f\"Voting Regressor results:\")\n",
    "display(vtr_results)\n",
    "print(f\"Execution time: {end_time - start_time} s\")"
   ]
  },
  {
   "cell_type": "markdown",
   "id": "1fe5420b-32e9-4d24-9aab-678aeebfa4a0",
   "metadata": {},
   "source": [
    "#### Stacking Regressor"
   ]
  },
  {
   "cell_type": "code",
   "execution_count": 116,
   "id": "6ef630b8-35ca-4c3b-9366-88e387bafd70",
   "metadata": {},
   "outputs": [],
   "source": [
    "from sklearn.ensemble import StackingRegressor"
   ]
  },
  {
   "cell_type": "code",
   "execution_count": 117,
   "id": "bcd72689-012e-4496-969d-06b29db56d23",
   "metadata": {},
   "outputs": [],
   "source": [
    "from sklearn.linear_model import RidgeCV\n",
    "from sklearn.svm import SVR\n",
    "from sklearn.ensemble import RandomForestRegressor"
   ]
  },
  {
   "cell_type": "code",
   "execution_count": 118,
   "id": "568a5714-80d4-451d-b74b-214086b9a17c",
   "metadata": {},
   "outputs": [],
   "source": [
    "estimators = [\n",
    "    (\"lgr\", RidgeCV()),\n",
    "    (\"svr\", SVR(kernel = \"linear\"))\n",
    "]\n",
    "\n",
    "base_str_model = StackingRegressor(\n",
    "    estimators = estimators,\n",
    "    final_estimator = RandomForestRegressor(random_state = 42),\n",
    "    verbose = True\n",
    ")\n",
    "\n",
    "str_model = MultiOutputRegressor(base_str_model)\n",
    "\n",
    "str_params = {\n",
    "    \"estimator__final_estimator__n_estimators\": [50, 100],\n",
    "    \"estimator__final_estimator__max_depth\": [3, 5, None],\n",
    "    \"estimator__svr__C\": [0.1, 1.0, 10.0],\n",
    "    \"estimator__svr__epsilon\": [0.1, 0.2]\n",
    "}"
   ]
  },
  {
   "cell_type": "code",
   "execution_count": 119,
   "id": "a73a1dd6-ebe6-4ec7-8082-ebbd73329d02",
   "metadata": {},
   "outputs": [
    {
     "name": "stdout",
     "output_type": "stream",
     "text": [
      "\n",
      "Performing Outer Fold 1/5\n",
      "Performing GridSearchCV...\n",
      " Best Params: {'estimator__final_estimator__max_depth': 3, 'estimator__final_estimator__n_estimators': 100, 'estimator__svr__C': 1.0, 'estimator__svr__epsilon': 0.2}\n",
      " R²: -0.4298\n",
      " MAE: 8.6833\n",
      " RMSE: 14.5603\n",
      "\n",
      "Performing Outer Fold 2/5\n",
      "Performing GridSearchCV...\n",
      " Best Params: {'estimator__final_estimator__max_depth': 3, 'estimator__final_estimator__n_estimators': 50, 'estimator__svr__C': 1.0, 'estimator__svr__epsilon': 0.2}\n",
      " R²: -1.8197\n",
      " MAE: 7.1263\n",
      " RMSE: 12.3980\n",
      "\n",
      "Performing Outer Fold 3/5\n",
      "Performing GridSearchCV...\n",
      " Best Params: {'estimator__final_estimator__max_depth': 3, 'estimator__final_estimator__n_estimators': 100, 'estimator__svr__C': 10.0, 'estimator__svr__epsilon': 0.1}\n",
      " R²: -6.9594\n",
      " MAE: 15.8941\n",
      " RMSE: 26.9965\n",
      "\n",
      "Performing Outer Fold 4/5\n",
      "Performing GridSearchCV...\n",
      " Best Params: {'estimator__final_estimator__max_depth': 3, 'estimator__final_estimator__n_estimators': 100, 'estimator__svr__C': 0.1, 'estimator__svr__epsilon': 0.1}\n",
      " R²: -10.1648\n",
      " MAE: 13.1499\n",
      " RMSE: 20.5622\n",
      "\n",
      "Performing Outer Fold 5/5\n",
      "Performing GridSearchCV...\n",
      " Best Params: {'estimator__final_estimator__max_depth': 3, 'estimator__final_estimator__n_estimators': 100, 'estimator__svr__C': 0.1, 'estimator__svr__epsilon': 0.1}\n",
      " R²: -0.1924\n",
      " MAE: 8.8942\n",
      " RMSE: 15.5816\n",
      "Stacking Regressor results:\n"
     ]
    },
    {
     "data": {
      "text/plain": [
       "{'Nested CV R2': '-3.9132 ± 3.9679',\n",
       " 'Nested CV RMSE': '18.0197 ± 5.2261',\n",
       " 'Nested CV MAE': '10.7496 ± 3.2579',\n",
       " 'Best Parameters with highest R2 score': {'estimator__final_estimator__max_depth': 3,\n",
       "  'estimator__final_estimator__n_estimators': 100,\n",
       "  'estimator__svr__C': 0.1,\n",
       "  'estimator__svr__epsilon': 0.1}}"
      ]
     },
     "metadata": {},
     "output_type": "display_data"
    },
    {
     "name": "stdout",
     "output_type": "stream",
     "text": [
      "Execution time: 165.76055693626404 s\n"
     ]
    }
   ],
   "source": [
    "start_time = time.time()\n",
    "\n",
    "str_results = nested_cv_regression(str_model, str_params, X, y,\n",
    "                                  outer_splits = 5, inner_splits = 5,\n",
    "                                  scoring = [\"r2\", \"rmse\", \"mae\"])\n",
    "\n",
    "end_time = time.time()\n",
    "\n",
    "print(f\"Stacking Regressor results:\")\n",
    "display(str_results)\n",
    "print(f\"Execution time: {end_time - start_time} s\")"
   ]
  },
  {
   "cell_type": "markdown",
   "id": "deffa2a2-4301-411e-9c28-366d9e589fdb",
   "metadata": {},
   "source": [
    "## <font color = \"lightgreen\">Appendice</font>: Isolation Forest"
   ]
  },
  {
   "cell_type": "markdown",
   "id": "f87bce97-d65b-4c08-a4d2-4b10b1e67cf4",
   "metadata": {},
   "source": [
    "Si utilizza la classe di Scikit-Learn `IsolationForest` per poter individuare gli outlier ed eliminarli, in modo da ottenere dei risultati migliori.\n",
    "\n",
    "Per esperimento, si considera un classificatore di tipo **Random Forest**."
   ]
  },
  {
   "cell_type": "code",
   "execution_count": 121,
   "id": "82611d01-51e9-4123-96c5-a85fe165a098",
   "metadata": {},
   "outputs": [],
   "source": [
    "import numpy as np\n",
    "import pandas as pd\n",
    "import matplotlib.pyplot as plt\n",
    "import time"
   ]
  },
  {
   "cell_type": "markdown",
   "id": "a2270c36-e91a-451a-8d9e-fdd7063e7bdb",
   "metadata": {},
   "source": [
    "### Preprocessing"
   ]
  },
  {
   "cell_type": "markdown",
   "id": "b6d06b0e-0321-4ca8-9290-81111a8f050c",
   "metadata": {
    "tags": []
   },
   "source": [
    "#### Caricamento del Dataset `breast_cancer`"
   ]
  },
  {
   "cell_type": "code",
   "execution_count": 122,
   "id": "db45c660-a367-40cf-9d9a-2e150eb3ab6f",
   "metadata": {
    "tags": []
   },
   "outputs": [],
   "source": [
    "from sklearn import datasets\n",
    "\n",
    "# Dataset loading\n",
    "b_cancer = datasets.load_breast_cancer()\n",
    "X, y =  datasets.load_breast_cancer(return_X_y = True)"
   ]
  },
  {
   "cell_type": "code",
   "execution_count": 123,
   "id": "ceb09c7a-bcee-4d09-a8d0-3efd633fdf49",
   "metadata": {
    "tags": []
   },
   "outputs": [
    {
     "name": "stdout",
     "output_type": "stream",
     "text": [
      "Dataset examples: 569\n",
      "Features: 30\n"
     ]
    }
   ],
   "source": [
    "print(f\"Dataset examples: {X.shape[0]}\")\n",
    "print(f\"Features: {X.shape[1]}\")"
   ]
  },
  {
   "cell_type": "code",
   "execution_count": 124,
   "id": "ed22b06c-ca24-446d-95e1-cca9f8e8e341",
   "metadata": {
    "tags": []
   },
   "outputs": [
    {
     "name": "stdout",
     "output_type": "stream",
     "text": [
      "Class distribution: {0: 212, 1: 357}\n"
     ]
    }
   ],
   "source": [
    "unique, counts = np.unique(y, return_counts = True)\n",
    "print(f\"Class distribution: {dict(zip(unique, counts))}\")"
   ]
  },
  {
   "cell_type": "markdown",
   "id": "7be45616-6518-4810-a5f9-53d636aa71b3",
   "metadata": {},
   "source": [
    "### Isolation Forest Classifier"
   ]
  },
  {
   "cell_type": "code",
   "execution_count": 125,
   "id": "722adebf-1fb2-4754-bc92-88b7987136df",
   "metadata": {},
   "outputs": [],
   "source": [
    "from sklearn.ensemble import IsolationForest # Outlier detection\n",
    "from sklearn.ensemble import RandomForestClassifier # Model"
   ]
  },
  {
   "cell_type": "code",
   "execution_count": 131,
   "id": "b3a3601e-5ac3-41b4-b490-db60b272f4c7",
   "metadata": {},
   "outputs": [],
   "source": [
    "# Fit Isolation Forest\n",
    "iso = IsolationForest(contamination=0.05, random_state=42)  # adjust contamination rate as needed\n",
    "outlier_pred = iso.fit_predict(X)\n",
    "\n",
    "# Filter out the outliers\n",
    "# -1 = outlier, 1 = inlier\n",
    "X_clean = X[outlier_pred == 1]\n",
    "y_clean = y[outlier_pred == 1]  "
   ]
  },
  {
   "cell_type": "code",
   "execution_count": 132,
   "id": "4fb84fcc-6325-4836-8444-6b8227748c00",
   "metadata": {},
   "outputs": [],
   "source": [
    "# Define the model\n",
    "rfc_model = RandomForestClassifier(random_state=42, oob_score=True)\n",
    "\n",
    "# Apply K-Fold CV \n",
    "from sklearn.model_selection import cross_val_score\n",
    "scores = cross_val_score(rfc_model, X_clean, y_clean, cv=5, scoring='accuracy')"
   ]
  },
  {
   "cell_type": "code",
   "execution_count": 133,
   "id": "0c10dc5e-b9d9-485a-b4d6-83bc16dd71e2",
   "metadata": {},
   "outputs": [
    {
     "name": "stdout",
     "output_type": "stream",
     "text": [
      "Cross-Validation Scores: [0.92592593 0.92592593 0.98148148 0.97222222 0.97222222]\n",
      "Mean Accuracy: 0.9555555555555555\n",
      "Standard Deviation: 0.024427603626431333\n"
     ]
    }
   ],
   "source": [
    "print(\"Cross-Validation Scores:\", scores)\n",
    "print(\"Mean Accuracy:\", np.mean(scores))\n",
    "print(\"Standard Deviation:\", np.std(scores))"
   ]
  }
 ],
 "metadata": {
  "kernelspec": {
   "display_name": "Python 3 (ipykernel)",
   "language": "python",
   "name": "python3"
  },
  "language_info": {
   "codemirror_mode": {
    "name": "ipython",
    "version": 3
   },
   "file_extension": ".py",
   "mimetype": "text/x-python",
   "name": "python",
   "nbconvert_exporter": "python",
   "pygments_lexer": "ipython3",
   "version": "3.10.13"
  }
 },
 "nbformat": 4,
 "nbformat_minor": 5
}
