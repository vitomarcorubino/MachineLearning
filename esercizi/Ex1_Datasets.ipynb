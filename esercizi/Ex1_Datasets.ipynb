{
 "cells": [
  {
   "cell_type": "markdown",
   "id": "a7340281-fbd0-4a2f-aca6-efc63b7b2b5a",
   "metadata": {},
   "source": [
    "# Esercitazione lab1\n",
    "Per aiutarmi se non mi ricordono i parametri da passare:"
   ]
  },
  {
   "cell_type": "code",
   "execution_count": 1,
   "id": "0d964428-7a02-4b51-a251-37dcc55c843f",
   "metadata": {},
   "outputs": [
    {
     "data": {
      "text/plain": [
       "<Signature (n_estimators=100, *, criterion='gini', max_depth=None, min_samples_split=2, min_samples_leaf=1, min_weight_fraction_leaf=0.0, max_features='sqrt', max_leaf_nodes=None, min_impurity_decrease=0.0, bootstrap=True, oob_score=False, n_jobs=None, random_state=None, verbose=0, warm_start=False, class_weight=None, ccp_alpha=0.0, max_samples=None, monotonic_cst=None)>"
      ]
     },
     "execution_count": 1,
     "metadata": {},
     "output_type": "execute_result"
    }
   ],
   "source": [
    "from sklearn.ensemble import RandomForestClassifier\n",
    "\n",
    "import inspect \n",
    "inspect.signature(RandomForestClassifier)"
   ]
  },
  {
   "cell_type": "markdown",
   "id": "19d089ba-6c0d-4ff8-892d-305f352ab395",
   "metadata": {},
   "source": [
    "# Sklearn datasets"
   ]
  },
  {
   "cell_type": "markdown",
   "id": "df6d3c04-faf9-45bb-8e70-b2da1b329d51",
   "metadata": {},
   "source": [
    "## Sub-sampling"
   ]
  },
  {
   "cell_type": "code",
   "execution_count": null,
   "id": "d2d18281-c000-4ed3-8a0f-79c72e1d7e6a",
   "metadata": {},
   "outputs": [],
   "source": [
    "from sklearn.utils import resample\n",
    "\n",
    "X_sampled, y_sampled = resample(X, y, n_samples=3000, random_state=42)"
   ]
  },
  {
   "cell_type": "markdown",
   "id": "c3dd25cf-66c8-4bc1-81f2-4aef74d93e2d",
   "metadata": {},
   "source": [
    "## **Classificazione**"
   ]
  },
  {
   "cell_type": "markdown",
   "id": "573157c1-f692-4547-b226-26ae324db8a8",
   "metadata": {},
   "source": [
    "### California housing "
   ]
  },
  {
   "cell_type": "code",
   "execution_count": 6,
   "id": "62ef3f46-1c99-4ba0-83cb-00c3bfb3f6d4",
   "metadata": {},
   "outputs": [
    {
     "name": "stdout",
     "output_type": "stream",
     "text": [
      "(20640, 8) (20640,)\n",
      "['MedInc', 'HouseAge', 'AveRooms', 'AveBedrms', 'Population', 'AveOccup', 'Latitude', 'Longitude']\n",
      "Target names: ['MedHouseVal']\n",
      "Number of targets: [0.14999 0.175   0.225   ... 4.991   5.      5.00001]\n"
     ]
    }
   ],
   "source": [
    "import pandas as pd\n",
    "import numpy as np\n",
    "from sklearn.datasets import fetch_california_housing\n",
    "\n",
    "housing = fetch_california_housing()\n",
    "\n",
    "X, y = housing.data, housing.target\n",
    "\n",
    "print(housing.data.shape, housing.target.shape)\n",
    "print(housing.feature_names)\n",
    "\n",
    "print('Target names:', housing.target_names)\n",
    "print('Number of targets:', np.unique(y))"
   ]
  },
  {
   "cell_type": "markdown",
   "id": "bd43d42d-b9ba-4473-a64e-a219a41b13e5",
   "metadata": {},
   "source": [
    "### Iris dataset "
   ]
  },
  {
   "cell_type": "code",
   "execution_count": 9,
   "id": "f7bf4cec-3fa6-4491-b549-ba27342ddce7",
   "metadata": {},
   "outputs": [
    {
     "name": "stdout",
     "output_type": "stream",
     "text": [
      "['setosa' 'versicolor' 'virginica']\n",
      "Number of targets: [0 1 2]\n"
     ]
    }
   ],
   "source": [
    "from sklearn.datasets import load_iris\n",
    "\n",
    "iris = load_iris()\n",
    "X_iris = iris.data\n",
    "y_iris = iris.target\n",
    "\n",
    "print(iris.target_names)\n",
    "print('Number of targets:', np.unique(y_iris))"
   ]
  },
  {
   "cell_type": "markdown",
   "id": "bb903730-2e87-4d92-9c32-acecafd31ae2",
   "metadata": {},
   "source": [
    "### Digits dataset "
   ]
  },
  {
   "cell_type": "code",
   "execution_count": 29,
   "id": "2dbacb1b-4de5-47d9-beef-474cba66714f",
   "metadata": {},
   "outputs": [
    {
     "name": "stdout",
     "output_type": "stream",
     "text": [
      "(1797, 64)\n"
     ]
    },
    {
     "data": {
      "text/plain": [
       "<Figure size 640x480 with 0 Axes>"
      ]
     },
     "metadata": {},
     "output_type": "display_data"
    },
    {
     "data": {
      "image/png": "[encoded data removed]",
      "text/plain": [
       "<Figure size 480x480 with 1 Axes>"
      ]
     },
     "metadata": {},
     "output_type": "display_data"
    }
   ],
   "source": [
    "from sklearn.datasets import load_digits\n",
    "import matplotlib.pyplot as plt\n",
    "\n",
    "digits = load_digits()\n",
    "\n",
    "print(digits.data.shape)\n",
    "\n",
    "plt.gray()\n",
    "plt.matshow(digits.images[0])\n",
    "plt.show()"
   ]
  },
  {
   "cell_type": "markdown",
   "id": "e00409d5-050d-4d37-ac19-ea245f1939f5",
   "metadata": {},
   "source": [
    "### Wine"
   ]
  },
  {
   "cell_type": "code",
   "execution_count": 30,
   "id": "02e74401-244a-4b6f-9e6e-9c21696cb11b",
   "metadata": {},
   "outputs": [
    {
     "data": {
      "text/plain": [
       "['class_0', 'class_1', 'class_2']"
      ]
     },
     "execution_count": 30,
     "metadata": {},
     "output_type": "execute_result"
    }
   ],
   "source": [
    "from sklearn.datasets import load_wine\n",
    "\n",
    "data = load_wine()\n",
    "\n",
    "list(data.target_names)"
   ]
  },
  {
   "cell_type": "markdown",
   "id": "d90e6f58-24fe-45c1-9c8e-339ea1ef6abb",
   "metadata": {},
   "source": [
    "### Breast Cancer"
   ]
  },
  {
   "cell_type": "code",
   "execution_count": 14,
   "id": "00ce88e2-4192-4a6c-aadd-7e70cea976b5",
   "metadata": {},
   "outputs": [
    {
     "data": {
      "text/plain": [
       "['malignant', 'benign']"
      ]
     },
     "execution_count": 14,
     "metadata": {},
     "output_type": "execute_result"
    }
   ],
   "source": [
    "from sklearn.datasets import load_breast_cancer\n",
    "\n",
    "breast_cancer = load_breast_cancer()\n",
    "\n",
    "X = breast_cancer.data; # features\n",
    "y = breast_cancer.target; # labels\n",
    "\n",
    "list(breast_cancer.target_names)"
   ]
  },
  {
   "cell_type": "markdown",
   "id": "86b859eb-4cf0-4bfc-b165-2ef1aa297123",
   "metadata": {},
   "source": [
    "### Pinguini"
   ]
  },
  {
   "cell_type": "code",
   "execution_count": 31,
   "id": "6d90fa9a-96bb-4711-b585-d6745d6b78b4",
   "metadata": {},
   "outputs": [
    {
     "name": "stdout",
     "output_type": "stream",
     "text": [
      "Features shape: (333, 6)\n",
      "Target shape: (333,)\n",
      "Classes: ['Adelie' 'Chinstrap' 'Gentoo']\n"
     ]
    }
   ],
   "source": [
    "import seaborn as sns\n",
    "import pandas as pd\n",
    "from sklearn.preprocessing import LabelEncoder\n",
    "\n",
    "# Load penguins dataset from seaborn\n",
    "penguins = sns.load_dataset('penguins')\n",
    "\n",
    "# Drop rows with missing values for simplicity\n",
    "penguins = penguins.dropna()\n",
    "\n",
    "# Define features and target\n",
    "X = penguins.drop(columns=['species'])\n",
    "y = penguins['species']\n",
    "\n",
    "# Encode target labels to integers\n",
    "le = LabelEncoder()\n",
    "y = le.fit_transform(y)\n",
    "\n",
    "print(f\"Features shape: {X.shape}\")\n",
    "print(f\"Target shape: {y.shape}\")\n",
    "print(f\"Classes: {le.classes_}\")"
   ]
  },
  {
   "cell_type": "markdown",
   "id": "48cad1a2-8353-4a65-8371-91213123d5cc",
   "metadata": {},
   "source": [
    "### Olivetti faces"
   ]
  },
  {
   "cell_type": "code",
   "execution_count": 15,
   "id": "91782549-908e-4bd7-ac22-0bf85bd9b1fe",
   "metadata": {},
   "outputs": [
    {
     "data": {
      "text/plain": [
       "(400, 64, 64)"
      ]
     },
     "execution_count": 15,
     "metadata": {},
     "output_type": "execute_result"
    }
   ],
   "source": [
    "from sklearn.datasets import fetch_olivetti_faces\n",
    "olivetti_faces = fetch_olivetti_faces()\n",
    "olivetti_faces.data.shape\n",
    "olivetti_faces.target.shape\n",
    "olivetti_faces.images.shape"
   ]
  },
  {
   "cell_type": "markdown",
   "id": "2bedbdfc-4c7f-4dd5-a3ad-b10bac5dc6af",
   "metadata": {},
   "source": [
    "## **Regressione**"
   ]
  },
  {
   "cell_type": "markdown",
   "id": "dec2f138-fb25-4414-91a3-bfbf2a3199b0",
   "metadata": {},
   "source": [
    "### Diabetes dataset "
   ]
  },
  {
   "cell_type": "code",
   "execution_count": 11,
   "id": "4d5753e0-5b4b-4a26-a121-1bcf3f962ee2",
   "metadata": {},
   "outputs": [
    {
     "name": "stdout",
     "output_type": "stream",
     "text": [
      "(442, 10) (442,)\n",
      "['age', 'sex', 'bmi', 'bp', 's1', 's2', 's3', 's4', 's5', 's6']\n"
     ]
    }
   ],
   "source": [
    "from sklearn.datasets import load_diabetes\n",
    "\n",
    "diabetes = load_diabetes()\n",
    "X_dbt = diabetes.data\n",
    "y_dbt = diabetes.target\n",
    "\n",
    "print(diabetes.data.shape, diabetes.target.shape)\n",
    "print(diabetes.feature_names)"
   ]
  },
  {
   "cell_type": "markdown",
   "id": "456c3454-98e5-4b37-a4b2-49c0cb90356f",
   "metadata": {},
   "source": [
    "### Linnerud"
   ]
  },
  {
   "cell_type": "code",
   "execution_count": 12,
   "id": "dc8db48f-fc2d-4d61-9deb-ad66ce12894e",
   "metadata": {},
   "outputs": [
    {
     "data": {
      "text/plain": [
       "(20, 3)"
      ]
     },
     "execution_count": 12,
     "metadata": {},
     "output_type": "execute_result"
    }
   ],
   "source": [
    "from sklearn.datasets import load_linnerud\n",
    "\n",
    "linnerud = load_linnerud()\n",
    "\n",
    "linnerud.data.shape\n",
    "linnerud.target.shape"
   ]
  },
  {
   "cell_type": "markdown",
   "id": "97646133-0075-497c-8457-6e6d2a00b7ef",
   "metadata": {},
   "source": [
    "# Generatori di datasets"
   ]
  },
  {
   "cell_type": "markdown",
   "id": "0313429e-fe6a-47f1-8094-32758dc9c295",
   "metadata": {},
   "source": [
    "## make_blobs"
   ]
  },
  {
   "cell_type": "code",
   "execution_count": 16,
   "id": "24162105-8e09-496e-9128-8a4bcc6a59c5",
   "metadata": {},
   "outputs": [
    {
     "name": "stdout",
     "output_type": "stream",
     "text": [
      "(10, 2)\n"
     ]
    }
   ],
   "source": [
    "from sklearn.datasets import make_blobs\n",
    "X, y = make_blobs(n_samples=10, centers=3, n_features=2,\n",
    "                  random_state=0)\n",
    "print(X.shape)"
   ]
  },
  {
   "cell_type": "markdown",
   "id": "42cc31b8-cd61-461d-84f6-c495f83ff647",
   "metadata": {},
   "source": [
    "## make_classification"
   ]
  },
  {
   "cell_type": "code",
   "execution_count": 17,
   "id": "bca0ea62-12f3-46b7-bfaa-81422fcca603",
   "metadata": {},
   "outputs": [
    {
     "name": "stdout",
     "output_type": "stream",
     "text": [
      "X shape (100, 20)\n",
      "y shape (100,)\n"
     ]
    },
    {
     "data": {
      "text/plain": [
       "[0, 0, 1, 1, 0]"
      ]
     },
     "execution_count": 17,
     "metadata": {},
     "output_type": "execute_result"
    }
   ],
   "source": [
    "from sklearn.datasets import make_classification\n",
    "X, y = make_classification(random_state=42)\n",
    "\n",
    "print('X shape', X.shape)\n",
    "print('y shape', y.shape)\n",
    "\n",
    "list(y[:5])"
   ]
  },
  {
   "cell_type": "markdown",
   "id": "aaa8c693-6dad-4f97-9cd2-881ae6f7a461",
   "metadata": {},
   "source": [
    "## make_gaussian_quantiles"
   ]
  },
  {
   "cell_type": "code",
   "execution_count": 18,
   "id": "67ffd390-f25d-4e2e-bd65-6f75ae0ec341",
   "metadata": {},
   "outputs": [
    {
     "name": "stdout",
     "output_type": "stream",
     "text": [
      "X shape (100, 2)\n",
      "y shape (100,)\n"
     ]
    },
    {
     "data": {
      "text/plain": [
       "[2, 0, 1, 0, 2]"
      ]
     },
     "execution_count": 18,
     "metadata": {},
     "output_type": "execute_result"
    }
   ],
   "source": [
    "from sklearn.datasets import make_gaussian_quantiles\n",
    "X, y = make_gaussian_quantiles(random_state=42)\n",
    "\n",
    "print('X shape', X.shape)\n",
    "print('y shape', y.shape)\n",
    "\n",
    "list(y[:5])"
   ]
  },
  {
   "cell_type": "markdown",
   "id": "55ecd562-ded7-4cc0-b281-383384b24449",
   "metadata": {},
   "source": [
    "## make_regression"
   ]
  },
  {
   "cell_type": "code",
   "execution_count": 19,
   "id": "9efbb617-35b5-476d-b380-1d36fabbfb71",
   "metadata": {},
   "outputs": [],
   "source": [
    "from sklearn.datasets import make_regression\n",
    "X, y = make_regression(n_samples=5, n_features=2, noise=1, random_state=42)"
   ]
  },
  {
   "cell_type": "markdown",
   "id": "f60dedd9-2312-43f4-a439-7cf1daefc4a9",
   "metadata": {},
   "source": [
    "## make_friedman1"
   ]
  },
  {
   "cell_type": "code",
   "execution_count": 20,
   "id": "45bb78b2-f2ef-4383-8550-1a299385e81a",
   "metadata": {},
   "outputs": [
    {
     "name": "stdout",
     "output_type": "stream",
     "text": [
      "X shape (100, 10)\n",
      "y shape (100,)\n"
     ]
    },
    {
     "data": {
      "text/plain": [
       "[16.838261560255855, 5.869689190226745, 9.45737165345075]"
      ]
     },
     "execution_count": 20,
     "metadata": {},
     "output_type": "execute_result"
    }
   ],
   "source": [
    "from sklearn.datasets import make_friedman1\n",
    "X, y = make_friedman1(random_state=42)\n",
    "\n",
    "print('X shape', X.shape)\n",
    "print('y shape', y.shape)\n",
    "\n",
    "list(y[:3])"
   ]
  },
  {
   "cell_type": "markdown",
   "id": "8e8c4d89-fa85-45c7-bf26-4bbeb5576008",
   "metadata": {},
   "source": [
    "#  Manifold learning"
   ]
  },
  {
   "cell_type": "markdown",
   "id": "ad3aeebd-75ad-403a-a812-228726f2f215",
   "metadata": {},
   "source": [
    "## make_s_curve"
   ]
  },
  {
   "cell_type": "code",
   "execution_count": 21,
   "id": "a8a2bc5c-4b76-477a-baa7-5402c4403911",
   "metadata": {},
   "outputs": [
    {
     "data": {
      "text/plain": [
       "(100,)"
      ]
     },
     "execution_count": 21,
     "metadata": {},
     "output_type": "execute_result"
    }
   ],
   "source": [
    "from sklearn.datasets import make_s_curve\n",
    "X, t = make_s_curve(noise=0.05, random_state=0)\n",
    "\n",
    "X.shape\n",
    "t.shape"
   ]
  },
  {
   "cell_type": "markdown",
   "id": "6bdf6a84-2603-4ca5-9d38-0a6357bfe0d3",
   "metadata": {},
   "source": [
    "## make_swiss_roll"
   ]
  },
  {
   "cell_type": "code",
   "execution_count": 22,
   "id": "45dcfab2-26ca-4c6c-9044-324fdaedd31e",
   "metadata": {},
   "outputs": [
    {
     "data": {
      "text/plain": [
       "(100,)"
      ]
     },
     "execution_count": 22,
     "metadata": {},
     "output_type": "execute_result"
    }
   ],
   "source": [
    "from sklearn.datasets import make_swiss_roll\n",
    "X, t = make_swiss_roll(noise=0.05, random_state=0)\n",
    "\n",
    "X.shape\n",
    "t.shape"
   ]
  },
  {
   "cell_type": "markdown",
   "id": "d27ab5f3-bc4c-41bf-8d2e-6f9f589eb88c",
   "metadata": {},
   "source": [
    "# Dataset locale"
   ]
  },
  {
   "cell_type": "code",
   "execution_count": 23,
   "id": "e573d847-a88f-46dc-a5c7-346250ab415c",
   "metadata": {},
   "outputs": [],
   "source": [
    "import pandas as pd\n",
    "heart_data = pd.read_csv('/home/anisa_bakiu/Downloads/heart.csv')"
   ]
  },
  {
   "cell_type": "markdown",
   "id": "c0ae96e9-2d8a-43e8-a229-6c8af450a4e7",
   "metadata": {},
   "source": [
    "# Dataset online"
   ]
  },
  {
   "cell_type": "markdown",
   "id": "77a8e626-03bd-426f-9b75-d5f44dd4025b",
   "metadata": {},
   "source": [
    "## Dataset da Kaggle"
   ]
  },
  {
   "cell_type": "code",
   "execution_count": 23,
   "id": "82826b53-5dc3-4483-8853-9b86c4a08fb3",
   "metadata": {},
   "outputs": [
    {
     "name": "stdout",
     "output_type": "stream",
     "text": [
      "Path to dataset files: /home/anisa_bakiu/.cache/kagglehub/datasets/gabrielramos87/an-online-shop-business/versions/7\n"
     ]
    }
   ],
   "source": [
    "import kagglehub\n",
    "\n",
    "path = kagglehub.dataset_download(\"gabrielramos87/an-online-shop-business\")\n",
    "\n",
    "print(\"Path to dataset files:\", path)"
   ]
  },
  {
   "cell_type": "code",
   "execution_count": 24,
   "id": "2141fa01-8e5c-4af5-a644-a4e59a5c3fd4",
   "metadata": {},
   "outputs": [
    {
     "name": "stdout",
     "output_type": "stream",
     "text": [
      "Files in dataset: ['Sales Transaction v.4a.csv']\n"
     ]
    }
   ],
   "source": [
    "import os\n",
    "import pandas as pd\n",
    "\n",
    "dataset_path = \"/home/anisa_bakiu/.cache/kagglehub/datasets/gabrielramos87/an-online-shop-business/versions/7\"\n",
    "\n",
    "files = os.listdir(dataset_path)\n",
    "print(\"Files in dataset:\", files)"
   ]
  },
  {
   "cell_type": "code",
   "execution_count": 26,
   "id": "7420cb75-40db-422f-aca9-b6f2689bc5a7",
   "metadata": {},
   "outputs": [
    {
     "name": "stdout",
     "output_type": "stream",
     "text": [
      "  TransactionNo       Date ProductNo  ... Quantity  CustomerNo         Country\n",
      "0        581482  12/9/2019     22485  ...       12     17490.0  United Kingdom\n",
      "1        581475  12/9/2019     22596  ...       36     13069.0  United Kingdom\n",
      "2        581475  12/9/2019     23235  ...       12     13069.0  United Kingdom\n",
      "3        581475  12/9/2019     23272  ...       12     13069.0  United Kingdom\n",
      "4        581475  12/9/2019     23239  ...        6     13069.0  United Kingdom\n",
      "\n",
      "[5 rows x 8 columns]\n"
     ]
    }
   ],
   "source": [
    "csv_file_path = os.path.join(dataset_path, \"Sales Transaction v.4a.csv\")\n",
    "\n",
    "df_kaggle = pd.read_csv(csv_file_path)\n",
    "print(df_kaggle.head())"
   ]
  },
  {
   "cell_type": "markdown",
   "id": "4ade2db8-35d6-466a-a067-55b2ce217154",
   "metadata": {},
   "source": [
    "## Download dataset online"
   ]
  },
  {
   "cell_type": "code",
   "execution_count": 27,
   "id": "8fee0c95-9a3c-4813-ae86-7a5b96c86020",
   "metadata": {},
   "outputs": [
    {
     "name": "stderr",
     "output_type": "stream",
     "text": [
      "--2025-06-03 20:09:29--  https://example.com/your-dataset.zip\n",
      "Loaded CA certificate '/etc/ssl/certs/ca-certificates.crt'\n",
      "Resolving example.com (example.com)... 96.7.128.198, 23.192.228.80, 23.192.228.84, ...\n",
      "Connecting to example.com (example.com)|96.7.128.198|:443... connected.\n",
      "HTTP request sent, awaiting response... "
     ]
    },
    {
     "name": "stdout",
     "output_type": "stream",
     "text": [
      "File downloaded successfully to /home/anisa_bakiu/Downloads/your-dataset.zip\n"
     ]
    },
    {
     "name": "stderr",
     "output_type": "stream",
     "text": [
      "404 Not Found\n",
      "2025-06-03 20:09:30 ERROR 404: Not Found.\n",
      "\n"
     ]
    }
   ],
   "source": [
    "import os\n",
    "\n",
    "url = \"https://example.com/your-dataset.zip\"\n",
    "\n",
    "save_path = \"/home/anisa_bakiu/Downloads/your-dataset.zip\"\n",
    "\n",
    "os.system(f\"wget {url} -O {save_path}\")\n",
    "print(f\"File downloaded successfully to {save_path}\")"
   ]
  },
  {
   "cell_type": "code",
   "execution_count": 28,
   "id": "43615c41-1dbd-41fd-b5d3-edb33605f587",
   "metadata": {},
   "outputs": [
    {
     "name": "stdout",
     "output_type": "stream",
     "text": [
      "URL: https://archive.ics.uci.edu/ml/machine-learning-databases/iris/iris.data\n"
     ]
    },
    {
     "data": {
      "text/html": [
       "<div>\n",
       "<style scoped>\n",
       "    .dataframe tbody tr th:only-of-type {\n",
       "        vertical-align: middle;\n",
       "    }\n",
       "\n",
       "    .dataframe tbody tr th {\n",
       "        vertical-align: top;\n",
       "    }\n",
       "\n",
       "    .dataframe thead th {\n",
       "        text-align: right;\n",
       "    }\n",
       "</style>\n",
       "<table border=\"1\" class=\"dataframe\">\n",
       "  <thead>\n",
       "    <tr style=\"text-align: right;\">\n",
       "      <th></th>\n",
       "      <th>0</th>\n",
       "      <th>1</th>\n",
       "      <th>2</th>\n",
       "      <th>3</th>\n",
       "      <th>4</th>\n",
       "    </tr>\n",
       "  </thead>\n",
       "  <tbody>\n",
       "    <tr>\n",
       "      <th>145</th>\n",
       "      <td>6.7</td>\n",
       "      <td>3.0</td>\n",
       "      <td>5.2</td>\n",
       "      <td>2.3</td>\n",
       "      <td>Iris-virginica</td>\n",
       "    </tr>\n",
       "    <tr>\n",
       "      <th>146</th>\n",
       "      <td>6.3</td>\n",
       "      <td>2.5</td>\n",
       "      <td>5.0</td>\n",
       "      <td>1.9</td>\n",
       "      <td>Iris-virginica</td>\n",
       "    </tr>\n",
       "    <tr>\n",
       "      <th>147</th>\n",
       "      <td>6.5</td>\n",
       "      <td>3.0</td>\n",
       "      <td>5.2</td>\n",
       "      <td>2.0</td>\n",
       "      <td>Iris-virginica</td>\n",
       "    </tr>\n",
       "    <tr>\n",
       "      <th>148</th>\n",
       "      <td>6.2</td>\n",
       "      <td>3.4</td>\n",
       "      <td>5.4</td>\n",
       "      <td>2.3</td>\n",
       "      <td>Iris-virginica</td>\n",
       "    </tr>\n",
       "    <tr>\n",
       "      <th>149</th>\n",
       "      <td>5.9</td>\n",
       "      <td>3.0</td>\n",
       "      <td>5.1</td>\n",
       "      <td>1.8</td>\n",
       "      <td>Iris-virginica</td>\n",
       "    </tr>\n",
       "  </tbody>\n",
       "</table>\n",
       "</div>"
      ],
      "text/plain": [
       "       0    1    2    3               4\n",
       "145  6.7  3.0  5.2  2.3  Iris-virginica\n",
       "146  6.3  2.5  5.0  1.9  Iris-virginica\n",
       "147  6.5  3.0  5.2  2.0  Iris-virginica\n",
       "148  6.2  3.4  5.4  2.3  Iris-virginica\n",
       "149  5.9  3.0  5.1  1.8  Iris-virginica"
      ]
     },
     "execution_count": 28,
     "metadata": {},
     "output_type": "execute_result"
    }
   ],
   "source": [
    "s = 'https://archive.ics.uci.edu/ml/machine-learning-databases/iris/iris.data'\n",
    "print('URL:', s)\n",
    "\n",
    "df = pd.read_csv(s, header=None, encoding='utf-8')\n",
    "\n",
    "df.tail()"
   ]
  },
  {
   "cell_type": "code",
   "execution_count": null,
   "id": "c89bc33a-b79d-45d4-9ae3-34cbf840e9ae",
   "metadata": {},
   "outputs": [],
   "source": []
  }
 ],
 "metadata": {
  "kernelspec": {
   "display_name": "Python 3 (ipykernel)",
   "language": "python",
   "name": "python3"
  },
  "language_info": {
   "codemirror_mode": {
    "name": "ipython",
    "version": 3
   },
   "file_extension": ".py",
   "mimetype": "text/x-python",
   "name": "python",
   "nbconvert_exporter": "python",
   "pygments_lexer": "ipython3",
   "version": "3.10.13"
  }
 },
 "nbformat": 4,
 "nbformat_minor": 5
}
