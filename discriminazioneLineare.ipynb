{
 "cells": [
  {
   "metadata": {},
   "cell_type": "markdown",
   "source": [
    "# Discriminazione Lineare\n",
    "Confronto diversi modelli di discriminazione lineare utilizzando il dataset `breast_cancer`."
   ],
   "id": "98ea446c44039f2e"
  },
  {
   "metadata": {},
   "cell_type": "markdown",
   "source": [
    "## Import del dataset\n",
    "Importo il dataset breast cancer e noto che ci sono 569 osservazioni e 30 colonne, di cui 29 features e 1 colonna per le etichette che possono assumere due valori: 'malignant' o 'benign'."
   ],
   "id": "e25c59f7c8a56104"
  },
  {
   "metadata": {
    "ExecuteTime": {
     "end_time": "2025-06-29T18:26:34.535338Z",
     "start_time": "2025-06-29T18:26:34.462906Z"
    }
   },
   "cell_type": "code",
   "source": [
    "import pandas as pd\n",
    "from sklearn.datasets import load_breast_cancer\n",
    "\n",
    "breast_cancer = load_breast_cancer()\n",
    "\n",
    "X = pd.DataFrame(breast_cancer.data, columns = breast_cancer.feature_names); # features\n",
    "y = pd.DataFrame(breast_cancer.target); # labels\n",
    "\n",
    "print(X.shape)\n",
    "print(list(breast_cancer.feature_names))\n",
    "print(list(breast_cancer.target_names))"
   ],
   "id": "c5c732684e0b58e7",
   "outputs": [
    {
     "name": "stdout",
     "output_type": "stream",
     "text": [
      "(569, 30)\n",
      "['mean radius', 'mean texture', 'mean perimeter', 'mean area', 'mean smoothness', 'mean compactness', 'mean concavity', 'mean concave points', 'mean symmetry', 'mean fractal dimension', 'radius error', 'texture error', 'perimeter error', 'area error', 'smoothness error', 'compactness error', 'concavity error', 'concave points error', 'symmetry error', 'fractal dimension error', 'worst radius', 'worst texture', 'worst perimeter', 'worst area', 'worst smoothness', 'worst compactness', 'worst concavity', 'worst concave points', 'worst symmetry', 'worst fractal dimension']\n",
      "['malignant', 'benign']\n"
     ]
    }
   ],
   "execution_count": 31
  },
  {
   "metadata": {},
   "cell_type": "markdown",
   "source": "# Standardizzazione e Scaling",
   "id": "48aea54171eecf1e"
  },
  {
   "metadata": {
    "ExecuteTime": {
     "end_time": "2025-06-29T18:28:42.286079Z",
     "start_time": "2025-06-29T18:28:42.247050Z"
    }
   },
   "cell_type": "code",
   "source": [
    "from sklearn.preprocessing import StandardScaler\n",
    "\n",
    "scaler = StandardScaler()\n",
    "\n",
    "X_standardized = pd.DataFrame(scaler.fit_transform(X), columns = breast_cancer.feature_names)\n",
    "\n",
    "X_standardized[\"mean radius\"].mean()"
   ],
   "id": "b95fc85938652db6",
   "outputs": [
    {
     "data": {
      "text/plain": [
       "-3.153111437248248e-15"
      ]
     },
     "execution_count": 35,
     "metadata": {},
     "output_type": "execute_result"
    }
   ],
   "execution_count": 35
  },
  {
   "metadata": {},
   "cell_type": "markdown",
   "source": "## Nested Cross-Validation",
   "id": "c12107d3a9d88553"
  },
  {
   "metadata": {
    "ExecuteTime": {
     "end_time": "2025-06-29T18:42:13.978473Z",
     "start_time": "2025-06-29T18:42:13.926061Z"
    }
   },
   "cell_type": "code",
   "source": [
    "import numpy as np\n",
    "import pandas as pd\n",
    "from sklearn.model_selection import KFold, GridSearchCV\n",
    "from sklearn.metrics import accuracy_score, roc_auc_score, r2_score, root_mean_squared_error, mean_absolute_error\n",
    "\n",
    "def nested_cv(model, param_grid, X, y, outer_splits=5,\n",
    "              inner_splits=5, scoring=['accuracy', 'roc_auc'],\n",
    "              random_state=42, verbose=True):\n",
    "\n",
    "    # Assicurati che `y` sia un array 1D\n",
    "    if isinstance(y, pd.DataFrame):  # Se è un DataFrame Pandas\n",
    "        y = y.values.ravel()\n",
    "    elif isinstance(y, pd.Series):  # Se è una Serie Pandas\n",
    "        y = y.values\n",
    "    else:  # Se è un array Numpy\n",
    "        y = np.ravel(y)\n",
    "\n",
    "    # CROSS-VALIDATION ESTERNA\n",
    "    outer_cv = KFold(n_splits=outer_splits, shuffle=True, random_state=random_state)\n",
    "    score_results = {metric: [] for metric in scoring}\n",
    "\n",
    "    best_param_overall = None\n",
    "    best_score = -np.inf\n",
    "\n",
    "    for outer_fold, (train_idx, test_idx) in enumerate(outer_cv.split(X), 1):\n",
    "        if verbose:\n",
    "            print(f\"\\nPerforming Outer Fold {outer_fold}/{outer_splits}\")\n",
    "\n",
    "        # Usare il metodo .iloc per X, se è un DataFrame\n",
    "        if isinstance(X, pd.DataFrame):\n",
    "            X_train, X_test = X.iloc[train_idx], X.iloc[test_idx]\n",
    "        else:  # Altrimenti usa indicizzazione standard\n",
    "            X_train, X_test = X[train_idx], X[test_idx]\n",
    "\n",
    "        y_train, y_test = y[train_idx], y[test_idx]\n",
    "\n",
    "        # CROSS-VALIDATION INTERNA con GridSearchCV\n",
    "        inner_cv = KFold(n_splits=inner_splits, shuffle=True, random_state=random_state)\n",
    "        if verbose:\n",
    "            print(\"Performing GridSearchCV...\")\n",
    "\n",
    "        grid_search = GridSearchCV(model, param_grid, cv=inner_cv,\n",
    "                                   n_jobs=-1, scoring=scoring[0])\n",
    "        grid_search.fit(X_train, y_train)\n",
    "\n",
    "        best_model = grid_search.best_estimator_\n",
    "        best_params = grid_search.best_params_\n",
    "\n",
    "        if verbose:\n",
    "            print(f\" Best Params: {best_params}\")\n",
    "\n",
    "        # Test del modello ottimale sui dati di test dell'outer fold\n",
    "        y_pred = best_model.predict(X_test)\n",
    "\n",
    "        # Calcolo delle metriche\n",
    "        if 'accuracy' in scoring:\n",
    "            acc = accuracy_score(y_test, y_pred)\n",
    "            score_results['accuracy'].append(acc)\n",
    "            if acc > best_score:\n",
    "                best_score = acc\n",
    "                best_param_overall = best_params\n",
    "            if verbose:\n",
    "                print(f\" Accuracy: {acc:.4f}\")\n",
    "\n",
    "        if 'roc_auc' in scoring:\n",
    "            try:\n",
    "                y_score = best_model.predict_proba(X_test)[:, 1]\n",
    "                auc = roc_auc_score(y_test, y_score)\n",
    "                score_results['roc_auc'].append(auc)\n",
    "                if verbose:\n",
    "                    print(f\" AUC: {auc:.4f}\")\n",
    "            except AttributeError:\n",
    "                if verbose:\n",
    "                    print(\"Controlla se il modello ha un metodo `predict_proba`.\")\n",
    "                score_results['roc_auc'].append(np.nan)\n",
    "\n",
    "        if 'r2' in scoring:\n",
    "            r2score = r2_score(y_test, y_pred)\n",
    "            score_results['r2'].append(r2score)\n",
    "\n",
    "            if verbose:\n",
    "                print(f\" R2: {r2score:.4f}\")\n",
    "\n",
    "        if 'mae' in scoring:\n",
    "            mae = mean_absolute_error(y_test, y_pred)\n",
    "            score_results['mae'].append(mae)\n",
    "\n",
    "            if verbose:\n",
    "                print(f\" MAE: {mae:.4f}\")\n",
    "        if 'rmse' in scoring:\n",
    "            rmse = root_mean_squared_error(y_test, y_pred)\n",
    "            score_results['rmse'].append(rmse)\n",
    "\n",
    "            if verbose:\n",
    "                print(f\" RMSE: {rmse:.4f}\")\n",
    "\n",
    "    # Calcolo delle metriche globali (media e deviazione standard)\n",
    "    result = {}\n",
    "    for metric, scores in score_results.items():\n",
    "        result[f\"Nested CV {metric.upper()}\"] = f\"{np.nanmean(scores):.4f} ± {np.nanstd(scores):.4f}\"\n",
    "\n",
    "    result[\"Best Parameters with highest accuracy\"] = best_param_overall\n",
    "\n",
    "    return result"
   ],
   "id": "f34f5206b1082f4f",
   "outputs": [],
   "execution_count": 41
  },
  {
   "metadata": {},
   "cell_type": "markdown",
   "source": "## LDA - Linear Discriminant Analysis",
   "id": "9e55aea7cbce8855"
  },
  {
   "metadata": {
    "ExecuteTime": {
     "end_time": "2025-06-29T18:42:18.942770Z",
     "start_time": "2025-06-29T18:42:17.398668Z"
    }
   },
   "cell_type": "code",
   "source": [
    "from sklearn.discriminant_analysis import LinearDiscriminantAnalysis\n",
    "import time\n",
    "\n",
    "lda = LinearDiscriminantAnalysis()\n",
    "\n",
    "lda_parameters = {\n",
    "    'solver': [\"svd\", \"lsqr\", \"eigen\"]\n",
    "}\n",
    "\n",
    "start_time = time.time()\n",
    "\n",
    "lda_results = nested_cv(model = lda,\n",
    "                    param_grid = lda_parameters,\n",
    "                    X = X_standardized,\n",
    "                    y = y,\n",
    "                    outer_splits = 5,\n",
    "                    inner_splits = 5,\n",
    "                    scoring = ['accuracy'])\n",
    "\n",
    "end_time = time.time()\n",
    "\n",
    "print(f'LDA results\" \\n{lda_results}')\n",
    "print(f'Tempo di esecuzione {end_time - start_time}')"
   ],
   "id": "4f152816d4b2e765",
   "outputs": [
    {
     "name": "stdout",
     "output_type": "stream",
     "text": [
      "\n",
      "Performing Outer Fold 1/5\n",
      "Performing GridSearchCV...\n",
      " Best Params: {'solver': 'svd'}\n",
      " Accuracy: 0.9561\n",
      "\n",
      "Performing Outer Fold 2/5\n",
      "Performing GridSearchCV...\n",
      " Best Params: {'solver': 'svd'}\n",
      " Accuracy: 0.9737\n",
      "\n",
      "Performing Outer Fold 3/5\n",
      "Performing GridSearchCV...\n",
      " Best Params: {'solver': 'svd'}\n",
      " Accuracy: 0.9386\n",
      "\n",
      "Performing Outer Fold 4/5\n",
      "Performing GridSearchCV...\n",
      " Best Params: {'solver': 'svd'}\n",
      " Accuracy: 0.9474\n",
      "\n",
      "Performing Outer Fold 5/5\n",
      "Performing GridSearchCV...\n",
      " Best Params: {'solver': 'svd'}\n",
      " Accuracy: 0.9558\n",
      "LDA results\" \n",
      "{'Nested CV ACCURACY': '0.9543 ± 0.0116', 'Best Parameters with highest accuracy': {'solver': 'svd'}}\n",
      "Tempo di esecuzione 1.5341382026672363\n"
     ]
    }
   ],
   "execution_count": 42
  },
  {
   "metadata": {},
   "cell_type": "markdown",
   "source": "## QDA - Quadratic Discriminant Analysis",
   "id": "b3767042c6aeb34c"
  },
  {
   "metadata": {
    "ExecuteTime": {
     "end_time": "2025-06-29T18:46:46.119619Z",
     "start_time": "2025-06-29T18:46:44.617124Z"
    }
   },
   "cell_type": "code",
   "source": [
    "from sklearn.discriminant_analysis import QuadraticDiscriminantAnalysis\n",
    "\n",
    "qda = QuadraticDiscriminantAnalysis()\n",
    "\n",
    "qda_parameters = {\n",
    "    'reg_param': [0.0, 0.0001, 0.001, 0.01, 0.1, 0.5, 0.9]\n",
    "}\n",
    "\n",
    "start_time = time.time()\n",
    "\n",
    "qda_results = nested_cv(model = qda,\n",
    "                        param_grid = qda_parameters,\n",
    "                        X = X_standardized,\n",
    "                        y = y,\n",
    "                        outer_splits = 5,\n",
    "                        inner_splits = 5,\n",
    "                        scoring = ['accuracy'])\n",
    "\n",
    "end_time = time.time()\n",
    "\n",
    "print(f'QDA results\" \\n{qda_results}')\n",
    "print(f'Tempo di esecuzione {end_time - start_time}')"
   ],
   "id": "a46c747de407f0a0",
   "outputs": [
    {
     "name": "stdout",
     "output_type": "stream",
     "text": [
      "\n",
      "Performing Outer Fold 1/5\n",
      "Performing GridSearchCV...\n",
      " Best Params: {'reg_param': 0.1}\n",
      " Accuracy: 0.9561\n",
      "\n",
      "Performing Outer Fold 2/5\n",
      "Performing GridSearchCV...\n",
      " Best Params: {'reg_param': 0.5}\n",
      " Accuracy: 0.9737\n",
      "\n",
      "Performing Outer Fold 3/5\n",
      "Performing GridSearchCV...\n",
      " Best Params: {'reg_param': 0.1}\n",
      " Accuracy: 0.9737\n",
      "\n",
      "Performing Outer Fold 4/5\n",
      "Performing GridSearchCV...\n",
      " Best Params: {'reg_param': 0.5}\n",
      " Accuracy: 0.9649\n",
      "\n",
      "Performing Outer Fold 5/5\n",
      "Performing GridSearchCV...\n",
      " Best Params: {'reg_param': 0.1}\n",
      " Accuracy: 0.9558\n",
      "QDA results\" \n",
      "{'Nested CV ACCURACY': '0.9648 ± 0.0079', 'Best Parameters with highest accuracy': {'reg_param': 0.5}}\n",
      "Tempo di esecuzione 1.4440438747406006\n"
     ]
    }
   ],
   "execution_count": 43
  }
 ],
 "metadata": {
  "kernelspec": {
   "display_name": "Python 3",
   "language": "python",
   "name": "python3"
  },
  "language_info": {
   "codemirror_mode": {
    "name": "ipython",
    "version": 2
   },
   "file_extension": ".py",
   "mimetype": "text/x-python",
   "name": "python",
   "nbconvert_exporter": "python",
   "pygments_lexer": "ipython2",
   "version": "2.7.6"
  }
 },
 "nbformat": 4,
 "nbformat_minor": 5
}
