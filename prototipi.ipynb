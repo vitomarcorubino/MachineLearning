{
 "cells": [
  {
   "metadata": {},
   "cell_type": "markdown",
   "source": [
    "# Metodi basati su prototipi\n",
    "Confronto un metodo basato su prototipi (`KNN`) con un modello di `Logistic Regression`."
   ],
   "id": "1d9d42bea69adf06"
  },
  {
   "metadata": {},
   "cell_type": "markdown",
   "source": [
    "## Dataset sintetico\n",
    "Genero un dataset sintetico"
   ],
   "id": "aadb1f53dc84204b"
  },
  {
   "metadata": {
    "ExecuteTime": {
     "end_time": "2025-07-01T19:30:18.189135Z",
     "start_time": "2025-07-01T19:30:18.159352Z"
    }
   },
   "cell_type": "code",
   "source": [
    "from sklearn.datasets import make_classification\n",
    "\n",
    "# Dataset per un task di classificazione binaria con 1000 osservazioni e 20 features\n",
    "X, y = make_classification(n_samples = 1000, n_features = 20, n_classes = 2, random_state = 42)\n",
    "\n",
    "print(X.shape)\n",
    "print(y[:5]) # Le prime 5 etichette"
   ],
   "id": "d43aae9bec59005f",
   "outputs": [
    {
     "name": "stdout",
     "output_type": "stream",
     "text": [
      "(1000, 20)\n",
      "[1 0 1 1 0]\n"
     ]
    }
   ],
   "execution_count": 3
  },
  {
   "metadata": {},
   "cell_type": "markdown",
   "source": "## Nested Cross-Validation",
   "id": "d03cf19093b5a405"
  },
  {
   "metadata": {
    "ExecuteTime": {
     "end_time": "2025-07-01T19:36:16.057772Z",
     "start_time": "2025-07-01T19:36:13.777965Z"
    }
   },
   "cell_type": "code",
   "source": [
    "import numpy as np\n",
    "import pandas as pd\n",
    "from sklearn.model_selection import KFold, GridSearchCV\n",
    "from sklearn.metrics import accuracy_score, roc_auc_score, r2_score, root_mean_squared_error, mean_absolute_error\n",
    "\n",
    "def nested_cv(model, param_grid, X, y, outer_splits=5,\n",
    "              inner_splits=5, scoring=['accuracy', 'roc_auc'],\n",
    "              random_state=42, verbose=True):\n",
    "\n",
    "    # Assicurati che `y` sia un array 1D\n",
    "    if isinstance(y, pd.DataFrame):  # Se è un DataFrame Pandas\n",
    "        y = y.values.ravel()\n",
    "    elif isinstance(y, pd.Series):  # Se è una Serie Pandas\n",
    "        y = y.values\n",
    "    else:  # Se è un array Numpy\n",
    "        y = np.ravel(y)\n",
    "\n",
    "    # CROSS-VALIDATION ESTERNA\n",
    "    outer_cv = KFold(n_splits=outer_splits, shuffle=True, random_state=random_state)\n",
    "    score_results = {metric: [] for metric in scoring}\n",
    "\n",
    "    best_param_overall = None\n",
    "    best_score = -np.inf\n",
    "\n",
    "    for outer_fold, (train_idx, test_idx) in enumerate(outer_cv.split(X), 1):\n",
    "        if verbose:\n",
    "            print(f\"\\nPerforming Outer Fold {outer_fold}/{outer_splits}\")\n",
    "\n",
    "        # Usare il metodo .iloc per X, se è un DataFrame\n",
    "        if isinstance(X, pd.DataFrame):\n",
    "            X_train, X_test = X.iloc[train_idx], X.iloc[test_idx]\n",
    "        else:  # Altrimenti usa indicizzazione standard\n",
    "            X_train, X_test = X[train_idx], X[test_idx]\n",
    "\n",
    "        y_train, y_test = y[train_idx], y[test_idx]\n",
    "\n",
    "        # CROSS-VALIDATION INTERNA con GridSearchCV\n",
    "        inner_cv = KFold(n_splits=inner_splits, shuffle=True, random_state=random_state)\n",
    "        if verbose:\n",
    "            print(\"Performing GridSearchCV...\")\n",
    "\n",
    "        grid_search = GridSearchCV(model, param_grid, cv=inner_cv,\n",
    "                                   n_jobs=-1, scoring=scoring[0])\n",
    "        grid_search.fit(X_train, y_train)\n",
    "\n",
    "        best_model = grid_search.best_estimator_\n",
    "        best_params = grid_search.best_params_\n",
    "\n",
    "        if verbose:\n",
    "            print(f\" Best Params: {best_params}\")\n",
    "\n",
    "        # Test del modello ottimale sui dati di test dell'outer fold\n",
    "        y_pred = best_model.predict(X_test)\n",
    "\n",
    "        # Calcolo delle metriche\n",
    "        if 'accuracy' in scoring:\n",
    "            acc = accuracy_score(y_test, y_pred)\n",
    "            score_results['accuracy'].append(acc)\n",
    "            if acc > best_score:\n",
    "                best_score = acc\n",
    "                best_param_overall = best_params\n",
    "            if verbose:\n",
    "                print(f\" Accuracy: {acc:.4f}\")\n",
    "\n",
    "        if 'roc_auc' in scoring:\n",
    "            try:\n",
    "                y_score = best_model.predict_proba(X_test)[:, 1]\n",
    "                auc = roc_auc_score(y_test, y_score)\n",
    "                score_results['roc_auc'].append(auc)\n",
    "                if verbose:\n",
    "                    print(f\" AUC: {auc:.4f}\")\n",
    "            except AttributeError:\n",
    "                if verbose:\n",
    "                    print(\"Controlla se il modello ha un metodo `predict_proba`.\")\n",
    "                score_results['roc_auc'].append(np.nan)\n",
    "\n",
    "        if 'r2' in scoring:\n",
    "            r2score = r2_score(y_test, y_pred)\n",
    "            score_results['r2'].append(r2score)\n",
    "\n",
    "            if verbose:\n",
    "                print(f\" R2: {r2score:.4f}\")\n",
    "\n",
    "        if 'mae' in scoring:\n",
    "            mae = mean_absolute_error(y_test, y_pred)\n",
    "            score_results['mae'].append(mae)\n",
    "\n",
    "            if verbose:\n",
    "                print(f\" MAE: {mae:.4f}\")\n",
    "        if 'rmse' in scoring:\n",
    "            rmse = root_mean_squared_error(y_test, y_pred)\n",
    "            score_results['rmse'].append(rmse)\n",
    "\n",
    "            if verbose:\n",
    "                print(f\" RMSE: {rmse:.4f}\")\n",
    "\n",
    "    # Calcolo delle metriche globali (media e deviazione standard)\n",
    "    result = {}\n",
    "    for metric, scores in score_results.items():\n",
    "        result[f\"Nested CV {metric.upper()}\"] = f\"{np.nanmean(scores):.4f} ± {np.nanstd(scores):.4f}\"\n",
    "\n",
    "    result[\"Best Parameters with highest accuracy\"] = best_param_overall\n",
    "\n",
    "    return result"
   ],
   "id": "6f543571e67fb704",
   "outputs": [],
   "execution_count": 4
  },
  {
   "metadata": {},
   "cell_type": "markdown",
   "source": "## Pipeline 1: Scaling, PCA e KNN",
   "id": "56f2c9358a8eb617"
  },
  {
   "metadata": {
    "ExecuteTime": {
     "end_time": "2025-07-01T19:48:59.214533Z",
     "start_time": "2025-07-01T19:48:59.200620Z"
    }
   },
   "cell_type": "code",
   "source": [
    "from sklearn.pipeline import Pipeline\n",
    "from sklearn.preprocessing import StandardScaler\n",
    "from sklearn.decomposition import PCA\n",
    "from sklearn.neighbors import KNeighborsClassifier\n",
    "\n",
    "pipeline_knn = Pipeline([\n",
    "    ('scaler', StandardScaler()),\n",
    "    ('pca', PCA()),\n",
    "    ('knn', KNeighborsClassifier())\n",
    "])\n",
    "\n",
    "params_grid_knn = {\n",
    "    'pca__n_components': [2, 3, 5],\n",
    "    'pca__svd_solver': ['full', 'randomized'],\n",
    "    'knn__n_neighbors': [3, 5, 7],\n",
    "    'knn__weights': ['uniform', 'distance'],\n",
    "    'knn__metric': ['euclidean', 'manhattan']\n",
    "}"
   ],
   "id": "da3eb53ab6946fb9",
   "outputs": [],
   "execution_count": 7
  },
  {
   "metadata": {
    "ExecuteTime": {
     "end_time": "2025-07-01T19:49:17.706352Z",
     "start_time": "2025-07-01T19:49:06.327968Z"
    }
   },
   "cell_type": "code",
   "source": [
    "import time\n",
    "\n",
    "start_time = time.time()\n",
    "\n",
    "results = nested_cv(pipeline_knn,\n",
    "          param_grid = params_grid_knn,\n",
    "          X = X,\n",
    "          y = y,\n",
    "          scoring = ['accuracy'])\n",
    "\n",
    "end_time = time.time()\n",
    "\n",
    "print(\"Result KNN\")\n",
    "print(results)\n",
    "\n",
    "print(f'Elapsed time: {end_time - start_time} s')"
   ],
   "id": "d5f874f929addfe7",
   "outputs": [
    {
     "name": "stdout",
     "output_type": "stream",
     "text": [
      "\n",
      "Performing Outer Fold 1/5\n",
      "Performing GridSearchCV...\n",
      " Best Params: {'knn__metric': 'euclidean', 'knn__n_neighbors': 5, 'knn__weights': 'uniform', 'pca__n_components': 5, 'pca__svd_solver': 'randomized'}\n",
      " Accuracy: 0.7300\n",
      "\n",
      "Performing Outer Fold 2/5\n",
      "Performing GridSearchCV...\n",
      " Best Params: {'knn__metric': 'manhattan', 'knn__n_neighbors': 5, 'knn__weights': 'uniform', 'pca__n_components': 5, 'pca__svd_solver': 'randomized'}\n",
      " Accuracy: 0.7700\n",
      "\n",
      "Performing Outer Fold 3/5\n",
      "Performing GridSearchCV...\n",
      " Best Params: {'knn__metric': 'euclidean', 'knn__n_neighbors': 7, 'knn__weights': 'uniform', 'pca__n_components': 5, 'pca__svd_solver': 'full'}\n",
      " Accuracy: 0.7150\n",
      "\n",
      "Performing Outer Fold 4/5\n",
      "Performing GridSearchCV...\n",
      " Best Params: {'knn__metric': 'manhattan', 'knn__n_neighbors': 5, 'knn__weights': 'distance', 'pca__n_components': 5, 'pca__svd_solver': 'randomized'}\n",
      " Accuracy: 0.7650\n",
      "\n",
      "Performing Outer Fold 5/5\n",
      "Performing GridSearchCV...\n",
      " Best Params: {'knn__metric': 'euclidean', 'knn__n_neighbors': 7, 'knn__weights': 'distance', 'pca__n_components': 5, 'pca__svd_solver': 'randomized'}\n",
      " Accuracy: 0.7650\n",
      "Result KNN\n",
      "{'Nested CV ACCURACY': '0.7490 ± 0.0222', 'Best Parameters with highest accuracy': {'knn__metric': 'manhattan', 'knn__n_neighbors': 5, 'knn__weights': 'uniform', 'pca__n_components': 5, 'pca__svd_solver': 'randomized'}}\n",
      "Elapsed time: 11.369560480117798 s\n"
     ]
    }
   ],
   "execution_count": 8
  },
  {
   "metadata": {},
   "cell_type": "markdown",
   "source": "## Pipeline 2: Scaling, Kernel PCA, Logistic Regression",
   "id": "5b5d52b49f460a3d"
  },
  {
   "metadata": {
    "ExecuteTime": {
     "end_time": "2025-07-01T20:12:43.171700Z",
     "start_time": "2025-07-01T20:12:43.156491Z"
    }
   },
   "cell_type": "code",
   "source": [
    "from sklearn.decomposition import KernelPCA\n",
    "from sklearn.linear_model import LogisticRegression\n",
    "\n",
    "pipeline_logistic_regression = Pipeline([\n",
    "    ('scaler', StandardScaler()),\n",
    "    ('kpca', KernelPCA()),\n",
    "    ('logisticRegression', LogisticRegression())\n",
    "])\n",
    "\n",
    "params_grid_logistic_regression = {\n",
    "    'kpca__n_components': [2, 3, 5],\n",
    "    'kpca__kernel': ['linear', 'rbf', 'poly'],\n",
    "    'logisticRegression__solver': ['lbfgs', 'liblinear', 'saga']\n",
    "}"
   ],
   "id": "76da2fe47b1a23bf",
   "outputs": [],
   "execution_count": 15
  },
  {
   "metadata": {
    "ExecuteTime": {
     "end_time": "2025-07-01T20:14:22.582360Z",
     "start_time": "2025-07-01T20:14:02.205399Z"
    }
   },
   "cell_type": "code",
   "source": [
    "start_time = time.time()\n",
    "\n",
    "result_logistic_regression = nested_cv(pipeline_logistic_regression,\n",
    "          param_grid = params_grid_logistic_regression,\n",
    "          X = X,\n",
    "          y = y,\n",
    "          scoring = ['accuracy'])\n",
    "\n",
    "end_time = time.time()\n",
    "\n",
    "print(\"Result Logistic Regression\")\n",
    "print(result_logistic_regression)\n",
    "\n",
    "print(f'Elapsed time: {end_time - start_time} s')"
   ],
   "id": "9c28923a4059b0d9",
   "outputs": [
    {
     "name": "stdout",
     "output_type": "stream",
     "text": [
      "\n",
      "Performing Outer Fold 1/5\n",
      "Performing GridSearchCV...\n",
      " Best Params: {'kpca__kernel': 'rbf', 'kpca__n_components': 5, 'logisticRegression__solver': 'lbfgs'}\n",
      " Accuracy: 0.7400\n",
      "\n",
      "Performing Outer Fold 2/5\n",
      "Performing GridSearchCV...\n",
      " Best Params: {'kpca__kernel': 'rbf', 'kpca__n_components': 5, 'logisticRegression__solver': 'lbfgs'}\n",
      " Accuracy: 0.8100\n",
      "\n",
      "Performing Outer Fold 3/5\n",
      "Performing GridSearchCV...\n",
      " Best Params: {'kpca__kernel': 'linear', 'kpca__n_components': 5, 'logisticRegression__solver': 'lbfgs'}\n",
      " Accuracy: 0.7850\n",
      "\n",
      "Performing Outer Fold 4/5\n",
      "Performing GridSearchCV...\n",
      " Best Params: {'kpca__kernel': 'rbf', 'kpca__n_components': 5, 'logisticRegression__solver': 'lbfgs'}\n",
      " Accuracy: 0.7800\n",
      "\n",
      "Performing Outer Fold 5/5\n",
      "Performing GridSearchCV...\n",
      " Best Params: {'kpca__kernel': 'linear', 'kpca__n_components': 5, 'logisticRegression__solver': 'lbfgs'}\n",
      " Accuracy: 0.8100\n",
      "Result Logistic Regression\n",
      "{'Nested CV ACCURACY': '0.7850 ± 0.0257', 'Best Parameters with highest accuracy': {'kpca__kernel': 'rbf', 'kpca__n_components': 5, 'logisticRegression__solver': 'lbfgs'}}\n",
      "Elapsed time: 20.353833436965942 s\n"
     ]
    }
   ],
   "execution_count": 17
  }
 ],
 "metadata": {
  "kernelspec": {
   "display_name": "Python 3",
   "language": "python",
   "name": "python3"
  },
  "language_info": {
   "codemirror_mode": {
    "name": "ipython",
    "version": 2
   },
   "file_extension": ".py",
   "mimetype": "text/x-python",
   "name": "python",
   "nbconvert_exporter": "python",
   "pygments_lexer": "ipython2",
   "version": "2.7.6"
  }
 },
 "nbformat": 4,
 "nbformat_minor": 5
}
