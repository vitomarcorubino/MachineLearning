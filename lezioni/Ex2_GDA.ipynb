{
 "cells": [
  {
   "cell_type": "markdown",
   "id": "c1ce2780-4c35-40b9-bf91-3d4a5f26161b",
   "metadata": {},
   "source": [
    "# Esercitazione lab2"
   ]
  },
  {
   "cell_type": "markdown",
   "id": "b541b7e5-d2c2-4060-8d7a-f64cbfcad313",
   "metadata": {},
   "source": [
    "# Richieste:\n",
    "-  Confronti tra: `NNC`, `LDA`, `QDA`, `GaussianNB`, `RidgeClassifier`, `Perceptron`"
   ]
  },
  {
   "cell_type": "markdown",
   "id": "e8fef40b-96bc-49a4-8c48-20fdf3135e2a",
   "metadata": {},
   "source": [
    "## Load breast cancer dataset"
   ]
  },
  {
   "cell_type": "code",
   "execution_count": 1,
   "id": "3f289931-f7d3-46e3-9a60-e11862f39892",
   "metadata": {},
   "outputs": [],
   "source": [
    "from sklearn import datasets\n",
    "import numpy as np\n",
    "\n",
    "b_cancer = datasets.load_breast_cancer()\n",
    "X = b_cancer.data # Matrice delle X\n",
    "y = b_cancer.target # Vettore delle y"
   ]
  },
  {
   "cell_type": "code",
   "execution_count": 2,
   "id": "d404956e-09b0-41ea-9d27-d16ea19ba2f9",
   "metadata": {},
   "outputs": [
    {
     "name": "stdout",
     "output_type": "stream",
     "text": [
      "['mean radius' 'mean texture' 'mean perimeter' 'mean area'\n",
      " 'mean smoothness' 'mean compactness' 'mean concavity'\n",
      " 'mean concave points' 'mean symmetry' 'mean fractal dimension'\n",
      " 'radius error' 'texture error' 'perimeter error' 'area error'\n",
      " 'smoothness error' 'compactness error' 'concavity error'\n",
      " 'concave points error' 'symmetry error' 'fractal dimension error'\n",
      " 'worst radius' 'worst texture' 'worst perimeter' 'worst area'\n",
      " 'worst smoothness' 'worst compactness' 'worst concavity'\n",
      " 'worst concave points' 'worst symmetry' 'worst fractal dimension']\n"
     ]
    }
   ],
   "source": [
    "print(b_cancer.feature_names)"
   ]
  },
  {
   "cell_type": "code",
   "execution_count": 3,
   "id": "fd0d387f-ca2e-4655-93ad-225838eb7d6d",
   "metadata": {},
   "outputs": [
    {
     "name": "stdout",
     "output_type": "stream",
     "text": [
      "['malignant' 'benign']\n"
     ]
    }
   ],
   "source": [
    "print(b_cancer.target_names)"
   ]
  },
  {
   "cell_type": "markdown",
   "id": "0721272f-0951-4b67-a8ee-78a5e5790af5",
   "metadata": {},
   "source": [
    "## Normalization"
   ]
  },
  {
   "cell_type": "code",
   "execution_count": 4,
   "id": "126a747b-68bf-4e87-bfb1-0a410a019cb9",
   "metadata": {},
   "outputs": [],
   "source": [
    "from sklearn.preprocessing import MinMaxScaler\n",
    "\n",
    "mms = MinMaxScaler()\n",
    "X_norm = mms.fit_transform(X) "
   ]
  },
  {
   "cell_type": "markdown",
   "id": "66ad44e9-2652-41d0-8832-10d518cd034a",
   "metadata": {},
   "source": [
    "## Nested CV [classificazione]"
   ]
  },
  {
   "cell_type": "code",
   "execution_count": 18,
   "id": "d0404829-2a03-4ad6-8697-19ca5441898b",
   "metadata": {},
   "outputs": [],
   "source": [
    "from sklearn.model_selection import KFold, GridSearchCV\n",
    "from sklearn.metrics import accuracy_score\n",
    "import numpy as np\n",
    "\n",
    "def nested_cv(model, param_grid, X, y, outer_splits=5,\n",
    "              inner_splits=5, scoring=['accuracy'], random_state=42, verbose=True):\n",
    "\n",
    "    outer_cv = KFold(n_splits=outer_splits, shuffle=True, random_state=random_state)\n",
    "    score_results = {metric: [] for metric in scoring}\n",
    "\n",
    "    best_param_overall = None\n",
    "    best_score = -np.inf \n",
    "\n",
    "    for outer_fold, (train_idx, test_idx) in enumerate(outer_cv.split(X), 1):\n",
    "        if verbose:\n",
    "            print(f\"\\nPerforming Outer Fold {outer_fold}/{outer_splits}\")\n",
    "\n",
    "        X_train, X_test = X[train_idx], X[test_idx]\n",
    "        y_train, y_test = y[train_idx], y[test_idx]\n",
    "\n",
    "        inner_cv = KFold(n_splits=inner_splits, shuffle=True, random_state=random_state)\n",
    "        if verbose:\n",
    "            print(\"Performing GridSearchCV...\")\n",
    "\n",
    "        grid_search = GridSearchCV(model, param_grid, cv=inner_cv,\n",
    "                                   n_jobs=-1, scoring=scoring[0])\n",
    "        grid_search.fit(X_train, y_train)\n",
    "\n",
    "        best_model = grid_search.best_estimator_\n",
    "        best_params = grid_search.best_params_\n",
    "\n",
    "        if verbose:\n",
    "            print(f\" Best Params: {best_params}\")\n",
    "\n",
    "        y_pred = best_model.predict(X_test)\n",
    "\n",
    "        if 'accuracy' in scoring:\n",
    "            acc = accuracy_score(y_test, y_pred)\n",
    "            score_results['accuracy'].append(acc)\n",
    "\n",
    "            if acc > best_score:\n",
    "                best_score = acc\n",
    "                best_param_overall = best_params\n",
    "\n",
    "            if verbose:\n",
    "                print(f\" Accuracy: {acc:.4f}\")\n",
    "\n",
    "    result = {}\n",
    "    for metric, scores in score_results.items():\n",
    "        result[f\"Nested CV {metric.upper()}\"] = f\"{np.mean(scores):.4f} ± {np.std(scores):.4f}\"\n",
    "\n",
    "    result[\"Best Parameters with highest accuracy\"] = best_param_overall\n",
    "\n",
    "    return result"
   ]
  },
  {
   "cell_type": "markdown",
   "id": "a5f147ef-0f07-486e-8913-29c24c2a440b",
   "metadata": {},
   "source": [
    "# Confronti tra modelli"
   ]
  },
  {
   "cell_type": "markdown",
   "id": "1d5c1d12-ead1-440d-8bb9-3f8e083824a6",
   "metadata": {},
   "source": [
    "## Nearest Centroid Neighbor"
   ]
  },
  {
   "cell_type": "code",
   "execution_count": 19,
   "id": "e2c1dbea-8582-4e32-9ed9-9eaa8a103624",
   "metadata": {},
   "outputs": [
    {
     "name": "stdout",
     "output_type": "stream",
     "text": [
      "\n",
      "Performing Outer Fold 1/5\n",
      "Performing GridSearchCV...\n",
      " Best Params: {'metric': 'manhattan'}\n",
      " Accuracy: 0.9737\n",
      "\n",
      "Performing Outer Fold 2/5\n",
      "Performing GridSearchCV...\n",
      " Best Params: {'metric': 'manhattan'}\n",
      " Accuracy: 0.9298\n",
      "\n",
      "Performing Outer Fold 3/5\n",
      "Performing GridSearchCV...\n",
      " Best Params: {'metric': 'manhattan'}\n",
      " Accuracy: 0.9474\n",
      "\n",
      "Performing Outer Fold 4/5\n",
      "Performing GridSearchCV...\n",
      " Best Params: {'metric': 'euclidean'}\n",
      " Accuracy: 0.9386\n",
      "\n",
      "Performing Outer Fold 5/5\n",
      "Performing GridSearchCV...\n",
      " Best Params: {'metric': 'manhattan'}\n",
      " Accuracy: 0.9204\n",
      "NCA Results: \n",
      "{'Nested CV ACCURACY': '0.9420 ± 0.0182', 'Best Parameters (highest accuracy)': {'metric': 'manhattan'}}\n",
      "Tempo di esecuzione 2.106163501739502\n"
     ]
    }
   ],
   "source": [
    "import time\n",
    "from sklearn.neighbors import NearestCentroid\n",
    "\n",
    "start_time = time.time()\n",
    "\n",
    "nc_model = NearestCentroid()\n",
    "\n",
    "nc_params = {'metric': ['euclidean', 'manhattan']}\n",
    "\n",
    "nc_results = nested_cv(nc_model, nc_params, X_norm, y,\n",
    "                        outer_splits=5, inner_splits=5,\n",
    "                        scoring=['accuracy'])\n",
    "\n",
    "end_time = time.time()\n",
    "\n",
    "print(f'NCA Results: \\n{nc_results}')\n",
    "print(f'Tempo di esecuzione {end_time - start_time}')"
   ]
  },
  {
   "cell_type": "code",
   "execution_count": 12,
   "id": "5eb8b338-6b07-4246-81e1-43884aab65dd",
   "metadata": {},
   "outputs": [
    {
     "data": {
      "text/html": [
       "<div>\n",
       "<style scoped>\n",
       "    .dataframe tbody tr th:only-of-type {\n",
       "        vertical-align: middle;\n",
       "    }\n",
       "\n",
       "    .dataframe tbody tr th {\n",
       "        vertical-align: top;\n",
       "    }\n",
       "\n",
       "    .dataframe thead th {\n",
       "        text-align: right;\n",
       "    }\n",
       "</style>\n",
       "<table border=\"1\" class=\"dataframe\">\n",
       "  <thead>\n",
       "    <tr style=\"text-align: right;\">\n",
       "      <th></th>\n",
       "      <th>metric</th>\n",
       "    </tr>\n",
       "  </thead>\n",
       "  <tbody>\n",
       "    <tr>\n",
       "      <th>0</th>\n",
       "      <td>manhattan</td>\n",
       "    </tr>\n",
       "    <tr>\n",
       "      <th>1</th>\n",
       "      <td>manhattan</td>\n",
       "    </tr>\n",
       "    <tr>\n",
       "      <th>2</th>\n",
       "      <td>manhattan</td>\n",
       "    </tr>\n",
       "    <tr>\n",
       "      <th>3</th>\n",
       "      <td>euclidean</td>\n",
       "    </tr>\n",
       "    <tr>\n",
       "      <th>4</th>\n",
       "      <td>manhattan</td>\n",
       "    </tr>\n",
       "  </tbody>\n",
       "</table>\n",
       "</div>"
      ],
      "text/plain": [
       "      metric\n",
       "0  manhattan\n",
       "1  manhattan\n",
       "2  manhattan\n",
       "3  euclidean\n",
       "4  manhattan"
      ]
     },
     "execution_count": 12,
     "metadata": {},
     "output_type": "execute_result"
    }
   ],
   "source": [
    "import pandas as pd\n",
    "nc_params_df = pd.DataFrame(nc_results[\"Best Parameters per fold\"])\n",
    "nc_params_df"
   ]
  },
  {
   "cell_type": "markdown",
   "id": "69d4140d-8eca-4c8e-a170-1f06ab7819dd",
   "metadata": {},
   "source": [
    "## Latent Discriminant Analysis"
   ]
  },
  {
   "cell_type": "code",
   "execution_count": 13,
   "id": "a91a5f2e-cf57-4fb7-add8-e1b06f07a45f",
   "metadata": {},
   "outputs": [
    {
     "name": "stdout",
     "output_type": "stream",
     "text": [
      "\n",
      " Performing Outer Fold 1/5\n",
      "Performing GridSearchCV...\n",
      " Best Params: {'solver': 'svd'}\n",
      " Accuracy: 0.9561\n",
      "\n",
      " Performing Outer Fold 2/5\n",
      "Performing GridSearchCV...\n",
      " Best Params: {'solver': 'svd'}\n",
      " Accuracy: 0.9737\n",
      "\n",
      " Performing Outer Fold 3/5\n",
      "Performing GridSearchCV...\n",
      " Best Params: {'solver': 'svd'}\n",
      " Accuracy: 0.9386\n",
      "\n",
      " Performing Outer Fold 4/5\n",
      "Performing GridSearchCV...\n",
      " Best Params: {'solver': 'svd'}\n",
      " Accuracy: 0.9474\n",
      "\n",
      " Performing Outer Fold 5/5\n",
      "Performing GridSearchCV...\n",
      " Best Params: {'solver': 'svd'}\n",
      " Accuracy: 0.9558\n",
      "LDA Results: \n",
      "{'Nested CV ACCURACY': '0.9543 ± 0.0116', 'Best Parameters per fold': [{'solver': 'svd'}, {'solver': 'svd'}, {'solver': 'svd'}, {'solver': 'svd'}, {'solver': 'svd'}]}\n",
      "Tempo di esecuzione 0.39138364791870117\n"
     ]
    }
   ],
   "source": [
    "from sklearn.discriminant_analysis import LinearDiscriminantAnalysis\n",
    "\n",
    "lda_model = LinearDiscriminantAnalysis()\n",
    "\n",
    "lda_params = {'solver': ['svd', 'lsqr', 'eigen']}\n",
    "\n",
    "start_time = time.time()\n",
    "\n",
    "lda_results = nested_cv(lda_model, lda_params, X_norm, y,\n",
    "                        outer_splits=5, inner_splits=5,\n",
    "                        scoring=['accuracy'])\n",
    "\n",
    "end_time = time.time()\n",
    "\n",
    "print(f'LDA Results: \\n{lda_results}')\n",
    "print(f'Tempo di esecuzione {end_time - start_time}')"
   ]
  },
  {
   "cell_type": "markdown",
   "id": "b2d82a8e-cfda-40ae-9e04-a21a7f323beb",
   "metadata": {},
   "source": [
    "## Quadratic Discriminant Analysis"
   ]
  },
  {
   "cell_type": "code",
   "execution_count": 17,
   "id": "ea119bc0-d179-41a0-b8f5-6561243dea6c",
   "metadata": {},
   "outputs": [
    {
     "name": "stdout",
     "output_type": "stream",
     "text": [
      "QDA Results: \n",
      "{'Nested CV ACCURACY': '0.9596 ± 0.0071', 'Nested CV AUC-ROC': '0.9516 ± 0.0053', 'Best Parameters per fold': [{'reg_param': 0.001}, {'reg_param': 0.001}, {'reg_param': 0.0}, {'reg_param': 0.0001}, {'reg_param': 0.001}]}\n",
      "Tempo di esecuzione 0.5321633815765381\n"
     ]
    }
   ],
   "source": [
    "from sklearn.discriminant_analysis import QuadraticDiscriminantAnalysis\n",
    "\n",
    "qda_model = QuadraticDiscriminantAnalysis()\n",
    "\n",
    "qda_params = {'reg_param': [0.0, 0.0001, 0.001, 0.01, 0.1, 0.5, 0.9]}\n",
    "\n",
    "start_time = time.time()\n",
    "\n",
    "qda_results = nested_cv(qda_model, qda_params, X_norm, y,\n",
    "                        outer_splits=5, inner_splits=5,\n",
    "                        scoring=['accuracy', 'auc-roc'])\n",
    "\n",
    "end_time = time.time()\n",
    "\n",
    "print(f'QDA Results: \\n{qda_results}')\n",
    "print(f'Tempo di esecuzione {end_time - start_time}')"
   ]
  },
  {
   "cell_type": "markdown",
   "id": "19feda61-5c97-4557-af49-e7f56d42bc2a",
   "metadata": {},
   "source": [
    "## Gaussian Naive Bayes"
   ]
  },
  {
   "cell_type": "code",
   "execution_count": 14,
   "id": "07712eef-34f3-4e3e-b386-65e8fdf3c82e",
   "metadata": {},
   "outputs": [
    {
     "name": "stdout",
     "output_type": "stream",
     "text": [
      "\n",
      " Performing Outer Fold 1/5\n",
      "Performing GridSearchCV...\n",
      " Best Params: {'var_smoothing': 1e-12}\n",
      " Accuracy: 0.9649\n",
      "\n",
      " Performing Outer Fold 2/5\n",
      "Performing GridSearchCV...\n",
      " Best Params: {'var_smoothing': 1e-12}\n",
      " Accuracy: 0.9211\n",
      "\n",
      " Performing Outer Fold 3/5\n",
      "Performing GridSearchCV...\n",
      " Best Params: {'var_smoothing': 1e-12}\n",
      " Accuracy: 0.9386\n",
      "\n",
      " Performing Outer Fold 4/5\n",
      "Performing GridSearchCV...\n",
      " Best Params: {'var_smoothing': 1e-12}\n",
      " Accuracy: 0.9298\n",
      "\n",
      " Performing Outer Fold 5/5\n",
      "Performing GridSearchCV...\n",
      " Best Params: {'var_smoothing': 1e-12}\n",
      " Accuracy: 0.9292\n",
      "GNB Results: \n",
      "{'Nested CV ACCURACY': '0.9367 ± 0.0152', 'Best Parameters per fold': [{'var_smoothing': 1e-12}, {'var_smoothing': 1e-12}, {'var_smoothing': 1e-12}, {'var_smoothing': 1e-12}, {'var_smoothing': 1e-12}]}\n",
      "Tempo di esecuzione 0.1956024169921875\n"
     ]
    }
   ],
   "source": [
    "from sklearn.naive_bayes import GaussianNB\n",
    "\n",
    "gnb_model = GaussianNB()\n",
    "\n",
    "gnb_params = {\n",
    "    'var_smoothing': np.logspace(-12, -6, 7)  \n",
    "}\n",
    "\n",
    "start_time = time.time()\n",
    "\n",
    "gnb_results = nested_cv(gnb_model, gnb_params, X_norm, y,\n",
    "                        outer_splits=5, inner_splits=5,\n",
    "                        scoring=['accuracy'])\n",
    "\n",
    "end_time = time.time()\n",
    "\n",
    "print(f'GNB Results: \\n{gnb_results}')\n",
    "print(f'Tempo di esecuzione {end_time - start_time}')"
   ]
  },
  {
   "cell_type": "markdown",
   "id": "4dcd1782-8a06-4cc4-ae40-b7d816e67b90",
   "metadata": {},
   "source": [
    "## Ridge Classifier"
   ]
  },
  {
   "cell_type": "code",
   "execution_count": 15,
   "id": "7fc877bc-7e33-4d49-9b93-689a0d3ac64d",
   "metadata": {},
   "outputs": [
    {
     "name": "stdout",
     "output_type": "stream",
     "text": [
      "\n",
      " Performing Outer Fold 1/5\n",
      "Performing GridSearchCV...\n",
      " Best Params: {'alpha': 0.1, 'fit_intercept': True, 'solver': 'sparse_cg', 'tol': 0.01}\n",
      " Accuracy: 0.9561\n",
      "\n",
      " Performing Outer Fold 2/5\n",
      "Performing GridSearchCV...\n",
      " Best Params: {'alpha': 1.0, 'fit_intercept': True, 'solver': 'svd', 'tol': 0.0001}\n",
      " Accuracy: 0.9649\n",
      "\n",
      " Performing Outer Fold 3/5\n",
      "Performing GridSearchCV...\n",
      " Best Params: {'alpha': 0.01, 'fit_intercept': True, 'solver': 'sparse_cg', 'tol': 0.001}\n",
      " Accuracy: 0.9474\n",
      "\n",
      " Performing Outer Fold 4/5\n",
      "Performing GridSearchCV...\n",
      " Best Params: {'alpha': 0.1, 'fit_intercept': True, 'solver': 'svd', 'tol': 0.0001}\n",
      " Accuracy: 0.9649\n",
      "\n",
      " Performing Outer Fold 5/5\n",
      "Performing GridSearchCV...\n",
      " Best Params: {'alpha': 0.01, 'fit_intercept': True, 'solver': 'sag', 'tol': 0.01}\n",
      " Accuracy: 0.9646\n",
      "RC Results: \n",
      "{'Nested CV ACCURACY': '0.9596 ± 0.0070', 'Best Parameters per fold': [{'alpha': 0.1, 'fit_intercept': True, 'solver': 'sparse_cg', 'tol': 0.01}, {'alpha': 1.0, 'fit_intercept': True, 'solver': 'svd', 'tol': 0.0001}, {'alpha': 0.01, 'fit_intercept': True, 'solver': 'sparse_cg', 'tol': 0.001}, {'alpha': 0.1, 'fit_intercept': True, 'solver': 'svd', 'tol': 0.0001}, {'alpha': 0.01, 'fit_intercept': True, 'solver': 'sag', 'tol': 0.01}]}\n",
      "Tempo di esecuzione 16.38817572593689\n"
     ]
    }
   ],
   "source": [
    "from sklearn.linear_model import RidgeClassifier\n",
    "\n",
    "rc_model = RidgeClassifier(max_iter=5000, random_state=42)\n",
    "\n",
    "\n",
    "rc_params = {\n",
    "    'alpha': [0.01, 0.1, 1.0, 10.0],  \n",
    "    'fit_intercept': [True, False],          \n",
    "    'tol': [1e-4, 1e-3, 1e-2],              \n",
    "    'solver': ['svd', 'cholesky', 'lsqr', 'sparse_cg', 'sag', 'saga'],  \n",
    "}\n",
    "\n",
    "start_time = time.time()\n",
    "\n",
    "rc_results = nested_cv(rc_model, rc_params, X_norm, y,\n",
    "                        outer_splits=5, inner_splits=5,\n",
    "                        scoring=['accuracy'])\n",
    "\n",
    "end_time = time.time()\n",
    "\n",
    "print(f'RC Results: \\n{rc_results}')\n",
    "print(f'Tempo di esecuzione {end_time - start_time}')"
   ]
  },
  {
   "cell_type": "markdown",
   "id": "e85c59ec-b374-474d-aaf8-cf12809f6208",
   "metadata": {},
   "source": [
    "## Perceptron"
   ]
  },
  {
   "cell_type": "code",
   "execution_count": 17,
   "id": "596ed7d2-a61d-4a75-a089-da3644524f9c",
   "metadata": {},
   "outputs": [
    {
     "name": "stdout",
     "output_type": "stream",
     "text": [
      "\n",
      " Performing Outer Fold 1/5\n",
      "Performing GridSearchCV...\n",
      " Best Params: {'alpha': 0.0001, 'penalty': 'l1'}\n",
      " Accuracy: 0.9737\n",
      "\n",
      " Performing Outer Fold 2/5\n",
      "Performing GridSearchCV...\n",
      " Best Params: {'alpha': 0.0001, 'penalty': 'l1'}\n",
      " Accuracy: 0.9737\n",
      "\n",
      " Performing Outer Fold 3/5\n",
      "Performing GridSearchCV...\n",
      " Best Params: {'alpha': 1e-05, 'penalty': 'l2'}\n",
      " Accuracy: 0.9298\n",
      "\n",
      " Performing Outer Fold 4/5\n",
      "Performing GridSearchCV...\n",
      " Best Params: {'alpha': 1e-05, 'penalty': 'l2'}\n",
      " Accuracy: 0.9737\n",
      "\n",
      " Performing Outer Fold 5/5\n",
      "Performing GridSearchCV...\n",
      " Best Params: {'alpha': 1e-05, 'penalty': 'l1'}\n",
      " Accuracy: 0.9646\n",
      "PPN Results: \n",
      "{'Nested CV ACCURACY': '0.9631 ± 0.0170', 'Best Parameters per fold': [{'alpha': 0.0001, 'penalty': 'l1'}, {'alpha': 0.0001, 'penalty': 'l1'}, {'alpha': 1e-05, 'penalty': 'l2'}, {'alpha': 1e-05, 'penalty': 'l2'}, {'alpha': 1e-05, 'penalty': 'l1'}]}\n",
      "Tempo di esecuzione 2.0428638458251953\n"
     ]
    }
   ],
   "source": [
    "from sklearn.linear_model import Perceptron\n",
    "\n",
    "ppn_model = Perceptron(random_state=42)\n",
    "\n",
    "ppn_params = {\n",
    "    'penalty': [None, 'l2', 'l1', 'elasticnet'],        \n",
    "    'alpha': [1e-5, 1e-4, 1e-3, 1e-2],                 \n",
    "    #'l1_ratio': [0.15, 0.5, 0.7, 0.9],\n",
    "    #'fit_intercept': [True, False],                    \n",
    "    #'max_iter': [500, 1000, 2000],                     \n",
    "    #'shuffle': [True, False],                          \n",
    "    #'eta0': [0.1, 0.5, 1.0, 5.0],                     \n",
    "    #'early_stopping': [False, True],                   \n",
    "}\n",
    "\n",
    "start_time = time.time()\n",
    "\n",
    "ppn_results = nested_cv(ppn_model, ppn_params, X_norm, y,\n",
    "                        outer_splits=5, inner_splits=5,\n",
    "                        scoring=['accuracy'])\n",
    "\n",
    "end_time = time.time()\n",
    "\n",
    "print(f'PPN Results: \\n{ppn_results}')\n",
    "print(f'Tempo di esecuzione {end_time - start_time}')"
   ]
  },
  {
   "cell_type": "code",
   "execution_count": 35,
   "id": "c50102da-dc10-4ff5-b8a3-2f2acaf88062",
   "metadata": {},
   "outputs": [
    {
     "data": {
      "text/html": [
       "<div>\n",
       "<style scoped>\n",
       "    .dataframe tbody tr th:only-of-type {\n",
       "        vertical-align: middle;\n",
       "    }\n",
       "\n",
       "    .dataframe tbody tr th {\n",
       "        vertical-align: top;\n",
       "    }\n",
       "\n",
       "    .dataframe thead th {\n",
       "        text-align: right;\n",
       "    }\n",
       "</style>\n",
       "<table border=\"1\" class=\"dataframe\">\n",
       "  <thead>\n",
       "    <tr style=\"text-align: right;\">\n",
       "      <th></th>\n",
       "      <th>alpha</th>\n",
       "      <th>early_stopping</th>\n",
       "      <th>eta0</th>\n",
       "      <th>fit_intercept</th>\n",
       "      <th>l1_ratio</th>\n",
       "      <th>max_iter</th>\n",
       "      <th>penalty</th>\n",
       "      <th>shuffle</th>\n",
       "    </tr>\n",
       "  </thead>\n",
       "  <tbody>\n",
       "    <tr>\n",
       "      <th>0</th>\n",
       "      <td>0.00010</td>\n",
       "      <td>False</td>\n",
       "      <td>1.0</td>\n",
       "      <td>True</td>\n",
       "      <td>0.90</td>\n",
       "      <td>500</td>\n",
       "      <td>elasticnet</td>\n",
       "      <td>True</td>\n",
       "    </tr>\n",
       "    <tr>\n",
       "      <th>1</th>\n",
       "      <td>0.00001</td>\n",
       "      <td>False</td>\n",
       "      <td>0.5</td>\n",
       "      <td>True</td>\n",
       "      <td>0.15</td>\n",
       "      <td>500</td>\n",
       "      <td>l2</td>\n",
       "      <td>True</td>\n",
       "    </tr>\n",
       "    <tr>\n",
       "      <th>2</th>\n",
       "      <td>0.00001</td>\n",
       "      <td>False</td>\n",
       "      <td>1.0</td>\n",
       "      <td>True</td>\n",
       "      <td>0.15</td>\n",
       "      <td>500</td>\n",
       "      <td>l2</td>\n",
       "      <td>True</td>\n",
       "    </tr>\n",
       "    <tr>\n",
       "      <th>3</th>\n",
       "      <td>0.00010</td>\n",
       "      <td>False</td>\n",
       "      <td>0.1</td>\n",
       "      <td>True</td>\n",
       "      <td>0.15</td>\n",
       "      <td>500</td>\n",
       "      <td>l2</td>\n",
       "      <td>True</td>\n",
       "    </tr>\n",
       "    <tr>\n",
       "      <th>4</th>\n",
       "      <td>0.00001</td>\n",
       "      <td>False</td>\n",
       "      <td>0.1</td>\n",
       "      <td>True</td>\n",
       "      <td>0.50</td>\n",
       "      <td>500</td>\n",
       "      <td>elasticnet</td>\n",
       "      <td>True</td>\n",
       "    </tr>\n",
       "  </tbody>\n",
       "</table>\n",
       "</div>"
      ],
      "text/plain": [
       "     alpha  early_stopping  eta0  ...  max_iter     penalty  shuffle\n",
       "0  0.00010           False   1.0  ...       500  elasticnet     True\n",
       "1  0.00001           False   0.5  ...       500          l2     True\n",
       "2  0.00001           False   1.0  ...       500          l2     True\n",
       "3  0.00010           False   0.1  ...       500          l2     True\n",
       "4  0.00001           False   0.1  ...       500  elasticnet     True\n",
       "\n",
       "[5 rows x 8 columns]"
      ]
     },
     "execution_count": 35,
     "metadata": {},
     "output_type": "execute_result"
    }
   ],
   "source": [
    "ppn_params_df = pd.DataFrame(ppn_results[\"Best Parameters per fold\"])\n",
    "ppn_params_df"
   ]
  },
  {
   "cell_type": "code",
   "execution_count": null,
   "id": "79cf397f-62ca-4203-b71b-eeb7c99d0b57",
   "metadata": {},
   "outputs": [],
   "source": []
  },
  {
   "cell_type": "code",
   "execution_count": null,
   "id": "9ea882b5-19ed-4846-8271-df6bdbe9a126",
   "metadata": {},
   "outputs": [],
   "source": []
  }
 ],
 "metadata": {
  "kernelspec": {
   "display_name": "Python 3 (ipykernel)",
   "language": "python",
   "name": "python3"
  },
  "language_info": {
   "codemirror_mode": {
    "name": "ipython",
    "version": 3
   },
   "file_extension": ".py",
   "mimetype": "text/x-python",
   "name": "python",
   "nbconvert_exporter": "python",
   "pygments_lexer": "ipython3",
   "version": "3.10.13"
  }
 },
 "nbformat": 4,
 "nbformat_minor": 5
}
