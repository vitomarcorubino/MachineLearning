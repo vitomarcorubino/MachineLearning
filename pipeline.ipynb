{
 "cells": [
  {
   "metadata": {},
   "cell_type": "markdown",
   "source": [
    "# Pipelines\n",
    "In questo esercizio, bisognerà creare una Pipeline in cui si effettua:\n",
    "1. Scaling\n",
    "2. Riduzione della dimensionalità\n",
    "3. Visualizzare le dimensioni ottenute\n",
    "4. Applicare il modello\n",
    "5. Ottenere l'accuracy\n"
   ],
   "id": "607321a3e6563b90"
  },
  {
   "metadata": {
    "ExecuteTime": {
     "end_time": "2025-06-30T17:24:25.301300Z",
     "start_time": "2025-06-30T17:24:24.777046Z"
    }
   },
   "cell_type": "code",
   "source": [
    "from sklearn.pipeline import Pipeline\n",
    "from sklearn.datasets import load_wine\n",
    "import pandas as pd\n",
    "import time"
   ],
   "id": "e342f1a1272521be",
   "outputs": [],
   "execution_count": 1
  },
  {
   "metadata": {
    "collapsed": true,
    "ExecuteTime": {
     "end_time": "2025-06-30T17:24:25.395456Z",
     "start_time": "2025-06-30T17:24:25.363963Z"
    }
   },
   "cell_type": "code",
   "source": [
    "wine_dataset = load_wine()\n",
    "X = wine_dataset.data\n",
    "y = wine_dataset.target\n",
    "\n",
    "print(X.shape)\n",
    "print(wine_dataset.feature_names)"
   ],
   "id": "initial_id",
   "outputs": [
    {
     "name": "stdout",
     "output_type": "stream",
     "text": [
      "(178, 13)\n",
      "['alcohol', 'malic_acid', 'ash', 'alcalinity_of_ash', 'magnesium', 'total_phenols', 'flavanoids', 'nonflavanoid_phenols', 'proanthocyanins', 'color_intensity', 'hue', 'od280/od315_of_diluted_wines', 'proline']\n"
     ]
    }
   ],
   "execution_count": 2
  },
  {
   "metadata": {},
   "cell_type": "markdown",
   "source": "# Nested CV",
   "id": "16bff92313eb413a"
  },
  {
   "metadata": {
    "ExecuteTime": {
     "end_time": "2025-06-30T17:30:47.264344Z",
     "start_time": "2025-06-30T17:30:47.222535Z"
    }
   },
   "cell_type": "code",
   "source": [
    "import numpy as np\n",
    "import pandas as pd\n",
    "from sklearn.model_selection import KFold, GridSearchCV\n",
    "from sklearn.metrics import accuracy_score, roc_auc_score, r2_score, root_mean_squared_error, mean_absolute_error\n",
    "\n",
    "def nested_cv(model, param_grid, X, y, outer_splits=5,\n",
    "              inner_splits=5, scoring=['accuracy', 'roc_auc'],\n",
    "              random_state=42, verbose=True):\n",
    "\n",
    "    # Assicurati che `y` sia un array 1D\n",
    "    if isinstance(y, pd.DataFrame):  # Se è un DataFrame Pandas\n",
    "        y = y.values.ravel()\n",
    "    elif isinstance(y, pd.Series):  # Se è una Serie Pandas\n",
    "        y = y.values\n",
    "    else:  # Se è un array Numpy\n",
    "        y = np.ravel(y)\n",
    "\n",
    "    # CROSS-VALIDATION ESTERNA\n",
    "    outer_cv = KFold(n_splits=outer_splits, shuffle=True, random_state=random_state)\n",
    "    score_results = {metric: [] for metric in scoring}\n",
    "\n",
    "    best_param_overall = None\n",
    "    best_score = -np.inf\n",
    "\n",
    "    for outer_fold, (train_idx, test_idx) in enumerate(outer_cv.split(X), 1):\n",
    "        if verbose:\n",
    "            print(f\"\\nPerforming Outer Fold {outer_fold}/{outer_splits}\")\n",
    "\n",
    "        # Usare il metodo .iloc per X, se è un DataFrame\n",
    "        if isinstance(X, pd.DataFrame):\n",
    "            X_train, X_test = X.iloc[train_idx], X.iloc[test_idx]\n",
    "        else:  # Altrimenti usa indicizzazione standard\n",
    "            X_train, X_test = X[train_idx], X[test_idx]\n",
    "\n",
    "        y_train, y_test = y[train_idx], y[test_idx]\n",
    "\n",
    "        # CROSS-VALIDATION INTERNA con GridSearchCV\n",
    "        inner_cv = KFold(n_splits=inner_splits, shuffle=True, random_state=random_state)\n",
    "        if verbose:\n",
    "            print(\"Performing GridSearchCV...\")\n",
    "\n",
    "        grid_search = GridSearchCV(model, param_grid, cv=inner_cv,\n",
    "                                   n_jobs=-1, scoring=scoring[0])\n",
    "        grid_search.fit(X_train, y_train)\n",
    "\n",
    "        best_model = grid_search.best_estimator_\n",
    "        best_params = grid_search.best_params_\n",
    "\n",
    "        if verbose:\n",
    "            print(f\" Best Params: {best_params}\")\n",
    "\n",
    "        # Test del modello ottimale sui dati di test dell'outer fold\n",
    "        y_pred = best_model.predict(X_test)\n",
    "\n",
    "        # Calcolo delle metriche\n",
    "        if 'accuracy' in scoring:\n",
    "            acc = accuracy_score(y_test, y_pred)\n",
    "            score_results['accuracy'].append(acc)\n",
    "            if acc > best_score:\n",
    "                best_score = acc\n",
    "                best_param_overall = best_params\n",
    "            if verbose:\n",
    "                print(f\" Accuracy: {acc:.4f}\")\n",
    "\n",
    "        if 'roc_auc' in scoring:\n",
    "            try:\n",
    "                y_score = best_model.predict_proba(X_test)[:, 1]\n",
    "                auc = roc_auc_score(y_test, y_score)\n",
    "                score_results['roc_auc'].append(auc)\n",
    "                if verbose:\n",
    "                    print(f\" AUC: {auc:.4f}\")\n",
    "            except AttributeError:\n",
    "                if verbose:\n",
    "                    print(\"Controlla se il modello ha un metodo `predict_proba`.\")\n",
    "                score_results['roc_auc'].append(np.nan)\n",
    "\n",
    "        if 'r2' in scoring:\n",
    "            r2score = r2_score(y_test, y_pred)\n",
    "            score_results['r2'].append(r2score)\n",
    "\n",
    "            if verbose:\n",
    "                print(f\" R2: {r2score:.4f}\")\n",
    "\n",
    "        if 'mae' in scoring:\n",
    "            mae = mean_absolute_error(y_test, y_pred)\n",
    "            score_results['mae'].append(mae)\n",
    "\n",
    "            if verbose:\n",
    "                print(f\" MAE: {mae:.4f}\")\n",
    "        if 'rmse' in scoring:\n",
    "            rmse = root_mean_squared_error(y_test, y_pred)\n",
    "            score_results['rmse'].append(rmse)\n",
    "\n",
    "            if verbose:\n",
    "                print(f\" RMSE: {rmse:.4f}\")\n",
    "\n",
    "    # Calcolo delle metriche globali (media e deviazione standard)\n",
    "    result = {}\n",
    "    for metric, scores in score_results.items():\n",
    "        result[f\"Nested CV {metric.upper()}\"] = f\"{np.nanmean(scores):.4f} ± {np.nanstd(scores):.4f}\"\n",
    "\n",
    "    result[\"Best Parameters with highest accuracy\"] = best_param_overall\n",
    "\n",
    "    return result"
   ],
   "id": "f1b1cca4864a8b0f",
   "outputs": [],
   "execution_count": 14
  },
  {
   "metadata": {},
   "cell_type": "markdown",
   "source": [
    "# Pipeline SVC\n",
    "Creo una Pipeline dove:\n",
    "1. Effettuo uno scaling con Standard Scaler (Z-score normalization)\n",
    "2. Riduco la dimensionalità con PCA\n",
    "3. Uso un modello di classificazione SVC"
   ],
   "id": "246d24aaa827abd2"
  },
  {
   "metadata": {
    "ExecuteTime": {
     "end_time": "2025-06-30T17:26:34.576900Z",
     "start_time": "2025-06-30T17:26:34.566519Z"
    }
   },
   "cell_type": "code",
   "source": [
    "from sklearn.preprocessing import StandardScaler\n",
    "from sklearn.decomposition import PCA\n",
    "from sklearn.svm import SVC\n",
    "\n",
    "svc_pipeline = Pipeline([\n",
    "    ('scaler', StandardScaler()),\n",
    "    ('pca', PCA(n_components = 2)),\n",
    "    ('svc', SVC())\n",
    "])"
   ],
   "id": "6cf45b37050b2b66",
   "outputs": [],
   "execution_count": 10
  },
  {
   "metadata": {},
   "cell_type": "markdown",
   "source": "## Parametri per la Nested CV",
   "id": "ad7b03a6cad48777"
  },
  {
   "metadata": {
    "ExecuteTime": {
     "end_time": "2025-06-30T17:26:40.045765Z",
     "start_time": "2025-06-30T17:26:40.037764Z"
    }
   },
   "cell_type": "code",
   "source": [
    "params_grid_svc = {\n",
    "    'svc__kernel': ['linear', 'rbf'],\n",
    "    'svc__C': [0.1, 1, 10], # L2 regularization\n",
    "    'svc__gamma': ['scale', 'auto'] # Kernel coefficient for 'rbf', 'poly' and 'sigmoid'\n",
    "}"
   ],
   "id": "b24fd5b22b502dfc",
   "outputs": [],
   "execution_count": 11
  },
  {
   "metadata": {
    "ExecuteTime": {
     "end_time": "2025-06-30T17:30:52.989779Z",
     "start_time": "2025-06-30T17:30:51.960158Z"
    }
   },
   "cell_type": "code",
   "source": [
    "start_time = time.time()\n",
    "\n",
    "result = nested_cv(model = svc_pipeline,\n",
    "                   param_grid = params_grid_svc,\n",
    "                   X = X,\n",
    "                   y = y,\n",
    "                   outer_splits = 5,\n",
    "                   inner_splits = 5,\n",
    "                   scoring = ['accuracy'])\n",
    "\n",
    "end_time = time.time()\n",
    "\n",
    "print(f'Result SVC: \\n{result}')\n",
    "print(f'Elapsed time: {end_time - start_time} s')"
   ],
   "id": "6db121afcaafc065",
   "outputs": [
    {
     "name": "stdout",
     "output_type": "stream",
     "text": [
      "\n",
      "Performing Outer Fold 1/5\n",
      "Performing GridSearchCV...\n",
      " Best Params: {'svc__C': 0.1, 'svc__gamma': 'scale', 'svc__kernel': 'linear'}\n",
      " Accuracy: 1.0000\n",
      "\n",
      "Performing Outer Fold 2/5\n",
      "Performing GridSearchCV...\n",
      " Best Params: {'svc__C': 0.1, 'svc__gamma': 'scale', 'svc__kernel': 'linear'}\n",
      " Accuracy: 0.9444\n",
      "\n",
      "Performing Outer Fold 3/5\n",
      "Performing GridSearchCV...\n",
      " Best Params: {'svc__C': 0.1, 'svc__gamma': 'scale', 'svc__kernel': 'linear'}\n",
      " Accuracy: 0.9722\n",
      "\n",
      "Performing Outer Fold 4/5\n",
      "Performing GridSearchCV...\n",
      " Best Params: {'svc__C': 0.1, 'svc__gamma': 'scale', 'svc__kernel': 'rbf'}\n",
      " Accuracy: 0.9714\n",
      "\n",
      "Performing Outer Fold 5/5\n",
      "Performing GridSearchCV...\n",
      " Best Params: {'svc__C': 1, 'svc__gamma': 'auto', 'svc__kernel': 'rbf'}\n",
      " Accuracy: 0.9143\n",
      "Result SVC: \n",
      "{'Nested CV ACCURACY': '0.9605 ± 0.0290', 'Best Parameters with highest accuracy': {'svc__C': 0.1, 'svc__gamma': 'scale', 'svc__kernel': 'linear'}}\n",
      "Elapsed time: 1.0145187377929688 s\n"
     ]
    }
   ],
   "execution_count": 15
  }
 ],
 "metadata": {
  "kernelspec": {
   "display_name": "Python 3",
   "language": "python",
   "name": "python3"
  },
  "language_info": {
   "codemirror_mode": {
    "name": "ipython",
    "version": 2
   },
   "file_extension": ".py",
   "mimetype": "text/x-python",
   "name": "python",
   "nbconvert_exporter": "python",
   "pygments_lexer": "ipython2",
   "version": "2.7.6"
  }
 },
 "nbformat": 4,
 "nbformat_minor": 5
}
